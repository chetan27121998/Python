{
 "cells": [
  {
   "cell_type": "markdown",
   "id": "784aeb1e",
   "metadata": {},
   "source": [
    "# 20-09-2021"
   ]
  },
  {
   "cell_type": "code",
   "execution_count": 3,
   "id": "f76e5b69",
   "metadata": {},
   "outputs": [
    {
     "name": "stdout",
     "output_type": "stream",
     "text": [
      "Inside:-  <__main__.Employee object at 0x00000273FF9B2040>\n",
      "Inside:-  <__main__.Employee object at 0x00000273FF9B2670>\n",
      "Employee ID:-  101\n",
      "Employee Name:-  Raj\n",
      "outside:-  <__main__.Employee object at 0x00000273FF9B2040>\n",
      "Employee id:-  101\n",
      "Employee name:-  Raj\n"
     ]
    }
   ],
   "source": [
    "class Employee:\n",
    "    \n",
    "    def create(self):\n",
    "        print(\"Inside:- \",self)\n",
    "        \n",
    "        self.eid = 101\n",
    "        self.ename = \"Raj\"\n",
    "        \n",
    "e1 = Employee()  # create object of employee class.\n",
    "e1.create()      # Here we call funciton of employee class.\n",
    "e2 = Employee()\n",
    "e2.create()\n",
    "print(\"Employee ID:- \",e2.eid)\n",
    "print(\"Employee Name:- \",e2.ename)\n",
    "print(\"outside:- \",e1)\n",
    "print(\"Employee id:- \",e1.eid)\n",
    "print(\"Employee name:- \",e1.ename)"
   ]
  },
  {
   "cell_type": "code",
   "execution_count": 4,
   "id": "c4d2171f",
   "metadata": {},
   "outputs": [
    {
     "name": "stdout",
     "output_type": "stream",
     "text": [
      "Employee ID :  101\n",
      "Employee name :  Raj\n",
      "Employee ID :  102\n",
      "Employee name :  Jay\n"
     ]
    }
   ],
   "source": [
    "# Instance funciton : the variable those are define using self word is known as Instance.\n",
    "# This type of variable depend object.\n",
    "# Instance variable alway create seperate copy each object..\n",
    "\n",
    "\n",
    "\n",
    "class Employee:\n",
    "    \n",
    "    # Instance Function: \n",
    "    def create(self,eid,ename):\n",
    "        \n",
    "        # Instance Variable: \n",
    "        self.eid = eid\n",
    "        self.ename = ename\n",
    "        \n",
    "    def show(self):\n",
    "        print(\"Employee ID : \",self.eid)\n",
    "        print(\"Employee name : \",self.ename)\n",
    "\n",
    "e1 = Employee()\n",
    "e2 = Employee()\n",
    "\n",
    "e1.create(101,\"Raj\")\n",
    "e2.create(102,\"Jay\")\n",
    "\n",
    "e1.show()\n",
    "e2.show()"
   ]
  },
  {
   "cell_type": "code",
   "execution_count": 5,
   "id": "56632d73",
   "metadata": {},
   "outputs": [
    {
     "name": "stdout",
     "output_type": "stream",
     "text": [
      "Area of rectangle:  300\n",
      "Perimeter of rectangle:  74\n",
      "Perimeter of Rectangle:  27.730849247724095\n"
     ]
    }
   ],
   "source": [
    "import math as m\n",
    "\n",
    "class Rectangle:\n",
    "    \n",
    "    # Area of Rectanle:\n",
    "    def area(self,l,b):\n",
    "        print(\"Area of rectangle: \", l*b)\n",
    "    \n",
    "    # Perimeter\n",
    "    def perimeter(self,l,b):\n",
    "        print(\"Perimeter of rectangle: \",2*(l+b))\n",
    "        \n",
    "    \n",
    "    # Diagonal ---> square root of sum of lenght square + breadth square\n",
    "    def diagonal(self,l,b):\n",
    "        print(\"Perimeter of Rectangle: \", m.sqrt((l**2)+(b**2)))\n",
    "\n",
    "# Create object\n",
    "\n",
    "r1 = Rectangle()\n",
    "r1.area(12,25)\n",
    "r1.perimeter(12,25)\n",
    "r1.diagonal(12,25)"
   ]
  },
  {
   "cell_type": "code",
   "execution_count": 6,
   "id": "75221371",
   "metadata": {},
   "outputs": [
    {
     "name": "stdout",
     "output_type": "stream",
     "text": [
      "student id : 101\n",
      "student name:  Chetan\n"
     ]
    }
   ],
   "source": [
    "class student:\n",
    "    \n",
    "    def stud(Self,stud_id,stud_name):\n",
    "        print(\"student id :\",stud_id)\n",
    "        print(\"student name: \",stud_name)\n",
    "\n",
    "# Create object:        \n",
    "f1 = student()\n",
    "\n",
    "f1.stud(101,\"Chetan\")"
   ]
  },
  {
   "cell_type": "code",
   "execution_count": 7,
   "id": "3496831d",
   "metadata": {},
   "outputs": [
    {
     "name": "stdout",
     "output_type": "stream",
     "text": [
      "Area of rectangle:  300\n",
      "Perimeter of rectangle:  74\n",
      "Perimeter of Rectangle:  27.730849247724095\n"
     ]
    }
   ],
   "source": [
    "class Rectangle:\n",
    "    \n",
    "    def create(self,l,b):\n",
    "        self.l = l\n",
    "        self.b = b\n",
    "    \n",
    "    # Area of Rectanle:\n",
    "    def area(self):\n",
    "        print(\"Area of rectangle: \", self.l*self.b)\n",
    "    \n",
    "    # Perimeter\n",
    "    def perimeter(self):\n",
    "        print(\"Perimeter of rectangle: \",2*(self.l+self.b))\n",
    "        \n",
    "    \n",
    "    # Diagonal ---> square root of sum of lenght square + breadth square\n",
    "    def diagonal(self):\n",
    "        print(\"Perimeter of Rectangle: \", m.sqrt((self.l**2)+(self.b**2))) \n",
    "\n",
    "# Create Rectangle:\n",
    "\n",
    "r1 =Rectangle()\n",
    "r1.create(12,25)\n",
    "r1.area()\n",
    "r1.perimeter()\n",
    "r1.diagonal()   "
   ]
  },
  {
   "cell_type": "markdown",
   "id": "fb2f6e6c",
   "metadata": {},
   "source": [
    "# 21-09-2021"
   ]
  },
  {
   "cell_type": "code",
   "execution_count": 8,
   "id": "2b49a554",
   "metadata": {},
   "outputs": [
    {
     "name": "stdout",
     "output_type": "stream",
     "text": [
      "Emp-ID:  101\n",
      "Emp-Name:  Raj\n",
      "Emp-ID:  101\n",
      "Emp-Name:  Raj\n"
     ]
    }
   ],
   "source": [
    "# Non- Parameterized Constructor:\n",
    "\n",
    "class Employee:\n",
    "    \n",
    "    # Instance method\n",
    "    def __init__(self):\n",
    "        # print(\"HI, I am constructor\")\n",
    "        \n",
    "        # Properties:\n",
    "        self.eid = 101\n",
    "        self.ename = \"Raj\"\n",
    "        \n",
    "\n",
    "#Calling the class        \n",
    "e1 = Employee()\n",
    "print(\"Emp-ID: \",e1.eid)\n",
    "print(\"Emp-Name: \",e1.ename)\n",
    "\n",
    "# Calling the class \n",
    "e2 = Employee()\n",
    "print(\"Emp-ID: \",e2.eid)\n",
    "print(\"Emp-Name: \",e2.ename)"
   ]
  },
  {
   "cell_type": "code",
   "execution_count": 9,
   "id": "a06139ec",
   "metadata": {},
   "outputs": [
    {
     "name": "stdout",
     "output_type": "stream",
     "text": [
      "Emp-ID:  101\n",
      "Emp- Name:  Raj\n",
      "Emp-ID:  102\n",
      "Emp- Name:  Jay\n"
     ]
    }
   ],
   "source": [
    "# Parameterized constructor:\n",
    "\n",
    "class Employee:\n",
    "    \n",
    "    # Instance method\n",
    "    def __init__(self,eid,ename):\n",
    "        \n",
    "        self.eid = eid\n",
    "        self.ename = ename\n",
    "        \n",
    "e1 = Employee(101,\"Raj\")\n",
    "e2 = Employee(102,\"Jay\")                            \n",
    "\n",
    "\n",
    "print(\"Emp-ID: \",e1.eid)\n",
    "print(\"Emp- Name: \",e1.ename)\n",
    "print(\"Emp-ID: \",e2.eid)\n",
    "print(\"Emp- Name: \",e2.ename)"
   ]
  },
  {
   "cell_type": "code",
   "execution_count": 5,
   "id": "791f0cf2",
   "metadata": {},
   "outputs": [
    {
     "name": "stdout",
     "output_type": "stream",
     "text": [
      "Hi\n",
      "Program Complete.\n",
      "Destructor is invoke, object get deleted. \n"
     ]
    }
   ],
   "source": [
    "# Destructor:\n",
    "\n",
    "class test:\n",
    "    \n",
    "    def __del__(self):\n",
    "        print(\"Destructor is invoke, object get deleted. \")\n",
    "        \n",
    "t1 = test()\n",
    "print(\"Hi\")\n",
    "print(\"Program Complete.\")\n",
    "\n",
    "# Manually delete:\n",
    "del t1"
   ]
  },
  {
   "cell_type": "code",
   "execution_count": 27,
   "id": "30d944be",
   "metadata": {},
   "outputs": [
    {
     "name": "stdout",
     "output_type": "stream",
     "text": [
      "student[101,Jay]\n",
      "student[102,Rahul]\n"
     ]
    }
   ],
   "source": [
    "# Class which we have created is the user define\n",
    "\n",
    "class student:\n",
    "    \n",
    "    def __init__(self,stud_id,stud_name):\n",
    "        \n",
    "        self.stud_id = stud_id\n",
    "        self.stud_name = stud_name\n",
    "        \n",
    "    # If you not define the methods in class, then it will print address of object.    \n",
    "    def __str__(self):\n",
    "        return f'student[{self.stud_id},{self.stud_name}]'\n",
    "        \n",
    "s1 = student(101,\"Jay\")\n",
    "s2 = student(102,\"Rahul\")\n",
    "\n",
    "# try to print object:\n",
    "print(s1)           # It will print address of object.\n",
    "print(s2)"
   ]
  },
  {
   "cell_type": "code",
   "execution_count": 28,
   "id": "5f74cb4f",
   "metadata": {},
   "outputs": [
    {
     "name": "stdout",
     "output_type": "stream",
     "text": [
      "(<__main__.student object at 0x000001ED72ABE9D0>, <__main__.student object at 0x000001ED72ABE490>)\n",
      "student[101,Jay]\n"
     ]
    }
   ],
   "source": [
    "l1 = (s1,s2)\n",
    "print(l1)\n",
    "\n",
    "print(l1[0])"
   ]
  },
  {
   "cell_type": "markdown",
   "id": "e0a31650",
   "metadata": {},
   "source": [
    "### Static Variable:"
   ]
  },
  {
   "cell_type": "code",
   "execution_count": 13,
   "id": "4d30f3af",
   "metadata": {},
   "outputs": [
    {
     "name": "stdout",
     "output_type": "stream",
     "text": [
      "101 Raj R.J.College\n",
      "102 Jay R.J.College\n",
      "--------------------------------------------------------------------------------\n",
      "101 Raj S.P.college\n",
      "102 Jay R.J.College\n",
      "--------------------------------------------------------------------------------\n",
      "101 Raj S.P.college\n",
      "102 Jay S.P.College\n"
     ]
    }
   ],
   "source": [
    "# Static Variable:\n",
    "# Static variable cannot be private.\n",
    "class student:\n",
    "    \n",
    "    # Static Variable:\n",
    "    clg_name = \"R.J.College\"\n",
    "    \n",
    "    def __init__(self,sid,sname):\n",
    "        \n",
    "        # Instance \n",
    "        self.sid = sid\n",
    "        self.sname = sname\n",
    "        \n",
    "s1 = student(101,\"Raj\")\n",
    "s2 = student(102,\"Jay\")\n",
    "print(s1.sid, s1.sname, s1.clg_name) \n",
    "print(s2.sid, s2.sname, s2.clg_name)\n",
    "print(\"-\"*80)\n",
    "s1.clg_name = \"S.P.college\"  # it is not edited but create the new variable for.\n",
    "print(s1.sid, s1.sname, s1.clg_name) \n",
    "print(s2.sid, s2.sname, s2.clg_name)\n",
    "print(\"-\"*80)\n",
    "student.clg_name = \"S.P.College\"\n",
    "print(s1.sid, s1.sname, s1.clg_name) \n",
    "print(s2.sid, s2.sname, s2.clg_name)"
   ]
  },
  {
   "cell_type": "markdown",
   "id": "c96421e1",
   "metadata": {},
   "source": [
    "# Static Methods"
   ]
  },
  {
   "cell_type": "code",
   "execution_count": 14,
   "id": "0458e403",
   "metadata": {},
   "outputs": [
    {
     "name": "stdout",
     "output_type": "stream",
     "text": [
      "101 Raj S.P.College\n",
      "S.P.College\n",
      "S.P.College\n"
     ]
    }
   ],
   "source": [
    "class student:\n",
    "    \n",
    "    # Static Variable:\n",
    "    clg_name = None\n",
    "    \n",
    "    def __init__(self,sid,sname):\n",
    "        \n",
    "        # Instance \n",
    "        self.sid = sid\n",
    "        self.sname = sname\n",
    "        \n",
    "     # Static Methods:     \n",
    "    def setclgname(clg_name):\n",
    "        student.clg_name = clg_name\n",
    "        \n",
    "    @staticmethod  # declaring the method \n",
    "                   # also known as Python Decorator.\n",
    "        # because of static methods decorator we can call class name as well as object.\n",
    "    def showclgname():\n",
    "        print(student.clg_name)\n",
    "        \n",
    "        \n",
    "student.setclgname(\"S.P.College\")  # Static method is called from class name\n",
    "s1 = student(101,\"Raj\")\n",
    "print(s1.sid,s1.sname,s1.clg_name)\n",
    "student.showclgname()\n",
    "s1.showclgname()    "
   ]
  },
  {
   "cell_type": "markdown",
   "id": "d10ea1da",
   "metadata": {},
   "source": [
    "# 22-09-2021"
   ]
  },
  {
   "cell_type": "code",
   "execution_count": 2,
   "id": "f6f4b415",
   "metadata": {},
   "outputs": [],
   "source": [
    "# Inheritance\n",
    "\n",
    "class person:\n",
    "    def create_P(self):\n",
    "        self.name = \"Raj\"\n",
    "        self.age = 22"
   ]
  },
  {
   "cell_type": "code",
   "execution_count": 3,
   "id": "1d82faa4",
   "metadata": {},
   "outputs": [
    {
     "name": "stdout",
     "output_type": "stream",
     "text": [
      "101 Raj 22\n"
     ]
    }
   ],
   "source": [
    "class student(person):\n",
    "    def create_S(self):\n",
    "        self.id = 101\n",
    "        self.create_P()\n",
    "        \n",
    "s1 = student()\n",
    "s1.create_S()\n",
    "print(s1.id,s1.name,s1.age)"
   ]
  },
  {
   "cell_type": "code",
   "execution_count": 17,
   "id": "246ace2d",
   "metadata": {},
   "outputs": [
    {
     "name": "stdout",
     "output_type": "stream",
     "text": [
      "101 Chetan 22\n"
     ]
    }
   ],
   "source": [
    "# 2nd way to execute:\n",
    "class person:\n",
    "    def create_P(self,name,age):\n",
    "        self.name = name\n",
    "        self.age = age\n",
    "        \n",
    "class student(person):\n",
    "    def create_S(self,id,name,age):\n",
    "        self.id = id\n",
    "        self.create_P(name,age)\n",
    "        \n",
    "s1 = student()\n",
    "s1.create_S(101,\"Chetan\",22)\n",
    "print(s1.id,s1.name,s1.age)"
   ]
  },
  {
   "cell_type": "code",
   "execution_count": 18,
   "id": "4594a90d",
   "metadata": {},
   "outputs": [
    {
     "name": "stdout",
     "output_type": "stream",
     "text": [
      "I am constructor of class A\n",
      "I am constructor of class B\n"
     ]
    }
   ],
   "source": [
    "# Using__init__\n",
    "class A:\n",
    "    def __init__(self):\n",
    "        print(\"I am constructor of class A\")\n",
    "        \n",
    "class B(A):\n",
    "    def __init__(self):\n",
    "        super().__init__()    #Method , not a keyword.\n",
    "        print(\"I am constructor of class B\")\n",
    "        \n",
    "\n",
    "obj = B()  # I am constructor of class B"
   ]
  },
  {
   "cell_type": "code",
   "execution_count": 19,
   "id": "f6878cff",
   "metadata": {},
   "outputs": [
    {
     "name": "stdout",
     "output_type": "stream",
     "text": [
      "name:  Raj\n"
     ]
    },
    {
     "ename": "AttributeError",
     "evalue": "'super' object has no attribute 'name'",
     "output_type": "error",
     "traceback": [
      "\u001b[1;31m---------------------------------------------------------------------------\u001b[0m",
      "\u001b[1;31mAttributeError\u001b[0m                            Traceback (most recent call last)",
      "\u001b[1;32m<ipython-input-19-4bcbc0d31ccd>\u001b[0m in \u001b[0;36m<module>\u001b[1;34m\u001b[0m\n\u001b[0;32m     15\u001b[0m \u001b[1;33m\u001b[0m\u001b[0m\n\u001b[0;32m     16\u001b[0m \u001b[0ms1\u001b[0m\u001b[1;33m=\u001b[0m \u001b[0mson\u001b[0m\u001b[1;33m(\u001b[0m\u001b[1;33m)\u001b[0m\u001b[1;33m\u001b[0m\u001b[1;33m\u001b[0m\u001b[0m\n\u001b[1;32m---> 17\u001b[1;33m \u001b[0ms1\u001b[0m\u001b[1;33m.\u001b[0m\u001b[0mshow\u001b[0m\u001b[1;33m(\u001b[0m\u001b[1;33m)\u001b[0m\u001b[1;33m\u001b[0m\u001b[1;33m\u001b[0m\u001b[0m\n\u001b[0m",
      "\u001b[1;32m<ipython-input-19-4bcbc0d31ccd>\u001b[0m in \u001b[0;36mshow\u001b[1;34m(self)\u001b[0m\n\u001b[0;32m     12\u001b[0m     \u001b[1;32mdef\u001b[0m \u001b[0mshow\u001b[0m\u001b[1;33m(\u001b[0m\u001b[0mself\u001b[0m\u001b[1;33m)\u001b[0m\u001b[1;33m:\u001b[0m\u001b[1;33m\u001b[0m\u001b[1;33m\u001b[0m\u001b[0m\n\u001b[0;32m     13\u001b[0m         \u001b[0mprint\u001b[0m\u001b[1;33m(\u001b[0m\u001b[1;34m\"name: \"\u001b[0m\u001b[1;33m,\u001b[0m\u001b[0mself\u001b[0m\u001b[1;33m.\u001b[0m\u001b[0mname\u001b[0m\u001b[1;33m)\u001b[0m\u001b[1;33m\u001b[0m\u001b[1;33m\u001b[0m\u001b[0m\n\u001b[1;32m---> 14\u001b[1;33m         \u001b[0mprint\u001b[0m\u001b[1;33m(\u001b[0m\u001b[1;34m\"Dad_name: \"\u001b[0m\u001b[1;33m,\u001b[0m\u001b[0msuper\u001b[0m\u001b[1;33m(\u001b[0m\u001b[1;33m)\u001b[0m\u001b[1;33m.\u001b[0m\u001b[0mname\u001b[0m\u001b[1;33m)\u001b[0m\u001b[1;33m\u001b[0m\u001b[1;33m\u001b[0m\u001b[0m\n\u001b[0m\u001b[0;32m     15\u001b[0m \u001b[1;33m\u001b[0m\u001b[0m\n\u001b[0;32m     16\u001b[0m \u001b[0ms1\u001b[0m\u001b[1;33m=\u001b[0m \u001b[0mson\u001b[0m\u001b[1;33m(\u001b[0m\u001b[1;33m)\u001b[0m\u001b[1;33m\u001b[0m\u001b[1;33m\u001b[0m\u001b[0m\n",
      "\u001b[1;31mAttributeError\u001b[0m: 'super' object has no attribute 'name'"
     ]
    }
   ],
   "source": [
    "class dad:\n",
    "    \n",
    "    def __init__(self):\n",
    "        self.name = \"Jay\"\n",
    "\n",
    "class son(dad):\n",
    "    def __init__(self):\n",
    "        super().__init__()\n",
    "        self.name = \"Raj\"\n",
    "\n",
    "        \n",
    "    def show(self):\n",
    "        print(\"name: \",self.name)\n",
    "        print(\"Dad_name: \",super().name)\n",
    "        \n",
    "s1= son()\n",
    "s1.show()"
   ]
  },
  {
   "cell_type": "code",
   "execution_count": 1,
   "id": "868d0a6f",
   "metadata": {
    "scrolled": true
   },
   "outputs": [
    {
     "name": "stdout",
     "output_type": "stream",
     "text": [
      "name:  Raj\n",
      "Dad_name:  Jay\n"
     ]
    }
   ],
   "source": [
    "class dad:\n",
    "    name = \"Jay\"\n",
    "\n",
    "class son(dad):\n",
    "    name = \"Raj\"                    \n",
    "\n",
    "        \n",
    "    def show(self):\n",
    "        print(\"name: \",self.name)\n",
    "        super().__init__()\n",
    "        print(\"Dad_name: \",super().name)\n",
    "        \n",
    "s1= son()                                                                                                           \n",
    "s1.show()"
   ]
  },
  {
   "cell_type": "code",
   "execution_count": 20,
   "id": "60d0adac",
   "metadata": {},
   "outputs": [
    {
     "name": "stdout",
     "output_type": "stream",
     "text": [
      "This is person class\n",
      "This is Employee class\n",
      "This is Manager class\n"
     ]
    }
   ],
   "source": [
    "# Multi-Level Inheritance:\n",
    "class person:\n",
    "    def m1(self):\n",
    "        print(\"This is person class\")\n",
    "    \n",
    "class Employee(person):\n",
    "    def m2(self):\n",
    "        print(\"This is Employee class\")\n",
    "\n",
    "class Manager(Employee):\n",
    "    def m3(self):\n",
    "        print(\"This is Manager class\")\n",
    "    \n",
    "    \n",
    "s1 = Manager()\n",
    "s1.m1()\n",
    "s1.m2()\n",
    "s1.m3()"
   ]
  },
  {
   "cell_type": "code",
   "execution_count": 6,
   "id": "d7644742",
   "metadata": {},
   "outputs": [
    {
     "name": "stdout",
     "output_type": "stream",
     "text": [
      "This is person class.\n",
      "This is department.\n",
      "This is Employee class.\n"
     ]
    }
   ],
   "source": [
    "# Multiple Inheritance:\n",
    "class person:     # Here the inheritance is not given so, there is object.because obejct is parent of all class.\n",
    "    def m1(self):\n",
    "        print(\"This is person class.\")\n",
    "        \n",
    "class department:\n",
    "    def m2(self):\n",
    "        print(\"This is department.\")\n",
    "    \n",
    "class Employee(person,department):   # In the brackets order matter the most while executing the program.\n",
    "    def m3(self):\n",
    "        print(\"This is Employee class.\")\n",
    "    \n",
    "\n",
    "    \n",
    "    \n",
    "s1 = Employee()\n",
    "s1.m1()\n",
    "s1.m2()\n",
    "s1.m3()"
   ]
  },
  {
   "cell_type": "markdown",
   "id": "bd714a60",
   "metadata": {},
   "source": [
    "# 23-09-2021"
   ]
  },
  {
   "cell_type": "markdown",
   "id": "e6595936",
   "metadata": {},
   "source": [
    "# Method resolution order:"
   ]
  },
  {
   "cell_type": "code",
   "execution_count": 9,
   "id": "b664e57a",
   "metadata": {},
   "outputs": [
    {
     "name": "stdout",
     "output_type": "stream",
     "text": [
      "[<class '__main__.person'>, <class 'object'>]\n",
      "[<class '__main__.department'>, <class 'object'>]\n",
      "[<class '__main__.Employee'>, <class '__main__.person'>, <class '__main__.department'>, <class 'object'>]\n"
     ]
    }
   ],
   "source": [
    "# Method resolution order:\n",
    "# if we don't the order of the program, then we can use method resolution order:\n",
    "print(person.mro())\n",
    "print(department.mro())\n",
    "print(Employee.mro())"
   ]
  },
  {
   "cell_type": "code",
   "execution_count": 12,
   "id": "5d366c07",
   "metadata": {},
   "outputs": [
    {
     "name": "stdout",
     "output_type": "stream",
     "text": [
      "Method of A1 CLASS\n",
      "Method of A2 class\n",
      "Method of B class\n"
     ]
    }
   ],
   "source": [
    "# Multiple inheritance when all the class having same method , then how to handle it ?\n",
    "class A1:\n",
    "    def m1(self):\n",
    "        print(\"Method of A1 CLASS\")\n",
    "class A2:\n",
    "    def m1(self):\n",
    "        print(\"Method of A2 class\")\n",
    "class B(A1,A2):\n",
    "    def m1(self):\n",
    "        super().m1()\n",
    "        A2.m1(self)\n",
    "        print(\"Method of B class\")\n",
    "        \n",
    "obj = B()\n",
    "obj.m1()"
   ]
  },
  {
   "cell_type": "code",
   "execution_count": 13,
   "id": "bdd98218",
   "metadata": {},
   "outputs": [
    {
     "name": "stdout",
     "output_type": "stream",
     "text": [
      "Method of A1 CLASS\n",
      "Method of A2 class\n",
      "Method of B class\n"
     ]
    }
   ],
   "source": [
    "# Alternate calling command:\n",
    "B.m1(obj)"
   ]
  },
  {
   "cell_type": "code",
   "execution_count": 19,
   "id": "2fc54a55",
   "metadata": {},
   "outputs": [
    {
     "name": "stdout",
     "output_type": "stream",
     "text": [
      "I am vehicle class method.\n",
      "I am Bike class method. \n",
      "--------------------------------------------------------------------------------\n",
      "I am vehicle class method.\n",
      "I am Car class method.\n"
     ]
    }
   ],
   "source": [
    "# Hierarchical Inheritance:\n",
    "class vehicle:\n",
    "    def m1(self):\n",
    "        print(\"I am vehicle class method.\")\n",
    "\n",
    "class Bike(vehicle):\n",
    "    def m2(self):\n",
    "        print(\"I am Bike class method. \")\n",
    "        \n",
    "class Car(vehicle):\n",
    "    def m3(self):\n",
    "        print(\"I am Car class method.\")\n",
    "        \n",
    "objBike = Bike()\n",
    "objBike.m1()\n",
    "objBike.m2()\n",
    "print(\"-\"*80)\n",
    "objCar = Car()\n",
    "objCar.m1()\n",
    "objCar.m3()"
   ]
  },
  {
   "cell_type": "markdown",
   "id": "e1d878fc",
   "metadata": {},
   "source": [
    "# Hybrid Inheritance"
   ]
  },
  {
   "cell_type": "code",
   "execution_count": null,
   "id": "ac2f6714",
   "metadata": {},
   "outputs": [],
   "source": []
  },
  {
   "cell_type": "code",
   "execution_count": 29,
   "id": "55c6397a",
   "metadata": {},
   "outputs": [
    {
     "name": "stdout",
     "output_type": "stream",
     "text": [
      "student[101,Jay]\n",
      "student[102,Rahul]\n",
      "((101,Jay), (102,Rahul))\n"
     ]
    }
   ],
   "source": [
    "# __repr__ is method used to represent object in str format inside iterable object.\n",
    "class student:\n",
    "    \n",
    "    def __init__(self,stud_id,stud_name):\n",
    "        \n",
    "        self.stud_id = stud_id\n",
    "        self.stud_name = stud_name\n",
    "        \n",
    "    def __repr__(self):\n",
    "        return f'({self.stud_id},{self.stud_name})'\n",
    "        \n",
    "    # If you not define the methods in class, then it will print address of object.    \n",
    "    def __str__(self):\n",
    "        return f'student[{self.stud_id},{self.stud_name}]'\n",
    "        \n",
    "s1 = student(101,\"Jay\")\n",
    "s2 = student(102,\"Rahul\")\n",
    "\n",
    "# try to print object:\n",
    "print(s1)           # It will print address of object.\n",
    "print(s2)\n",
    "\n",
    "l1 = (s1,s2)\n",
    "print(l1)\n"
   ]
  },
  {
   "cell_type": "markdown",
   "id": "64ab0ff8",
   "metadata": {},
   "source": [
    "# Polymorphism"
   ]
  },
  {
   "cell_type": "code",
   "execution_count": 31,
   "id": "e59f0f7a",
   "metadata": {},
   "outputs": [
    {
     "name": "stdout",
     "output_type": "stream",
     "text": [
      "3\n",
      "4\n"
     ]
    }
   ],
   "source": [
    "# In python same method perform action for different type.\n",
    "# Built-in method of polymorphism.\n",
    "\n",
    "len1 = len(\"Raj\")\n",
    "len2 = len([4,7,8,9])\n",
    "print(len1)\n",
    "print(len2)"
   ]
  },
  {
   "cell_type": "code",
   "execution_count": 32,
   "id": "b07b4cbb",
   "metadata": {},
   "outputs": [
    {
     "name": "stdout",
     "output_type": "stream",
     "text": [
      "Function with 3 parameters:  6\n",
      "Function with 2 parameters:  3\n",
      "Fuction with 1 parameters:  1\n"
     ]
    }
   ],
   "source": [
    "# User define:\n",
    "def add(n1,n2=0,n3=0):\n",
    "    return n1 + n2 + n3\n",
    "print(\"Function with 3 parameters: \",add(1,2,3))\n",
    "print(\"Function with 2 parameters: \",add(1,2))\n",
    "print(\"Fuction with 1 parameters: \", add(1))"
   ]
  },
  {
   "cell_type": "code",
   "execution_count": 33,
   "id": "01ebc71e",
   "metadata": {},
   "outputs": [
    {
     "name": "stdout",
     "output_type": "stream",
     "text": [
      "Every animal eat something \n"
     ]
    }
   ],
   "source": [
    "# Polymorphism with inheritance:\n",
    "# In inheritance polymorphism is achieve by using method overriding.\n",
    "# what method overriding?\n",
    "# when parent class and child class having method with same name parameter list is known methods overriding.\n",
    "# Why polymorphism needed\n",
    "'''when child is not satisfy with parent definition, then child can redefine same method in own class'''\n",
    "# Without overriding method:\n",
    "class animal:\n",
    "    def eat(self):\n",
    "        print(\"Every animal eat something \")\n",
    "class cat(animal):\n",
    "    pass\n",
    "\n",
    "\n",
    "obj = cat()\n",
    "obj.eat()"
   ]
  },
  {
   "cell_type": "code",
   "execution_count": 34,
   "id": "85219550",
   "metadata": {},
   "outputs": [
    {
     "name": "stdout",
     "output_type": "stream",
     "text": [
      "Every cat love to eat fish\n"
     ]
    }
   ],
   "source": [
    "# Without overriding method:\n",
    "class animal:\n",
    "    def eat(self):\n",
    "        print(\"Every animal eat something \")\n",
    "class cat(animal):\n",
    "    def eat(self):\n",
    "        print(\"Every cat love to eat fish\")\n",
    "\n",
    "\n",
    "obj = cat()\n",
    "obj.eat()"
   ]
  },
  {
   "cell_type": "code",
   "execution_count": 36,
   "id": "be95f9d5",
   "metadata": {},
   "outputs": [
    {
     "name": "stdout",
     "output_type": "stream",
     "text": [
      "Every animal eat something \n",
      "Every cat love to eat fish\n"
     ]
    }
   ],
   "source": [
    "# Super option\n",
    "class animal:\n",
    "    def eat(self):\n",
    "        print(\"Every animal eat something \")\n",
    "class cat(animal):\n",
    "    def eat(self):\n",
    "        super().eat()\n",
    "        print(\"Every cat love to eat fish\")\n",
    "obj = cat()\n",
    "obj.eat()"
   ]
  },
  {
   "cell_type": "code",
   "execution_count": 41,
   "id": "136d388b",
   "metadata": {},
   "outputs": [],
   "source": [
    "# Polymorphism with operators:\n",
    "class Circle:\n",
    "    def __init__(self,radius=0):\n",
    "        self.radius = radius\n",
    "    def __add__(self,other):\n",
    "        obbj = Circle()\n",
    "        obj.radius = self.radius + other.radius\n",
    "        return obj\n",
    "    def __lt__(self,other):\n",
    "        return self.radius<other.radius\n",
    "    \n",
    "    def __str__(self):\n",
    "        return f'Cirlce[radius = {self.radius}]'\n",
    "    "
   ]
  },
  {
   "cell_type": "code",
   "execution_count": 42,
   "id": "efd9ead5",
   "metadata": {},
   "outputs": [
    {
     "name": "stdout",
     "output_type": "stream",
     "text": [
      "Cirlce[radius = 2.3]\n",
      "Cirlce[radius = 3.3]\n"
     ]
    }
   ],
   "source": [
    "c1 = Circle(2.3)\n",
    "c2 = Circle(3.3)\n",
    "print(c1)\n",
    "print(c2)"
   ]
  },
  {
   "cell_type": "code",
   "execution_count": null,
   "id": "03a4e0b2",
   "metadata": {},
   "outputs": [],
   "source": []
  }
 ],
 "metadata": {
  "kernelspec": {
   "display_name": "Python 3",
   "language": "python",
   "name": "python3"
  },
  "language_info": {
   "codemirror_mode": {
    "name": "ipython",
    "version": 3
   },
   "file_extension": ".py",
   "mimetype": "text/x-python",
   "name": "python",
   "nbconvert_exporter": "python",
   "pygments_lexer": "ipython3",
   "version": "3.8.8"
  }
 },
 "nbformat": 4,
 "nbformat_minor": 5
}
