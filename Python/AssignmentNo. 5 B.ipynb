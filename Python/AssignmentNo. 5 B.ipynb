{
 "cells": [
  {
   "cell_type": "markdown",
   "metadata": {},
   "source": [
    "# 1) Write a program to print number between 1 to 50 ascending in descending order."
   ]
  },
  {
   "cell_type": "code",
   "execution_count": 54,
   "metadata": {},
   "outputs": [
    {
     "name": "stdout",
     "output_type": "stream",
     "text": [
      "[1, 2, 3, 4, 5, 6, 7, 8, 9, 10, 11, 12, 13, 14, 15, 16, 17, 18, 19, 20, 21, 22, 23, 24, 25, 26, 27, 28, 29, 30, 31, 32, 33, 34, 35, 36, 37, 38, 39, 40, 41, 42, 43, 44, 45, 46, 47, 48, 49, 50]\n",
      "Ascending order of number\n",
      "Descending order of number\n"
     ]
    }
   ],
   "source": [
    "num = []\n",
    "for i in range(1, 51):\n",
    "    num.append(i)\n",
    "    \n",
    "# Executing the original number list of 1 to 50.\n",
    "print(num)\n",
    "\n",
    "# By using the sorting function execute ascending order  list of numbers.\n",
    "num.sort()\n",
    "print(\"Ascending order of number\")\n",
    "\n",
    "# By using the sorting with reverse function descending order list of number.\n",
    "num.sort(reverse=True)\n",
    "print(\"Descending order of number\")"
   ]
  },
  {
   "cell_type": "markdown",
   "metadata": {},
   "source": [
    "# 2).  Write a program to print odd numbers between 1 to 50 ."
   ]
  },
  {
   "cell_type": "code",
   "execution_count": 26,
   "metadata": {},
   "outputs": [
    {
     "name": "stdout",
     "output_type": "stream",
     "text": [
      "1 3 5 7 9 11 13 15 17 19 21 23 25 27 29 31 33 35 37 39 41 43 45 47 49 All are Odd numbers\n"
     ]
    }
   ],
   "source": [
    "# Creating the range from 1 to 50 and adding step of 2 for odd numbers.\n",
    "for num in range(1,51,2):\n",
    "    \n",
    "    # print range which is assign to \" num \" and \" end=\"\" \" for we line \n",
    "    print(num, end=' ')\n",
    "print('All are Odd numbers')"
   ]
  },
  {
   "cell_type": "markdown",
   "metadata": {},
   "source": [
    "# 3) Write a program to calculate factorial of user entered number ."
   ]
  },
  {
   "cell_type": "code",
   "execution_count": 44,
   "metadata": {},
   "outputs": [
    {
     "name": "stdout",
     "output_type": "stream",
     "text": [
      "Enter your number: 4\n",
      "The Factorial Number of  4  =  24\n"
     ]
    }
   ],
   "source": [
    "# Taking input from the user.\n",
    "Num1 = int(input(\"Enter your number: \"))\n",
    "Num2 = 1\n",
    "\n",
    "for i in range(1, Num1+1):\n",
    "    Num2 *= i\n",
    "print(\"The Factorial Number of \", Num1,\" = \",Num2)"
   ]
  },
  {
   "cell_type": "markdown",
   "metadata": {},
   "source": [
    "# 4). write a program to display multiplication table for given number . "
   ]
  },
  {
   "cell_type": "code",
   "execution_count": 20,
   "metadata": {},
   "outputs": [
    {
     "name": "stdout",
     "output_type": "stream",
     "text": [
      "Enter your number: 3\n",
      "3 * 1 = 3\n",
      "3 * 2 = 6\n",
      "3 * 3 = 9\n",
      "3 * 4 = 12\n",
      "3 * 5 = 15\n",
      "3 * 6 = 18\n",
      "3 * 7 = 21\n",
      "3 * 8 = 24\n",
      "3 * 9 = 27\n",
      "3 * 10 = 30\n"
     ]
    }
   ],
   "source": [
    "# Creating input format for the user to enter number.\n",
    "num=int(input('Enter your number: '))\n",
    "\n",
    "# As the range format 1 to 10 we have create the range and assign it with \" i \"\n",
    "for i in range(1,11):\n",
    "    \n",
    "    # Now print the multiplication table as = num * i\n",
    "    print(num,'*',i,'=',num*i )"
   ]
  },
  {
   "cell_type": "markdown",
   "metadata": {},
   "source": [
    "# 5. Write a program to do sum of user entered 10 number ."
   ]
  },
  {
   "cell_type": "code",
   "execution_count": 27,
   "metadata": {
    "scrolled": true
   },
   "outputs": [
    {
     "name": "stdout",
     "output_type": "stream",
     "text": [
      "Enter your 10 numbers \n",
      "Enter your numbers list: 1\n",
      "Enter your numbers list: 1\n",
      "Enter your numbers list: 1\n",
      "Enter your numbers list: 1\n",
      "Enter your numbers list: 1\n",
      "Enter your numbers list: 1\n",
      "Enter your numbers list: 1\n",
      "Enter your numbers list: 1\n",
      "Enter your numbers list: 1\n",
      "Enter your numbers list: 1\n",
      "10.0\n"
     ]
    }
   ],
   "source": [
    "# Creating the empty list[].\n",
    "List_1=[] \n",
    "\n",
    "#Commanding the user to enter his numbers.\n",
    "print(\"Enter your 10 numbers \")\n",
    "\n",
    "# Enter Number should be in range format up to 10 entry only.\n",
    "for num in range(10):\n",
    "    num=float(input(\"Enter your numbers list: \")) # assignment the user entered values only 10 entry.\n",
    "    \n",
    "    # Here our empty we have created getting filled with above entery  of numbers\n",
    "    List_1.append(num)\n",
    "    \n",
    "# With the help of the sum function we can do addition of all the numbers entered by user in list.\n",
    "print(sum(List_1))\n"
   ]
  },
  {
   "cell_type": "markdown",
   "metadata": {},
   "source": [
    "# 6) Write a program to reverse user entered number  \n",
    "\n",
    "      n= 123 \n",
    "\n",
    "      rev=321"
   ]
  },
  {
   "cell_type": "code",
   "execution_count": 41,
   "metadata": {},
   "outputs": [
    {
     "name": "stdout",
     "output_type": "stream",
     "text": [
      "enter your number 456\n",
      "Reverse of your number 654\n"
     ]
    }
   ],
   "source": [
    "#reverse of a numbers.\n",
    "Num1 = int(input(\"enter your number \"))\n",
    "rev = 0\n",
    "while Num1>0:\n",
    "    digit = Num1%10\n",
    "    rev = rev * 10 + digit\n",
    "    Num1 = Num1//10\n",
    "print(\"Reverse of your number\", rev)\n"
   ]
  },
  {
   "cell_type": "markdown",
   "metadata": {},
   "source": [
    "# 7) write a program to print fibonacci serise \n",
    "\n",
    "     0,1,1,2,3,5,8 till user entered number "
   ]
  },
  {
   "cell_type": "code",
   "execution_count": 42,
   "metadata": {},
   "outputs": [
    {
     "name": "stdout",
     "output_type": "stream",
     "text": [
      "Enter your number:10\n",
      "Fibonacci series upto  10 :\n",
      "0\n",
      "1\n",
      "1\n",
      "2\n",
      "3\n",
      "5\n",
      "8\n",
      "13\n",
      "21\n",
      "34\n"
     ]
    }
   ],
   "source": [
    "# How many terms\n",
    "n_terms = int(input(\"Enter your number:\"))\n",
    "\n",
    "# First two terms:\n",
    "num2 = 0\n",
    "num3 = 1\n",
    "count = 0\n",
    "\n",
    "# Check if the number of terms is valid:\n",
    "if n_terms <= 0:\n",
    "    print(\"Invalid entery ! Please enter correct number: \")\n",
    "elif n_terms == 1:\n",
    "    print(\"Fibonacci series upto \", n_terms,\":\")\n",
    "    print(num2)\n",
    "else:\n",
    "    print(\"Fibonacci series upto \", n_terms,\":\")\n",
    "    while count < n_terms:\n",
    "        print(num2)\n",
    "        n_th = num2 + num3\n",
    "        \n",
    "        # Update values \n",
    "        num2 = num3\n",
    "        num3 = n_th\n",
    "        count += 1"
   ]
  },
  {
   "cell_type": "markdown",
   "metadata": {},
   "source": [
    "# 8) write a program to check usr entered number is prime or not "
   ]
  },
  {
   "cell_type": "code",
   "execution_count": 34,
   "metadata": {},
   "outputs": [
    {
     "name": "stdout",
     "output_type": "stream",
     "text": [
      "Enter your number: 39\n",
      "39 It is not Prime Number\n"
     ]
    }
   ],
   "source": [
    "# Taking input from the users \n",
    "Number=int(input(\"Enter your number: \"))\n",
    "\n",
    "# Prime Number is always greater than 1 and divisible by 1,2 and itself\n",
    "if Number > 1:\n",
    "    for i in range(2, Number):\n",
    "        if (Number % i) == 0:\n",
    "            print(Number, \"It is not Prime Number\")\n",
    "\n",
    "            # It is for breaking the loop from printing serval times.\n",
    "            break\n",
    "    else:\n",
    "            print(Number, \"It is Prime Number\")\n",
    "            \n",
    "# If the entered number is less than 1 \n",
    "else:\n",
    "    print(\"Invalid Entry!. please enter again \")"
   ]
  },
  {
   "cell_type": "markdown",
   "metadata": {},
   "source": [
    "# 9) write a program to check user entered number is perfect or not \n",
    "\n",
    "     n=6 \n",
    "\n",
    "      1+2+3 all diviser sum is also 6 so 6 is perfect number "
   ]
  },
  {
   "cell_type": "code",
   "execution_count": 40,
   "metadata": {},
   "outputs": [
    {
     "name": "stdout",
     "output_type": "stream",
     "text": [
      "Enter any number: 9\n",
      "9 It is not a Perfect Number\n"
     ]
    }
   ],
   "source": [
    "number = int(input(\"Enter any number: \"))\n",
    "sum1 = 0\n",
    "for i in range(1,number):\n",
    "    if (number%i==0):\n",
    "        sum1 = sum1 + i\n",
    "if (sum1==number):\n",
    "    print(number, \"It is a Perfect Number\")\n",
    "else:\n",
    "     print(number, \"It is not a Perfect Number\")"
   ]
  },
  {
   "cell_type": "markdown",
   "metadata": {},
   "source": [
    "# 10) write a program to check user entered number is armstrom or not ."
   ]
  },
  {
   "cell_type": "code",
   "execution_count": 47,
   "metadata": {},
   "outputs": [
    {
     "name": "stdout",
     "output_type": "stream",
     "text": [
      "Enter your number: 407\n",
      "407  It is Armstrong Number\n"
     ]
    }
   ],
   "source": [
    "# Take the input from the user.\n",
    "Num5 = int(input(\"Enter your number: \"))\n",
    "Sum1 = 0\n",
    "\n",
    "temp = Num5\n",
    "while temp > 0:\n",
    "    digit = temp % 10\n",
    "    Sum1 += digit ** 3\n",
    "    temp //= 10\n",
    "    \n",
    "# Display the result.\n",
    "if Num5 == Sum1:\n",
    "    print(Num5, \" It is Armstrong Number\")\n",
    "else:\n",
    "    print(Num5, \" It is not Armstrong Number\")\n",
    "    "
   ]
  },
  {
   "cell_type": "code",
   "execution_count": null,
   "metadata": {},
   "outputs": [],
   "source": []
  }
 ],
 "metadata": {
  "kernelspec": {
   "display_name": "Python 3",
   "language": "python",
   "name": "python3"
  },
  "language_info": {
   "codemirror_mode": {
    "name": "ipython",
    "version": 3
   },
   "file_extension": ".py",
   "mimetype": "text/x-python",
   "name": "python",
   "nbconvert_exporter": "python",
   "pygments_lexer": "ipython3",
   "version": "3.7.6"
  }
 },
 "nbformat": 4,
 "nbformat_minor": 4
}
