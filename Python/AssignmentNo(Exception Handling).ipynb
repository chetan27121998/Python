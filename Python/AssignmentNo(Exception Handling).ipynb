{
 "cells": [
  {
   "cell_type": "markdown",
   "id": "887908ee",
   "metadata": {},
   "source": [
    "# 1 . Create a program that will take information about an Employee. The program should accept following information about employees:\n",
    "\n",
    "          Name, Designation and Salary\n",
    "    If the user input Salary less than 10000 it should raise an user defined error stating \"LOW SALARY"
   ]
  },
  {
   "cell_type": "code",
   "execution_count": 3,
   "id": "a9dedd40",
   "metadata": {},
   "outputs": [
    {
     "name": "stdout",
     "output_type": "stream",
     "text": [
      "Employees details\n",
      "Enter your Full Name: Raj\n",
      "Enter your designation: data analyst\n",
      "Enter your monthly salary: 5000\n",
      "LOW SALARY\n"
     ]
    }
   ],
   "source": [
    "print(\"Employees details\")\n",
    "name = input(\"Enter your Full Name: \")\n",
    "Designation = input(\"Enter your designation: \")\n",
    "salary = float(input(\"Enter your monthly salary: \"))\n",
    "try:\n",
    "    if salary < 10000:\n",
    "        raise Exception(\"LOW SALARY\")\n",
    "    else:\n",
    "        print(\"Acceptable\")\n",
    "except Exception as e:\n",
    "    print(e)"
   ]
  },
  {
   "cell_type": "markdown",
   "id": "eee87045",
   "metadata": {},
   "source": [
    "# 2. Create a function that inputs user's phone number. Raise an exception if phone number has less than 10 digit"
   ]
  },
  {
   "cell_type": "code",
   "execution_count": 4,
   "id": "c193bb07",
   "metadata": {},
   "outputs": [
    {
     "name": "stdout",
     "output_type": "stream",
     "text": [
      "Enter your Phone number: 7891593570\n",
      "Phone number:  7891593570\n",
      "OTP Number is send to the number.\n"
     ]
    }
   ],
   "source": [
    "def ph_number():\n",
    "    return number\n",
    "number = int(input(\"Enter your Phone number: \"))\n",
    "print(\"Phone number: \",ph_number())\n",
    "\n",
    "try:\n",
    "    if len(str(number)) < 10:\n",
    "        raise Exception(\"Please enter the correct phone number !\")\n",
    "    else:\n",
    "        print(\"OTP Number is send to the number.\")\n",
    "except Exception as e:\n",
    "    print(e)"
   ]
  },
  {
   "cell_type": "markdown",
   "id": "e13f3d53",
   "metadata": {},
   "source": [
    "# Write the program that takes the string input for the name and throws exception if number is entered?"
   ]
  },
  {
   "cell_type": "code",
   "execution_count": 9,
   "id": "fb7b9431",
   "metadata": {},
   "outputs": [
    {
     "name": "stdout",
     "output_type": "stream",
     "text": [
      "Enter your name: 12334\n",
      "Please only Alphabets\n"
     ]
    }
   ],
   "source": [
    "try:\n",
    "    name = input(\"Enter your name: \")\n",
    "    if not name.isalpha():\n",
    "        raise Exception(\"Please only Alphabets\")\n",
    "    else:\n",
    "        print(\"Your Name is : \",name)\n",
    "except Exception as e:\n",
    "    print(e)"
   ]
  },
  {
   "cell_type": "markdown",
   "id": "a7204396",
   "metadata": {},
   "source": [
    "# 4. Create a function that take the inputs of filename and read the file content. Handle Exception by exception handling  if file not found."
   ]
  },
  {
   "cell_type": "code",
   "execution_count": 5,
   "id": "05002941",
   "metadata": {},
   "outputs": [
    {
     "name": "stdout",
     "output_type": "stream",
     "text": [
      "Sorry, the file John.txtdoes not exist.\n"
     ]
    }
   ],
   "source": [
    "filename = 'John.txt'\n",
    "try:\n",
    "    with open(filename) as f_obj:\n",
    "        contents = f_obj.read()\n",
    "except FileNotFoundError:\n",
    "    msg = \"Sorry, the file \"+ filename + \"does not exist.\"\n",
    "    print(msg) # Sorry, the file John.txt does not exist."
   ]
  },
  {
   "cell_type": "code",
   "execution_count": null,
   "id": "76d73015",
   "metadata": {},
   "outputs": [],
   "source": []
  }
 ],
 "metadata": {
  "kernelspec": {
   "display_name": "Python 3",
   "language": "python",
   "name": "python3"
  },
  "language_info": {
   "codemirror_mode": {
    "name": "ipython",
    "version": 3
   },
   "file_extension": ".py",
   "mimetype": "text/x-python",
   "name": "python",
   "nbconvert_exporter": "python",
   "pygments_lexer": "ipython3",
   "version": "3.8.8"
  }
 },
 "nbformat": 4,
 "nbformat_minor": 5
}
