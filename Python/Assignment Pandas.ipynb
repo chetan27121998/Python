{
 "cells": [
  {
   "cell_type": "code",
   "execution_count": 1,
   "id": "9997360a",
   "metadata": {},
   "outputs": [],
   "source": [
    "import pandas as pd"
   ]
  },
  {
   "cell_type": "code",
   "execution_count": 2,
   "id": "664dd915",
   "metadata": {},
   "outputs": [],
   "source": [
    "furniture = pd.read_clipboard()"
   ]
  },
  {
   "cell_type": "code",
   "execution_count": 3,
   "id": "5a49709f",
   "metadata": {},
   "outputs": [
    {
     "name": "stdout",
     "output_type": "stream",
     "text": [
      "{'Item': ['Sofa', 'Dining Table', 'Chair', 'Sofa', 'Chair', 'Dining Table'], 'Material': ['Wooden', 'Plywood', 'Plastic', 'Stainless Steel', 'Wooden', 'Aluminum'], 'Colour': ['Maroon', 'Yellow', 'Red', 'Silver', 'Light Blue', 'Golden'], 'Price': [25000, 20000, 1500, 55000, 2500, 65000]}\n"
     ]
    }
   ],
   "source": [
    "d1 = {\"Item\":['Sofa','Dining Table','Chair','Sofa','Chair','Dining Table'],\n",
    "      \"Material\":['Wooden','Plywood','Plastic','Stainless Steel','Wooden','Aluminum'],\n",
    "      \"Colour\":['Maroon','Yellow','Red','Silver','Light Blue','Golden'],\n",
    "      \"Price\":[25000,20000,1500,55000,2500,65000]}\n",
    "print(d1)"
   ]
  },
  {
   "cell_type": "code",
   "execution_count": 18,
   "id": "3d828190",
   "metadata": {},
   "outputs": [
    {
     "name": "stdout",
     "output_type": "stream",
     "text": [
      "           Item         Material      Colour  Price\n",
      "0          Sofa           Wooden      Maroon  25000\n",
      "1  Dining Table          Plywood      Yellow  20000\n",
      "2         Chair          Plastic         Red   1500\n",
      "3          Sofa  Stainless Steel      Silver  55000\n",
      "4         Chair           Wooden  Light Blue   2500\n",
      "5  Dining Table         Aluminum      Golden  65000\n"
     ]
    }
   ],
   "source": [
    "furniture = pd.DataFrame(d1)\n",
    "print(furniture)"
   ]
  },
  {
   "cell_type": "markdown",
   "id": "3218c921",
   "metadata": {},
   "source": [
    "# Display the details of the sofa."
   ]
  },
  {
   "cell_type": "code",
   "execution_count": 19,
   "id": "cd9863ec",
   "metadata": {},
   "outputs": [
    {
     "data": {
      "text/html": [
       "<div>\n",
       "<style scoped>\n",
       "    .dataframe tbody tr th:only-of-type {\n",
       "        vertical-align: middle;\n",
       "    }\n",
       "\n",
       "    .dataframe tbody tr th {\n",
       "        vertical-align: top;\n",
       "    }\n",
       "\n",
       "    .dataframe thead th {\n",
       "        text-align: right;\n",
       "    }\n",
       "</style>\n",
       "<table border=\"1\" class=\"dataframe\">\n",
       "  <thead>\n",
       "    <tr style=\"text-align: right;\">\n",
       "      <th></th>\n",
       "      <th>Item</th>\n",
       "      <th>Material</th>\n",
       "      <th>Colour</th>\n",
       "      <th>Price</th>\n",
       "    </tr>\n",
       "  </thead>\n",
       "  <tbody>\n",
       "    <tr>\n",
       "      <th>0</th>\n",
       "      <td>Sofa</td>\n",
       "      <td>Wooden</td>\n",
       "      <td>Maroon</td>\n",
       "      <td>25000</td>\n",
       "    </tr>\n",
       "    <tr>\n",
       "      <th>3</th>\n",
       "      <td>Sofa</td>\n",
       "      <td>Stainless Steel</td>\n",
       "      <td>Silver</td>\n",
       "      <td>55000</td>\n",
       "    </tr>\n",
       "  </tbody>\n",
       "</table>\n",
       "</div>"
      ],
      "text/plain": [
       "   Item         Material  Colour  Price\n",
       "0  Sofa           Wooden  Maroon  25000\n",
       "3  Sofa  Stainless Steel  Silver  55000"
      ]
     },
     "execution_count": 19,
     "metadata": {},
     "output_type": "execute_result"
    }
   ],
   "source": [
    "furniture[furniture[\"Item\"]==\"Sofa\"]"
   ]
  },
  {
   "cell_type": "markdown",
   "id": "9af62a55",
   "metadata": {},
   "source": [
    "# Display the details of the chair"
   ]
  },
  {
   "cell_type": "code",
   "execution_count": 20,
   "id": "8643e4dd",
   "metadata": {},
   "outputs": [
    {
     "data": {
      "text/html": [
       "<div>\n",
       "<style scoped>\n",
       "    .dataframe tbody tr th:only-of-type {\n",
       "        vertical-align: middle;\n",
       "    }\n",
       "\n",
       "    .dataframe tbody tr th {\n",
       "        vertical-align: top;\n",
       "    }\n",
       "\n",
       "    .dataframe thead th {\n",
       "        text-align: right;\n",
       "    }\n",
       "</style>\n",
       "<table border=\"1\" class=\"dataframe\">\n",
       "  <thead>\n",
       "    <tr style=\"text-align: right;\">\n",
       "      <th></th>\n",
       "      <th>Item</th>\n",
       "      <th>Material</th>\n",
       "      <th>Colour</th>\n",
       "      <th>Price</th>\n",
       "    </tr>\n",
       "  </thead>\n",
       "  <tbody>\n",
       "    <tr>\n",
       "      <th>2</th>\n",
       "      <td>Chair</td>\n",
       "      <td>Plastic</td>\n",
       "      <td>Red</td>\n",
       "      <td>1500</td>\n",
       "    </tr>\n",
       "    <tr>\n",
       "      <th>4</th>\n",
       "      <td>Chair</td>\n",
       "      <td>Wooden</td>\n",
       "      <td>Light Blue</td>\n",
       "      <td>2500</td>\n",
       "    </tr>\n",
       "  </tbody>\n",
       "</table>\n",
       "</div>"
      ],
      "text/plain": [
       "    Item Material      Colour  Price\n",
       "2  Chair  Plastic         Red   1500\n",
       "4  Chair   Wooden  Light Blue   2500"
      ]
     },
     "execution_count": 20,
     "metadata": {},
     "output_type": "execute_result"
    }
   ],
   "source": [
    "furniture[furniture[\"Item\"]==\"Chair\"]"
   ]
  },
  {
   "cell_type": "markdown",
   "id": "21aff783",
   "metadata": {},
   "source": [
    "# b) Display furniture details which price is more than 25000."
   ]
  },
  {
   "cell_type": "code",
   "execution_count": 22,
   "id": "2b47d108",
   "metadata": {},
   "outputs": [
    {
     "data": {
      "text/html": [
       "<div>\n",
       "<style scoped>\n",
       "    .dataframe tbody tr th:only-of-type {\n",
       "        vertical-align: middle;\n",
       "    }\n",
       "\n",
       "    .dataframe tbody tr th {\n",
       "        vertical-align: top;\n",
       "    }\n",
       "\n",
       "    .dataframe thead th {\n",
       "        text-align: right;\n",
       "    }\n",
       "</style>\n",
       "<table border=\"1\" class=\"dataframe\">\n",
       "  <thead>\n",
       "    <tr style=\"text-align: right;\">\n",
       "      <th></th>\n",
       "      <th>Item</th>\n",
       "      <th>Material</th>\n",
       "      <th>Colour</th>\n",
       "      <th>Price</th>\n",
       "    </tr>\n",
       "  </thead>\n",
       "  <tbody>\n",
       "    <tr>\n",
       "      <th>3</th>\n",
       "      <td>Sofa</td>\n",
       "      <td>Stainless Steel</td>\n",
       "      <td>Silver</td>\n",
       "      <td>55000</td>\n",
       "    </tr>\n",
       "    <tr>\n",
       "      <th>5</th>\n",
       "      <td>Dining Table</td>\n",
       "      <td>Aluminum</td>\n",
       "      <td>Golden</td>\n",
       "      <td>65000</td>\n",
       "    </tr>\n",
       "  </tbody>\n",
       "</table>\n",
       "</div>"
      ],
      "text/plain": [
       "           Item         Material  Colour  Price\n",
       "3          Sofa  Stainless Steel  Silver  55000\n",
       "5  Dining Table         Aluminum  Golden  65000"
      ]
     },
     "execution_count": 22,
     "metadata": {},
     "output_type": "execute_result"
    }
   ],
   "source": [
    "furniture[furniture[\"Price\"]>25000]"
   ]
  },
  {
   "cell_type": "markdown",
   "id": "3ef38513",
   "metadata": {},
   "source": [
    "# c) Display the furniture details price under 10000."
   ]
  },
  {
   "cell_type": "code",
   "execution_count": 23,
   "id": "bf9379cd",
   "metadata": {},
   "outputs": [
    {
     "data": {
      "text/html": [
       "<div>\n",
       "<style scoped>\n",
       "    .dataframe tbody tr th:only-of-type {\n",
       "        vertical-align: middle;\n",
       "    }\n",
       "\n",
       "    .dataframe tbody tr th {\n",
       "        vertical-align: top;\n",
       "    }\n",
       "\n",
       "    .dataframe thead th {\n",
       "        text-align: right;\n",
       "    }\n",
       "</style>\n",
       "<table border=\"1\" class=\"dataframe\">\n",
       "  <thead>\n",
       "    <tr style=\"text-align: right;\">\n",
       "      <th></th>\n",
       "      <th>Item</th>\n",
       "      <th>Material</th>\n",
       "      <th>Colour</th>\n",
       "      <th>Price</th>\n",
       "    </tr>\n",
       "  </thead>\n",
       "  <tbody>\n",
       "    <tr>\n",
       "      <th>2</th>\n",
       "      <td>Chair</td>\n",
       "      <td>Plastic</td>\n",
       "      <td>Red</td>\n",
       "      <td>1500</td>\n",
       "    </tr>\n",
       "    <tr>\n",
       "      <th>4</th>\n",
       "      <td>Chair</td>\n",
       "      <td>Wooden</td>\n",
       "      <td>Light Blue</td>\n",
       "      <td>2500</td>\n",
       "    </tr>\n",
       "  </tbody>\n",
       "</table>\n",
       "</div>"
      ],
      "text/plain": [
       "    Item Material      Colour  Price\n",
       "2  Chair  Plastic         Red   1500\n",
       "4  Chair   Wooden  Light Blue   2500"
      ]
     },
     "execution_count": 23,
     "metadata": {},
     "output_type": "execute_result"
    }
   ],
   "source": [
    "furniture[furniture[\"Price\"]<=10000]"
   ]
  },
  {
   "cell_type": "markdown",
   "id": "f6300ae2",
   "metadata": {},
   "source": [
    "# d) Display alternative rows. "
   ]
  },
  {
   "cell_type": "code",
   "execution_count": 24,
   "id": "dd680081",
   "metadata": {},
   "outputs": [
    {
     "data": {
      "text/html": [
       "<div>\n",
       "<style scoped>\n",
       "    .dataframe tbody tr th:only-of-type {\n",
       "        vertical-align: middle;\n",
       "    }\n",
       "\n",
       "    .dataframe tbody tr th {\n",
       "        vertical-align: top;\n",
       "    }\n",
       "\n",
       "    .dataframe thead th {\n",
       "        text-align: right;\n",
       "    }\n",
       "</style>\n",
       "<table border=\"1\" class=\"dataframe\">\n",
       "  <thead>\n",
       "    <tr style=\"text-align: right;\">\n",
       "      <th></th>\n",
       "      <th>Item</th>\n",
       "      <th>Material</th>\n",
       "      <th>Colour</th>\n",
       "      <th>Price</th>\n",
       "    </tr>\n",
       "  </thead>\n",
       "  <tbody>\n",
       "    <tr>\n",
       "      <th>0</th>\n",
       "      <td>Sofa</td>\n",
       "      <td>Wooden</td>\n",
       "      <td>Maroon</td>\n",
       "      <td>25000</td>\n",
       "    </tr>\n",
       "    <tr>\n",
       "      <th>2</th>\n",
       "      <td>Chair</td>\n",
       "      <td>Plastic</td>\n",
       "      <td>Red</td>\n",
       "      <td>1500</td>\n",
       "    </tr>\n",
       "    <tr>\n",
       "      <th>4</th>\n",
       "      <td>Chair</td>\n",
       "      <td>Wooden</td>\n",
       "      <td>Light Blue</td>\n",
       "      <td>2500</td>\n",
       "    </tr>\n",
       "  </tbody>\n",
       "</table>\n",
       "</div>"
      ],
      "text/plain": [
       "    Item Material      Colour  Price\n",
       "0   Sofa   Wooden      Maroon  25000\n",
       "2  Chair  Plastic         Red   1500\n",
       "4  Chair   Wooden  Light Blue   2500"
      ]
     },
     "execution_count": 24,
     "metadata": {},
     "output_type": "execute_result"
    }
   ],
   "source": [
    "furniture.iloc[::2]"
   ]
  }
 ],
 "metadata": {
  "kernelspec": {
   "display_name": "Python 3",
   "language": "python",
   "name": "python3"
  },
  "language_info": {
   "codemirror_mode": {
    "name": "ipython",
    "version": 3
   },
   "file_extension": ".py",
   "mimetype": "text/x-python",
   "name": "python",
   "nbconvert_exporter": "python",
   "pygments_lexer": "ipython3",
   "version": "3.8.8"
  }
 },
 "nbformat": 4,
 "nbformat_minor": 5
}
