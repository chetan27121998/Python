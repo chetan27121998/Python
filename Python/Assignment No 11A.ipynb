{
 "cells": [
  {
   "cell_type": "markdown",
   "id": "78cc95e3",
   "metadata": {},
   "source": [
    "## 1. Create a Vehicle class with following  variables and methods\n",
    "\n",
    "    Instance Variable\n",
    "\n",
    "            1.name\n",
    "\n",
    "            2.max_speed with default value 10\n",
    "\n",
    "            3.mileage with default value 35\n",
    "\n",
    "    Instance method\n",
    "\n",
    "            1.seating_capacity(self,capacity)"
   ]
  },
  {
   "cell_type": "code",
   "execution_count": 12,
   "id": "39f50d16",
   "metadata": {},
   "outputs": [
    {
     "name": "stdout",
     "output_type": "stream",
     "text": [
      "Name of car :  Volvo\n",
      "Maximum Speed of vehicle :  10\n",
      "Mileage of vehicle:  35\n",
      "Capacity of passengers:  30\n"
     ]
    }
   ],
   "source": [
    "class vehicle:\n",
    "    \n",
    "    # Inheritance Variable:\n",
    "    def create(self,name_vehicle,max_speed,mileage):\n",
    "        self.name_vehicle = name_vehicle\n",
    "        self.max_speed = max_speed\n",
    "        self.mileage = mileage\n",
    "    \n",
    "    # Inheritance Methods: \n",
    "    def seating_capacity(self,capacity):\n",
    "        self.capacity = capacity\n",
    "    def show(self):\n",
    "        print(\"Name of car : \",self.name_vehicle)\n",
    "        print(\"Maximum Speed of vehicle : \",self.max_speed)\n",
    "        print(\"Mileage of vehicle: \",self.mileage)\n",
    "        print(\"Capacity of passengers: \",self.capacity)\n",
    "School_bus = vehicle()\n",
    "School_bus.create(\"Volvo\",10,35)\n",
    "School_bus.seating_capacity(30)\n",
    "School_bus.show()"
   ]
  },
  {
   "cell_type": "markdown",
   "id": "b9a33bdd",
   "metadata": {},
   "source": [
    "## 2.  Create a Bus class that inherits from the Vehicle class. Give the capacity         argument of Bus.seating_capacity() a default value of 50.\n",
    "\n",
    "#### (note:- Use the above question code for your parent Vehicle class. You need to use method overriding)"
   ]
  },
  {
   "cell_type": "code",
   "execution_count": 18,
   "id": "cf5cea26",
   "metadata": {},
   "outputs": [
    {
     "name": "stdout",
     "output_type": "stream",
     "text": [
      "The seating capacity of a School_Bus is 30 passengers\n"
     ]
    }
   ],
   "source": [
    "class vehicle:\n",
    "    def __init__(self,name_vehicle,max_speed,mileage):\n",
    "        self.name_vehicle = name_vehicle\n",
    "        self.max_speed = max_speed\n",
    "        self.mileage = mileage\n",
    "    \n",
    "    def seating_capacity(self,capacity):\n",
    "        return f\"The seating capacity of a {self.name_vehicle} is {capacity} passengers\"\n",
    "\n",
    "# Method overriding:\n",
    "class Bus(vehicle):\n",
    "    def seating_capacity(self,capacity=30):\n",
    "        return super().seating_capacity(capacity=30)\n",
    "    \n",
    "School_bus = Bus(\"School_Bus\",180,12)\n",
    "print(School_bus.seating_capacity())\n"
   ]
  },
  {
   "cell_type": "markdown",
   "id": "2ee9f6fc",
   "metadata": {},
   "source": [
    "## 3.Define property that should have the same value for every class instance for above Vehicle class."
   ]
  },
  {
   "cell_type": "code",
   "execution_count": 16,
   "id": "2b88e6ad",
   "metadata": {},
   "outputs": [
    {
     "name": "stdout",
     "output_type": "stream",
     "text": [
      "Yellow School Bus Speed: 180 Mileage: 12\n",
      "Yellow Maruti Suzuki Swift Speed: 200 Mileage: 20\n"
     ]
    }
   ],
   "source": [
    "class Vehicle:\n",
    "    # Class attribute\n",
    "    color = \"Yellow\"\n",
    "\n",
    "    def __init__(self, name, max_speed, mileage):\n",
    "        self.name = name\n",
    "        self.max_speed = max_speed\n",
    "        self.mileage = mileage\n",
    "\n",
    "class Bus(Vehicle):\n",
    "    pass\n",
    "\n",
    "class Car(Vehicle):\n",
    "    pass\n",
    "\n",
    "School_bus = Bus(\"School Bus\", 180, 12)\n",
    "print(School_bus.color, School_bus.name, \"Speed:\", School_bus.max_speed, \"Mileage:\", School_bus.mileage)\n",
    "\n",
    "car = Car(\"Maruti Suzuki Swift\", 200, 20)\n",
    "print(car.color, car.name, \"Speed:\", car.max_speed, \"Mileage:\", car.mileage)"
   ]
  },
  {
   "cell_type": "code",
   "execution_count": null,
   "id": "59b9e676",
   "metadata": {},
   "outputs": [],
   "source": []
  }
 ],
 "metadata": {
  "kernelspec": {
   "display_name": "Python 3",
   "language": "python",
   "name": "python3"
  },
  "language_info": {
   "codemirror_mode": {
    "name": "ipython",
    "version": 3
   },
   "file_extension": ".py",
   "mimetype": "text/x-python",
   "name": "python",
   "nbconvert_exporter": "python",
   "pygments_lexer": "ipython3",
   "version": "3.8.8"
  }
 },
 "nbformat": 4,
 "nbformat_minor": 5
}
