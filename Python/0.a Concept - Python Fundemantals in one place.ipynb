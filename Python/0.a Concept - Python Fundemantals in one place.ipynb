{
 "cells": [
  {
   "cell_type": "markdown",
   "metadata": {},
   "source": [
    "## PYTHON BASICS IN ONE HAPPY PLACE!"
   ]
  },
  {
   "cell_type": "code",
   "execution_count": 1,
   "metadata": {},
   "outputs": [
    {
     "output_type": "stream",
     "name": "stdout",
     "text": [
      "Access granted, Welcome to the system\n"
     ]
    },
    {
     "output_type": "error",
     "ename": "ValueError",
     "evalue": "could not convert string to float: ",
     "traceback": [
      "\u001b[1;31m---------------------------------------------------------------------------\u001b[0m",
      "\u001b[1;31mValueError\u001b[0m                                Traceback (most recent call last)",
      "\u001b[1;32m<ipython-input-1-d52415758e16>\u001b[0m in \u001b[0;36m<module>\u001b[1;34m\u001b[0m\n\u001b[0;32m     19\u001b[0m \u001b[1;32mif\u001b[0m \u001b[0musername\u001b[0m \u001b[1;33m==\u001b[0m \u001b[0minput_username\u001b[0m \u001b[1;32mand\u001b[0m \u001b[0minput_password\u001b[0m \u001b[1;33m==\u001b[0m \u001b[0mpassword\u001b[0m\u001b[1;33m:\u001b[0m\u001b[1;33m\u001b[0m\u001b[1;33m\u001b[0m\u001b[0m\n\u001b[0;32m     20\u001b[0m     \u001b[0mprint\u001b[0m\u001b[1;33m(\u001b[0m\u001b[1;34m\"Access granted, Welcome to the system\"\u001b[0m\u001b[1;33m)\u001b[0m\u001b[1;33m\u001b[0m\u001b[1;33m\u001b[0m\u001b[0m\n\u001b[1;32m---> 21\u001b[1;33m     \u001b[0mtime_h_now\u001b[0m \u001b[1;33m=\u001b[0m \u001b[0mfloat\u001b[0m\u001b[1;33m(\u001b[0m\u001b[0minput\u001b[0m\u001b[1;33m(\u001b[0m\u001b[1;34m\"What's the time now [Use 24h format]? Insert Time between 8AM-3PM [8-15]?\"\u001b[0m\u001b[1;33m)\u001b[0m\u001b[1;33m)\u001b[0m\u001b[1;33m\u001b[0m\u001b[1;33m\u001b[0m\u001b[0m\n\u001b[0m\u001b[0;32m     22\u001b[0m \u001b[1;33m\u001b[0m\u001b[0m\n\u001b[0;32m     23\u001b[0m     \u001b[0mday_planner\u001b[0m\u001b[1;33m(\u001b[0m\u001b[0mtime_h_now\u001b[0m\u001b[1;33m)\u001b[0m\u001b[1;33m\u001b[0m\u001b[1;33m\u001b[0m\u001b[0m\n",
      "\u001b[1;31mValueError\u001b[0m: could not convert string to float: "
     ]
    }
   ],
   "source": [
    "import getpass\n",
    "username = \"Ryan\"\n",
    "password = \"ysk%123\"\n",
    "\n",
    "def day_planner(time_h_now):\n",
    "    daily_task    = {10: 'Programming Lecture, Room A',\n",
    "                     12: 'Computer Vision Lecture, Room C',\n",
    "                     13: 'Lunch @Cafeteria!',\n",
    "                     15: 'Group Project Meeting, Room E'}\n",
    "\n",
    "    for task_time in daily_task.keys():\n",
    "        if time_h_now <= task_time:\n",
    "            print('You should attend:', daily_task[task_time])\n",
    "            break\n",
    "        \n",
    "input_username = input(\"Enter Username: \")\n",
    "input_password = getpass.getpass('Password:')\n",
    "\n",
    "if username == input_username and input_password == password:\n",
    "    print(\"Access granted, Welcome to the system\")\n",
    "    time_h_now = float(input(\"What's the time now [Use 24h format]? Insert Time between 8AM-3PM [8-15]?\"))\n",
    "    \n",
    "    day_planner(time_h_now)\n",
    "    \n",
    "    myfile = open(\"Lecture_Notes.txt\")\n",
    "    print(myfile.read())\n",
    "\n",
    "else:\n",
    "    print(\"Username or password is not correct, access denied\")"
   ]
  },
  {
   "cell_type": "code",
   "execution_count": null,
   "metadata": {},
   "outputs": [],
   "source": []
  }
 ],
 "metadata": {
  "kernelspec": {
   "display_name": "Python 3",
   "language": "python",
   "name": "python3"
  },
  "language_info": {
   "codemirror_mode": {
    "name": "ipython",
    "version": 3
   },
   "file_extension": ".py",
   "mimetype": "text/x-python",
   "name": "python",
   "nbconvert_exporter": "python",
   "pygments_lexer": "ipython3",
   "version": "3.7.6-final"
  }
 },
 "nbformat": 4,
 "nbformat_minor": 2
}