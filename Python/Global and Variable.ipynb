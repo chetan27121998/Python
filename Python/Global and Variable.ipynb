{
 "cells": [
  {
   "cell_type": "markdown",
   "id": "7adf975a",
   "metadata": {},
   "source": [
    "# 06-09-2021"
   ]
  },
  {
   "cell_type": "markdown",
   "id": "fa52e6e5",
   "metadata": {},
   "source": [
    "# In python there are type variable with functions and module.\n",
    "     1. Global variable :-\n",
    "        The Variable those declare inside a module and outside any function is known as Global Variable.\n",
    "        we can access this variable any where in same and other module also.\n",
    "        The scope of this variable is not within in function .\n",
    "    2. Local Variable :-\n",
    "        The Variable those are declare inside any functions is known as Local Variable.\n",
    "        The scope of this variable within in fucntion only.\n"
   ]
  },
  {
   "cell_type": "markdown",
   "id": "7471e6d4",
   "metadata": {},
   "source": [
    "# Global Variable"
   ]
  },
  {
   "cell_type": "code",
   "execution_count": 1,
   "id": "478cd9d3",
   "metadata": {},
   "outputs": [
    {
     "name": "stdout",
     "output_type": "stream",
     "text": [
      "num:-  242\n"
     ]
    }
   ],
   "source": [
    "num = 242\n",
    "print(\"num:- \",num)"
   ]
  },
  {
   "cell_type": "code",
   "execution_count": 2,
   "id": "f4257ebd",
   "metadata": {},
   "outputs": [
    {
     "name": "stdout",
     "output_type": "stream",
     "text": [
      "num:-  242\n"
     ]
    }
   ],
   "source": [
    "# we can access global variable in function also\n",
    "def f1():\n",
    "    print(\"num:- \",num)\n",
    "\n",
    "f1()"
   ]
  },
  {
   "cell_type": "markdown",
   "id": "c6d9a283",
   "metadata": {},
   "source": [
    "# Local Variable"
   ]
  },
  {
   "cell_type": "code",
   "execution_count": 4,
   "id": "66b9727c",
   "metadata": {},
   "outputs": [
    {
     "name": "stdout",
     "output_type": "stream",
     "text": [
      "num1:-  433\n"
     ]
    }
   ],
   "source": [
    "def f2():\n",
    "    num1 = 433\n",
    "    print(\"num1:- \", num1)\n",
    "f2()\n",
    "\n",
    "def f3(n1):\n",
    "    pass \n",
    "# here n1 also a local variable."
   ]
  },
  {
   "cell_type": "code",
   "execution_count": 5,
   "id": "308b3c13",
   "metadata": {},
   "outputs": [
    {
     "ename": "NameError",
     "evalue": "name 'num1' is not defined",
     "output_type": "error",
     "traceback": [
      "\u001b[1;31m---------------------------------------------------------------------------\u001b[0m",
      "\u001b[1;31mNameError\u001b[0m                                 Traceback (most recent call last)",
      "\u001b[1;32m<ipython-input-5-cafa0ff4e8c9>\u001b[0m in \u001b[0;36m<module>\u001b[1;34m\u001b[0m\n\u001b[1;32m----> 1\u001b[1;33m \u001b[0mprint\u001b[0m\u001b[1;33m(\u001b[0m\u001b[1;34m\"num1:- \"\u001b[0m\u001b[1;33m,\u001b[0m \u001b[0mnum1\u001b[0m\u001b[1;33m)\u001b[0m  \u001b[1;31m# here we cannot access num1 because local variable of f2\u001b[0m\u001b[1;33m\u001b[0m\u001b[1;33m\u001b[0m\u001b[0m\n\u001b[0m",
      "\u001b[1;31mNameError\u001b[0m: name 'num1' is not defined"
     ]
    }
   ],
   "source": [
    "print(\"num1:- \", num1)  # here we cannot access num1 because local variable of f2"
   ]
  },
  {
   "cell_type": "raw",
   "id": "345d1bbe",
   "metadata": {},
   "source": [
    "# when we declare a both global and local variable with same name , python will create 2 seperate copy for each scope.\n",
    "\n",
    "# i.e Local variable access within function and global access outside function.\n"
   ]
  },
  {
   "cell_type": "code",
   "execution_count": 3,
   "id": "0c269440",
   "metadata": {},
   "outputs": [
    {
     "name": "stdout",
     "output_type": "stream",
     "text": [
      "inside function:-  34\n",
      "15\n",
      "outside function:-  23\n"
     ]
    }
   ],
   "source": [
    "a= 23\n",
    "b = 12\n",
    "def f4():\n",
    "    a= 34\n",
    "    b = 15\n",
    "    print(\"inside function:- \", a)\n",
    "    print(b)\n",
    "f4()\n",
    "    \n",
    "print(\"outside function:- \", a)"
   ]
  },
  {
   "cell_type": "code",
   "execution_count": 9,
   "id": "ba5367fd",
   "metadata": {},
   "outputs": [
    {
     "name": "stdout",
     "output_type": "stream",
     "text": [
      "outside function:-  23\n",
      "inside function:-  34\n",
      "outside function:-  34\n"
     ]
    }
   ],
   "source": [
    "a= 23\n",
    "def f5():\n",
    "    global a   # It used overwrtie the global variable inside function.\n",
    "    a= 34\n",
    "    print(\"inside function:- \", a)\n",
    "    \n",
    "print(\"outside function:- \", a)\n",
    "f5()\n",
    "print(\"outside function:- \", a)"
   ]
  },
  {
   "cell_type": "code",
   "execution_count": 4,
   "id": "d0a36a58",
   "metadata": {},
   "outputs": [
    {
     "name": "stdout",
     "output_type": "stream",
     "text": [
      "10\n",
      "20\n"
     ]
    }
   ],
   "source": [
    "a = 10\n",
    "b = 45\n",
    "def change():\n",
    "    global b\n",
    "    a=15\n",
    "    b=20\n",
    "    \n",
    "change()\n",
    "print(a)\n",
    "print(b)"
   ]
  },
  {
   "cell_type": "code",
   "execution_count": 10,
   "id": "a7dc7927",
   "metadata": {},
   "outputs": [
    {
     "name": "stdout",
     "output_type": "stream",
     "text": [
      "3 2\n"
     ]
    }
   ],
   "source": [
    "def change(i = 1, j = 2):\n",
    "    i = i + j\n",
    "    j = 1 + j\n",
    "    print(i,j)\n",
    "change(i=2,j=1)\n"
   ]
  },
  {
   "cell_type": "code",
   "execution_count": null,
   "id": "f797cc7c",
   "metadata": {},
   "outputs": [],
   "source": []
  }
 ],
 "metadata": {
  "kernelspec": {
   "display_name": "Python 3",
   "language": "python",
   "name": "python3"
  },
  "language_info": {
   "codemirror_mode": {
    "name": "ipython",
    "version": 3
   },
   "file_extension": ".py",
   "mimetype": "text/x-python",
   "name": "python",
   "nbconvert_exporter": "python",
   "pygments_lexer": "ipython3",
   "version": "3.8.8"
  }
 },
 "nbformat": 4,
 "nbformat_minor": 5
}
