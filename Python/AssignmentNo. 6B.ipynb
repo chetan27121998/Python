{
 "cells": [
  {
   "cell_type": "markdown",
   "metadata": {},
   "source": [
    "# LIST Assignment."
   ]
  },
  {
   "cell_type": "code",
   "execution_count": 1,
   "metadata": {},
   "outputs": [
    {
     "name": "stdout",
     "output_type": "stream",
     "text": [
      "1. Add n Value in list.\n",
      "2. Remove the element by index.\n",
      "3. Remove the element by values.\n",
      "4. Count occurance of each value of list.\n",
      "5. Print sum of all value the list without using built in function.\n",
      "6. Print min value of list without using built in function.\n",
      "7. Print max value of list without using built in function.\n",
      "8. Create a list from unique value of original list.\n",
      "9. Create a list of even value of orignial list using list comprehension.\n",
      "10.Create the list with nth of each element from mylist using list comprehension.\n",
      "\n",
      "Select your choice 1\n",
      "How many values you want to add in the list? 10\n",
      "enter value-1= 20\n",
      "enter value-2= 30\n",
      "enter value-3= 10\n",
      "enter value-4= 20\n",
      "enter value-5= 30\n",
      "enter value-6= 60\n",
      "enter value-7= 54\n",
      "enter value-8= 56\n",
      "enter value-9= 89\n",
      "enter value-10= 50\n",
      "---List values---\n",
      "[20, 30, 10, 20, 30, 60, 54, 56, 89, 50]\n",
      "------------------------------\n",
      "1. Add n Value in list.\n",
      "2. Remove the element by index.\n",
      "3. Remove the element by values.\n",
      "4. Count occurance of each value of list.\n",
      "5. Print sum of all value the list without using built in function.\n",
      "6. Print min value of list without using built in function.\n",
      "7. Print max value of list without using built in function.\n",
      "8. Create a list from unique value of original list.\n",
      "9. Create a list of even value of orignial list using list comprehension.\n",
      "10.Create the list with nth of each element from mylist using list comprehension.\n",
      "\n",
      "Select your choice 4\n",
      "Enter your Number which is in the Mylist:10\n",
      "Value not found in list 1\n",
      "------------------------------\n",
      "1. Add n Value in list.\n",
      "2. Remove the element by index.\n",
      "3. Remove the element by values.\n",
      "4. Count occurance of each value of list.\n",
      "5. Print sum of all value the list without using built in function.\n",
      "6. Print min value of list without using built in function.\n",
      "7. Print max value of list without using built in function.\n",
      "8. Create a list from unique value of original list.\n",
      "9. Create a list of even value of orignial list using list comprehension.\n",
      "10.Create the list with nth of each element from mylist using list comprehension.\n",
      "\n",
      "Select your choice 11\n",
      "Thank you ....\n"
     ]
    }
   ],
   "source": [
    "choice = 0\n",
    "Mylist = []\n",
    "Selection_Menu = '''1. Add n Value in list.\n",
    "2. Remove the element by index.\n",
    "3. Remove the element by values.\n",
    "4. Count occurance of each value of list.\n",
    "5. Print sum of all value the list without using built in function.\n",
    "6. Print min value of list without using built in function.\n",
    "7. Print max value of list without using built in function.\n",
    "8. Create a list from unique value of original list.\n",
    "9. Create a list of even value of orignial list using list comprehension.\n",
    "10.Create the list with nth of each element from mylist using list comprehension.\n",
    "'''\n",
    "while choice != 11:\n",
    "    print(Selection_Menu)\n",
    "    choice = int(input(\"Select your choice \"))\n",
    "\n",
    "    # Add n Value in list.\n",
    "    if choice == 1:\n",
    "        n = int(input(\"How many values you want to add in the list? \"))\n",
    "        for i in range(1,n+1):\n",
    "            value = int(input(f'enter value-{i}= '))\n",
    "            Mylist.append(value)\n",
    "        else:\n",
    "            print(\"---List values---\")\n",
    "            print(Mylist)\n",
    "            print(\"-\"*30)\n",
    "            \n",
    "    # Remove the element by index.\n",
    "    elif choice == 2:\n",
    "        index = int(input(\"Enter a index to remove value: \"))\n",
    "        if index >=0 and index <len(Mylist):\n",
    "            Mylist.pop(index)\n",
    "            print(\"---List values---\")\n",
    "            print(Mylist)\n",
    "            print(\"-\"*30)\n",
    "        else:\n",
    "            print(\"Invlaid Index of Mylist\")\n",
    "            \n",
    "    # Remove the element by values.\n",
    "    elif choice == 3:\n",
    "        value = int(input(\"Enter a values to remove from the list: \"))\n",
    "        if Mylist.count(value) > 0:\n",
    "            Mylist.remove(value)\n",
    "            print(\"---List values---\")\n",
    "            print(Mylist)\n",
    "            print(\"-\"*30)\n",
    "        else:\n",
    "            print(\"Value is not found\")\n",
    "            \n",
    "    # Count occurance of each value of list.\n",
    "    elif choice == 4:\n",
    "        x = int(input(\"Enter your Number which is in the Mylist:\"))\n",
    "        count = 0\n",
    "        for i in range(len(Mylist)):\n",
    "            if Mylist[i] == x:\n",
    "                count += 1\n",
    "        print(\"The total numbers of \",x,\" has occured\",count)\n",
    "        print(\"-\"*30)\n",
    "        \n",
    "    # Print sum of all value the list without using built in function.\n",
    "    elif choice == 5:\n",
    "        Sum_list = 0\n",
    "        for i in Mylist:\n",
    "            Sum_list = Sum_list + i\n",
    "        print(\"Sum all values all the values in list are: \", Sum_list)\n",
    "        print(\"-\"*30)\n",
    "        \n",
    "    # Print min value of list without using built in function.\n",
    "    elif choice == 6:\n",
    "        Min_list = Mylist[0]\n",
    "        for i in range(1,len(Mylist)):\n",
    "            if Min_list > Mylist[i]:\n",
    "                Min_list = Mylist[i]\n",
    "        print(\"Minimun value of the list\", Min_list)\n",
    "        print(\"-\"*30)\n",
    "        \n",
    "    #  Print max value of list without using built in function.\n",
    "    elif choice == 7:\n",
    "        Max_list = Mylist[0]\n",
    "        for i in range(1,len(Mylist)):\n",
    "            if Max_list < Mylist[i]:\n",
    "                Max_list = Mylist[i]\n",
    "        print(\"Maximum value of the list\", Max_list)\n",
    "        print(\"-\"*30)\n",
    "        \n",
    "    # Create a list from unique value of original list.\n",
    "    elif choice == 8:\n",
    "        Unique_list = []\n",
    "        for i in Mylist:\n",
    "            if i not in Unique_list:\n",
    "                Unique_list.append(i)\n",
    "        print(\"Unqiue values from the list:\", Unique_list)\n",
    "        print(\"-\"*30)\n",
    "        \n",
    "    # Create a list of even value of orignial list using list comprehension.\n",
    "    elif choice == 9:\n",
    "        Even_list = [x for x in Mylist if (x%2)==0] # List Comprehension method used.\n",
    "        print(\"Even values in Mylist\", Even_list)\n",
    "        print(\"-\"*30)\n",
    "        \n",
    "    # Create the list with nth of each element from mylist using list comprehension.  \n",
    "    elif choice == 10:\n",
    "        power = int(input(\"Enter power ta create list: \"))\n",
    "        powerlist = [i ** power for i in Mylist]   # List Comprehension Methods used.\n",
    "        print(powerlist)\n",
    "        print(\"---List values---\")\n",
    "        print(Mylist)\n",
    "        print(\"-\"*30)\n",
    "    # if the user the choice of 11, then program will shows this message and also stop the program at this moment.\n",
    "    elif choice == 11:\n",
    "        print(\"Thank you ....\")\n",
    "        \n",
    "    # If the user enter the value greater than the 11 , then the program will show this message to user.\n",
    "    else:\n",
    "        print(\"INVALID CHOICE.....\")"
   ]
  },
  {
   "cell_type": "markdown",
   "metadata": {},
   "source": [
    "# Tuple Assignment."
   ]
  },
  {
   "cell_type": "markdown",
   "metadata": {},
   "source": [
    "# 1. Write a program to create a tuple with all type of values."
   ]
  },
  {
   "cell_type": "code",
   "execution_count": 7,
   "metadata": {},
   "outputs": [
    {
     "name": "stdout",
     "output_type": "stream",
     "text": [
      "<class 'tuple'>\n",
      "('Colours', 33.34, True, False, 'Apple', 10, 'Machine', 12)\n"
     ]
    }
   ],
   "source": [
    "Tuple_list = (\"Colours\",33.34,True,False,\"Apple\",10,\"Machine\",12)\n",
    "print(type(Tuple_list))\n",
    "print(Tuple_list)"
   ]
  },
  {
   "cell_type": "markdown",
   "metadata": {},
   "source": [
    "# 2. Write a program to print above tuple using for loop with index."
   ]
  },
  {
   "cell_type": "code",
   "execution_count": 9,
   "metadata": {},
   "outputs": [
    {
     "name": "stdout",
     "output_type": "stream",
     "text": [
      "Tuple_list2 0: Colours\n",
      "Tuple_list2 1: 33.34\n",
      "Tuple_list2 2: True\n",
      "Tuple_list2 3: False\n",
      "Tuple_list2 4: Apple\n",
      "Tuple_list2 5: 10\n",
      "Tuple_list2 6: Machine\n",
      "Tuple_list2 7: 12\n"
     ]
    }
   ],
   "source": [
    "Tuple_list2 = (\"Colours\",33.34,True,False,\"Apple\",10,\"Machine\",12)\n",
    "for i in range(len(Tuple_list2)):\n",
    "    print(\"Tuple_list2 {}: {}\".format(i , Tuple_list2[i]))"
   ]
  },
  {
   "cell_type": "markdown",
   "metadata": {},
   "source": [
    "# SET Assignment"
   ]
  },
  {
   "cell_type": "markdown",
   "metadata": {},
   "source": [
    "## 1. Write a program to perform the following operation on s1 and s2"
   ]
  },
  {
   "cell_type": "code",
   "execution_count": 3,
   "metadata": {},
   "outputs": [],
   "source": [
    "s1 = {1,2,3,4,5}\n",
    "s2 = {3,4,5,6,7,8,9}"
   ]
  },
  {
   "cell_type": "markdown",
   "metadata": {},
   "source": [
    "# A. Find the type of s1 and s2"
   ]
  },
  {
   "cell_type": "code",
   "execution_count": 9,
   "metadata": {},
   "outputs": [
    {
     "name": "stdout",
     "output_type": "stream",
     "text": [
      "<class 'set'>\n",
      "<class 'set'>\n"
     ]
    }
   ],
   "source": [
    "print(type(s1))\n",
    "print(type(s2))"
   ]
  },
  {
   "cell_type": "markdown",
   "metadata": {},
   "source": [
    "## B. Find the union of the s1 and s2 using operator."
   ]
  },
  {
   "cell_type": "code",
   "execution_count": 10,
   "metadata": {},
   "outputs": [
    {
     "name": "stdout",
     "output_type": "stream",
     "text": [
      "Union of s1 and s2: {1, 2, 3, 4, 5, 6, 7, 8, 9}\n"
     ]
    }
   ],
   "source": [
    "s3 = s1 | s2\n",
    "print(\"Union of s1 and s2:\",s3)"
   ]
  },
  {
   "cell_type": "markdown",
   "metadata": {},
   "source": [
    "## C. Find the intersection of s1 and s2 using function."
   ]
  },
  {
   "cell_type": "code",
   "execution_count": 11,
   "metadata": {},
   "outputs": [
    {
     "name": "stdout",
     "output_type": "stream",
     "text": [
      "Intersection of s1 and s2: {3, 4, 5}\n"
     ]
    }
   ],
   "source": [
    "s4 = s1.intersection(s2)\n",
    "print(\"Intersection of s1 and s2:\",s4)"
   ]
  },
  {
   "cell_type": "markdown",
   "metadata": {},
   "source": [
    "## D. Find the Difference between s1 and s2 using operator."
   ]
  },
  {
   "cell_type": "code",
   "execution_count": 12,
   "metadata": {},
   "outputs": [
    {
     "name": "stdout",
     "output_type": "stream",
     "text": [
      "Difference of s1 and s2: {1, 2}\n"
     ]
    }
   ],
   "source": [
    "s5 = s1 - s2\n",
    "print(\"Difference of s1 and s2:\",s5)"
   ]
  },
  {
   "cell_type": "markdown",
   "metadata": {},
   "source": [
    "## E. Find the Symmetric difference between s1 and s2 using function."
   ]
  },
  {
   "cell_type": "code",
   "execution_count": 13,
   "metadata": {},
   "outputs": [
    {
     "name": "stdout",
     "output_type": "stream",
     "text": [
      "{1, 2, 6, 7, 8, 9}\n"
     ]
    }
   ],
   "source": [
    "s6 = s1.symmetric_difference(s2)\n",
    "print(s6)"
   ]
  },
  {
   "cell_type": "markdown",
   "metadata": {},
   "source": [
    "# 2. Write a program to make a repeated menu driven program in python using simple if -else"
   ]
  },
  {
   "cell_type": "code",
   "execution_count": 5,
   "metadata": {},
   "outputs": [
    {
     "name": "stdout",
     "output_type": "stream",
     "text": [
      " 1. Add n Values in given set\n",
      "2. Remove element enter by user.\n",
      "3. Sum of all values.\n",
      "4. Print and count Even elements\n",
      "5. Exit\n",
      "\n",
      "Enter the choice: 4\n",
      "{1, 2, 3, 4, 5, 6, 8, 12}\n",
      "1,2,3,4,5,6,8,12,Numbers of Even Number in s1: 5\n",
      "------------------------------\n",
      " 1. Add n Values in given set\n",
      "2. Remove element enter by user.\n",
      "3. Sum of all values.\n",
      "4. Print and count Even elements\n",
      "5. Exit\n",
      "\n",
      "Enter the choice: 5\n",
      "Exit\n"
     ]
    }
   ],
   "source": [
    "choice = 0\n",
    "Selection_Menu = ''' 1. Add n Values in given set\n",
    "2. Remove element enter by user.\n",
    "3. Sum of all values.\n",
    "4. Print and count Even elements\n",
    "5. Exit\n",
    "'''\n",
    "while choice != 5:\n",
    "    print(Selection_Menu)\n",
    "    choice = int(input(\"Enter the choice: \"))\n",
    "    \n",
    "    if choice == 1:\n",
    "        add_values = int(input(\"Enter your values:\"))\n",
    "        s1.add(add_values)\n",
    "        print(s1)\n",
    "        print(\"-\"*30)\n",
    "    elif choice == 2:\n",
    "        remove_values = int(input(\"Remove the values: \"))\n",
    "        s1.remove(remove_values)\n",
    "        print(s1)\n",
    "        print(\"-\"*30)\n",
    "    elif choice == 3:\n",
    "        print(s1)\n",
    "        Sum_list = sum(s1)\n",
    "        print(\"Sum of all values present in set is: \",Sum_list)\n",
    "        print(\"-\"*30)\n",
    "    elif choice == 4:\n",
    "        print(s1)\n",
    "        count = 0\n",
    "        for i in s1:\n",
    "            if i%2 == 0:\n",
    "                count += 1\n",
    "                print(i,end=',')\n",
    "            print(\"Numbers of Even Number in s1:\", count)\n",
    "        print('-'*30)\n",
    "    else:\n",
    "        print(\"Exit\")"
   ]
  },
  {
   "cell_type": "code",
   "execution_count": null,
   "metadata": {},
   "outputs": [],
   "source": []
  }
 ],
 "metadata": {
  "kernelspec": {
   "display_name": "Python 3",
   "language": "python",
   "name": "python3"
  },
  "language_info": {
   "codemirror_mode": {
    "name": "ipython",
    "version": 3
   },
   "file_extension": ".py",
   "mimetype": "text/x-python",
   "name": "python",
   "nbconvert_exporter": "python",
   "pygments_lexer": "ipython3",
   "version": "3.7.6"
  }
 },
 "nbformat": 4,
 "nbformat_minor": 4
}
