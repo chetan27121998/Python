{
 "cells": [
  {
   "cell_type": "code",
   "execution_count": 1,
   "id": "55b67fb4",
   "metadata": {},
   "outputs": [
    {
     "name": "stdout",
     "output_type": "stream",
     "text": [
      "ths is my __init__ package\n",
      "this is my module1 package\n",
      "this is my module2 package\n",
      "8\n",
      "9\n",
      "Multiplication is  72\n",
      "Addition of two numbers is: 17\n",
      "Multiplication of two numbers is: 72\n",
      "Addition of two number is : 17\n",
      "Multiplication of two number is : 72\n",
      "Addition is  17\n",
      "Multiplication is  72\n",
      "Addition is: 17\n",
      "Multiplication is: 72\n"
     ]
    }
   ],
   "source": [
    "import Mypkg\n",
    "import Mypkg.module1\n",
    "import Mypkg.module2\n",
    "n1 = int(input())\n",
    "n2 = int(input())\n",
    "\n",
    "# 1st way to execute the module\n",
    "print(\"Multiplication is \",Mypkg.module2.mult(n1,n2))\n",
    "\n",
    "#2nd way to execute the module.\n",
    "from Mypkg import module1,module2\n",
    "print(\"Addition of two numbers is:\",module1.add(n1,n2))\n",
    "print(\"Multiplication of two numbers is:\",module2.mult(n1,n2))\n",
    "\n",
    "# 3rd way to execute the module.\n",
    "\n",
    "from Mypkg.module1 import add\n",
    "from Mypkg.module2 import mult\n",
    "print(\"Addition of two number is :\",add(n1,n2))\n",
    "print('Multiplication of two number is :', mult(n1,n2))\n",
    "\n",
    "#4th if other modules of are included in __init__.py\n",
    "import Mypkg\n",
    "print (\"Addition is \",Mypkg.add(n1,n2))\n",
    "print(\"Multiplication is \",Mypkg.mult(n1,n2))\n",
    "\n",
    "from Mypkg import *\n",
    "print(\"Addition is:\",add(n1,n2))\n",
    "print(\"Multiplication is:\", mult(n1,n2))"
   ]
  },
  {
   "cell_type": "code",
   "execution_count": null,
   "id": "253e7a83",
   "metadata": {},
   "outputs": [],
   "source": []
  }
 ],
 "metadata": {
  "kernelspec": {
   "display_name": "Python 3",
   "language": "python",
   "name": "python3"
  },
  "language_info": {
   "codemirror_mode": {
    "name": "ipython",
    "version": 3
   },
   "file_extension": ".py",
   "mimetype": "text/x-python",
   "name": "python",
   "nbconvert_exporter": "python",
   "pygments_lexer": "ipython3",
   "version": "3.8.8"
  }
 },
 "nbformat": 4,
 "nbformat_minor": 5
}
