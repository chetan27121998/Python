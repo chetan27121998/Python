{
 "cells": [
  {
   "cell_type": "markdown",
   "id": "d6012121",
   "metadata": {},
   "source": [
    "# Importance methods of re module.\n",
    "#### 1. findall(pattern,string)\n",
    "         It is use to search and fetch all the words from the string.\n",
    "#### 2. search(pattern,string)\n",
    "         It is use to search a specific word or pattern in given string.\n",
    "         If word or pattern is found it return in given string.\n",
    "         If word or pattern is not found it return is None\n",
    "#### 3.  split(pattern,string)\n",
    "         split function is return the list of substrings where the pattern is match\n",
    "#### 4. sub(oldword,newword,string)\n",
    "         "
   ]
  },
  {
   "cell_type": "markdown",
   "id": "1a9daa66",
   "metadata": {},
   "source": [
    "## findall(pattern,string)"
   ]
  },
  {
   "cell_type": "code",
   "execution_count": 1,
   "id": "2582a0b3",
   "metadata": {},
   "outputs": [
    {
     "name": "stdout",
     "output_type": "stream",
     "text": [
      "['Python', 'Python']\n"
     ]
    }
   ],
   "source": [
    "import re\n",
    "str = \"Python is object oriented programming language. Python is easy to understand.\"\n",
    "\n",
    "# Searching with string in given string. And also it's case sensitive \n",
    "list_1 = re.findall(\"Python\",str)  # Two arguments required only.\n",
    "print(list_1)\n"
   ]
  },
  {
   "cell_type": "code",
   "execution_count": 2,
   "id": "b3a67d56",
   "metadata": {},
   "outputs": [
    {
     "name": "stdout",
     "output_type": "stream",
     "text": [
      "['i', 'i', 'i', 'i']\n"
     ]
    }
   ],
   "source": [
    "list_2 = re.findall(\"i\",str)\n",
    "print(list_2)"
   ]
  },
  {
   "cell_type": "code",
   "execution_count": 3,
   "id": "97d4148d",
   "metadata": {},
   "outputs": [
    {
     "name": "stdout",
     "output_type": "stream",
     "text": [
      "['o', 'i', 'o', 'o', 'i', 'o', 'i', 'o', 'i', 'o']\n"
     ]
    }
   ],
   "source": [
    "list_3 = re.findall(\"[io]\",str) # Searching multiple character at one time.\n",
    "print(list_3)"
   ]
  },
  {
   "cell_type": "markdown",
   "id": "3c6562b0",
   "metadata": {},
   "source": [
    "## search(pattern,string)"
   ]
  },
  {
   "cell_type": "code",
   "execution_count": 4,
   "id": "7dfb5aa4",
   "metadata": {},
   "outputs": [
    {
     "name": "stdout",
     "output_type": "stream",
     "text": [
      "matchobj <re.Match object; span=(7, 8), match='i'>\n",
      "Index range (7, 8)  in  Python is object oriented programming language. Python is easy to understand.\n"
     ]
    }
   ],
   "source": [
    "matchobj = re.search(\"i\",str)\n",
    "print(\"matchobj\",matchobj)\n",
    "# Here span() is method of match class which index of search word.\n",
    "print(\"Index range\",matchobj.span(), \" in \", matchobj.string)"
   ]
  },
  {
   "cell_type": "markdown",
   "id": "f5e669f8",
   "metadata": {},
   "source": [
    "## split(pattern, string)"
   ]
  },
  {
   "cell_type": "code",
   "execution_count": 5,
   "id": "57faa9f6",
   "metadata": {},
   "outputs": [
    {
     "name": "stdout",
     "output_type": "stream",
     "text": [
      "['', ' is object oriented programming language. ', ' is easy to understand.']\n"
     ]
    }
   ],
   "source": [
    "list_4 = re.split(\"Python\",str)\n",
    "print(list_4)"
   ]
  },
  {
   "cell_type": "markdown",
   "id": "8bf6b0db",
   "metadata": {},
   "source": [
    "## sub(oldword,newword,string)"
   ]
  },
  {
   "cell_type": "code",
   "execution_count": 6,
   "id": "d985eb7e",
   "metadata": {},
   "outputs": [
    {
     "name": "stdout",
     "output_type": "stream",
     "text": [
      "old string:  Python is object oriented programming language. Python is easy to understand.\n",
      "new string:  Java is object oriented programming language. Java is easy to understand.\n"
     ]
    }
   ],
   "source": [
    "print(\"old string: \",str)\n",
    "list_5 = re.sub(\"Python\",\"Java\",str)\n",
    "print(\"new string: \",list_5)"
   ]
  },
  {
   "cell_type": "markdown",
   "id": "2702b820",
   "metadata": {},
   "source": [
    "## findall method with pattern\n",
    "\n",
    "\n",
    "#### In Regular Expression , pattern are created by using meta characters.\n",
    "\n",
    "\n",
    "#####  LIST METACHARACTER AS FOLLOWS:\n",
    "      1) []  :-    It help you to search specific in string\n",
    "                eg. [ab] -> this pattern search a and b\n",
    "      2) [a-b] :-  It help you to search specific range of characters .\n",
    "      3) [a-z] :- It help you to search only the small case characters.\n",
    "      4) [A-Z] :- It help you to search only the capital case characters.\n",
    "      5) [A-Za-z0-9] :- It help you to search only small, capital and digits.\n",
    "      6) ^[a-z] :- It help you to search start with small alphabets.\n",
    "      7) [A-Z]$ :- It help you to search end character with alphabets, last single character will be verify. \n",
    "      8) [a-z]+ :- It help you to search one or many \n",
    "      9) [a-z]* :- It help you to search zero or many.\n",
    "      10) [a-z]{m}   length of pattern should be exact m.\n",
    "      11) [a-z]{m, }  length of pattern should be atleast m.\n",
    "      12) [a-z]{m,n} min length "
   ]
  },
  {
   "cell_type": "code",
   "execution_count": 7,
   "id": "762b37b5",
   "metadata": {},
   "outputs": [
    {
     "name": "stdout",
     "output_type": "stream",
     "text": [
      "['o', 'i', 'o', 'e', 'o', 'i', 'e', 'e', 'o', 'a', 'i', 'a', 'u', 'a', 'e', 'o', 'i', 'e', 'a', 'o', 'u', 'e', 'a']\n",
      "a = 5\n",
      "e = 6\n",
      "i = 4\n",
      "u = 2\n",
      "o = 6\n"
     ]
    }
   ],
   "source": [
    "pattern1 = \"[aeiou]\"\n",
    "list_6 = re.findall(pattern1,str)\n",
    "# Here it will find all the small case vowels in given string. \n",
    "print(list_6)\n",
    "unique_list = set(list_6)\n",
    "for char in unique_list:\n",
    "    print(char,\"=\",list_6.count(char))"
   ]
  },
  {
   "cell_type": "markdown",
   "id": "dc17f301",
   "metadata": {},
   "source": [
    "# Validation "
   ]
  },
  {
   "cell_type": "code",
   "execution_count": 8,
   "id": "f3ff051e",
   "metadata": {},
   "outputs": [
    {
     "name": "stdout",
     "output_type": "stream",
     "text": [
      "Enter your Name: \n",
      "Invalid input\n"
     ]
    }
   ],
   "source": [
    "# Validation with Regular Expression.\n",
    "import re\n",
    "name = input(\"Enter your Name: \")\n",
    "isfound = re.search(\"^[a-z]+$\",name)         # \" ^[] \"start with only alphabets.\n",
    "                                            # \" + $ \" end with more than one characters.\n",
    "if isfound :                                # \" $ \"  end with only one characters.\n",
    "    print(\"Hii \", name)\n",
    "else:\n",
    "    print(\"Invalid input\")"
   ]
  },
  {
   "cell_type": "code",
   "execution_count": 9,
   "id": "9060fc71",
   "metadata": {},
   "outputs": [
    {
     "name": "stdout",
     "output_type": "stream",
     "text": [
      "Enter your Name: chetan\n",
      "Invalid input\n"
     ]
    }
   ],
   "source": [
    "name = input(\"Enter your Name: \")\n",
    "isfound = re.search(\"[^a-z]\",name)  # Here, this means it not includes SMALL characters, but it allows\n",
    "                                    # the digits and CAPITAL CHARACTERS ONLY.\n",
    "if isfound :\n",
    "    print(\"Hii \", name)\n",
    "else:\n",
    "    print(\"Invalid input\")"
   ]
  },
  {
   "cell_type": "code",
   "execution_count": 42,
   "id": "106345a9",
   "metadata": {},
   "outputs": [
    {
     "name": "stdout",
     "output_type": "stream",
     "text": [
      "Enter your Name: Chetan\n",
      "Hii  Chetan\n"
     ]
    }
   ],
   "source": [
    "name = input(\"Enter your Name: \")\n",
    "# Validation for name\n",
    "isfound = re.search(\"[A-Z]{1}[a-z]+$\",name)  # Here, this means it not includes SMALL characters, but it allows\n",
    "                                    # the digits and CAPITAL CHARACTERS ONLY.\n",
    "if isfound :\n",
    "    print(\"Hii \", name)\n",
    "else:\n",
    "    print(\"Invalid input\")"
   ]
  },
  {
   "cell_type": "code",
   "execution_count": null,
   "id": "4dedfe48",
   "metadata": {},
   "outputs": [],
   "source": [
    "# Email Pattern\n",
    "email_pattern = \"^[a-zA-Z0-9._]{3}@[a-z]{3, }.[a-z]{2,3}$\""
   ]
  },
  {
   "cell_type": "code",
   "execution_count": 49,
   "id": "5329b2fa",
   "metadata": {},
   "outputs": [
    {
     "name": "stdout",
     "output_type": "stream",
     "text": [
      "Enter your email: chetan_894@gmail.com\n",
      "Hii  chetan_894@gmail.com\n"
     ]
    }
   ],
   "source": [
    "email = input(\"Enter your email: \")\n",
    "email_pattern =re.search(\"^[a-zA-Z]+[0-9._]+@[a-z]{3,}.[a-z]{2,3}$\",email)  \n",
    "if email_pattern :\n",
    "    print(\"Hii \", email)\n",
    "else:\n",
    "    print(\"Invalid input\")"
   ]
  },
  {
   "cell_type": "code",
   "execution_count": null,
   "id": "84e3a4a5",
   "metadata": {},
   "outputs": [],
   "source": []
  }
 ],
 "metadata": {
  "kernelspec": {
   "display_name": "Python 3",
   "language": "python",
   "name": "python3"
  },
  "language_info": {
   "codemirror_mode": {
    "name": "ipython",
    "version": 3
   },
   "file_extension": ".py",
   "mimetype": "text/x-python",
   "name": "python",
   "nbconvert_exporter": "python",
   "pygments_lexer": "ipython3",
   "version": "3.8.8"
  }
 },
 "nbformat": 4,
 "nbformat_minor": 5
}
