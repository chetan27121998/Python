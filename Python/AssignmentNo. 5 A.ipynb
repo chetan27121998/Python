{
 "cells": [
  {
   "cell_type": "markdown",
   "metadata": {},
   "source": [
    "# 1.   \n",
    "       *\n",
    "      ***\n",
    "     *****\n",
    "    *******"
   ]
  },
  {
   "cell_type": "code",
   "execution_count": 1,
   "metadata": {},
   "outputs": [
    {
     "name": "stdout",
     "output_type": "stream",
     "text": [
      "    *\n",
      "   ***\n",
      "  *****\n",
      " *******\n"
     ]
    }
   ],
   "source": [
    "for row in range(1,5):\n",
    "    for sp in range(5, row,-1):\n",
    "        print(\" \", end='')\n",
    "    for col in range(1,2*row):\n",
    "        print(\"*\", end='')\n",
    "        row +=1\n",
    "    print()"
   ]
  },
  {
   "cell_type": "markdown",
   "metadata": {},
   "source": [
    "# 2.\n",
    "         1\n",
    "        123\n",
    "       12345\n",
    "      1234567"
   ]
  },
  {
   "cell_type": "code",
   "execution_count": 2,
   "metadata": {},
   "outputs": [
    {
     "name": "stdout",
     "output_type": "stream",
     "text": [
      "    1\n",
      "   123\n",
      "  12345\n",
      " 1234567\n"
     ]
    }
   ],
   "source": [
    "for row in range(1,5):\n",
    "    for sp in range(5, row,-1):\n",
    "        print(\" \", end='')\n",
    "    for col in range(1,2*row):\n",
    "        print(col, end='')\n",
    "        row +=1\n",
    "    print()"
   ]
  },
  {
   "cell_type": "markdown",
   "metadata": {},
   "source": [
    "# 3. \n",
    "\n",
    "    1\n",
    "    0 1\n",
    "    1 0 1\n",
    "    0 1 0 1"
   ]
  },
  {
   "cell_type": "code",
   "execution_count": 8,
   "metadata": {},
   "outputs": [
    {
     "name": "stdout",
     "output_type": "stream",
     "text": [
      " 1 \n",
      " 0  1 \n",
      " 1  0  1 \n",
      " 0  1  0  1 \n"
     ]
    }
   ],
   "source": [
    "for row in range(0,4):\n",
    "    for col in range(0,row+1):\n",
    "        if (row+col)%2==0:\n",
    "            print(' 1 ', end='')\n",
    "        else:\n",
    "            print(' 0 ', end='')\n",
    "    print()"
   ]
  },
  {
   "cell_type": "markdown",
   "metadata": {},
   "source": [
    "# 4. \n",
    "\n",
    "    1\n",
    "    0 1\n",
    "    0 1 0\n",
    "    1 0 1 0"
   ]
  },
  {
   "cell_type": "code",
   "execution_count": 12,
   "metadata": {},
   "outputs": [
    {
     "name": "stdout",
     "output_type": "stream",
     "text": [
      "Enter your number: 4\n",
      "1 \n",
      "0 1 \n",
      "0 1 0 \n",
      "1 0 1 0 \n"
     ]
    }
   ],
   "source": [
    "n = int(input(\"Enter your number: \"))\n",
    "S = 1\n",
    "for row in range(1,n+1):\n",
    "    for col in range(1,row+1):\n",
    "        print(S%2, end = ' ')\n",
    "        S += 1\n",
    "    print()"
   ]
  },
  {
   "cell_type": "code",
   "execution_count": null,
   "metadata": {},
   "outputs": [],
   "source": []
  }
 ],
 "metadata": {
  "kernelspec": {
   "display_name": "Python 3",
   "language": "python",
   "name": "python3"
  },
  "language_info": {
   "codemirror_mode": {
    "name": "ipython",
    "version": 3
   },
   "file_extension": ".py",
   "mimetype": "text/x-python",
   "name": "python",
   "nbconvert_exporter": "python",
   "pygments_lexer": "ipython3",
   "version": "3.7.6"
  }
 },
 "nbformat": 4,
 "nbformat_minor": 4
}
