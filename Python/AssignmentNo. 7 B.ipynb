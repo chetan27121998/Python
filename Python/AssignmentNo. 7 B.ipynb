{
 "cells": [
  {
   "cell_type": "code",
   "execution_count": 7,
   "metadata": {},
   "outputs": [
    {
     "name": "stdout",
     "output_type": "stream",
     "text": [
      "Enter your First Values: 78\n",
      "Enter your Second Values: 89\n",
      "Addition and Substraction of both the numbers is:  (167, -11)\n"
     ]
    }
   ],
   "source": [
    "# Creating the function of calculation with two variables needed.\n",
    "Num1 = int(input(\"Enter your First Values: \"))\n",
    "Num2 = int(input(\"Enter your Second Values: \"))\n",
    "def Calculation(Num1,Num2):\n",
    "    Add = Num1 + Num2\n",
    "    Substract = Num1 - Num2\n",
    "    return Add,Substract  # And returing the output both in single return command.\n",
    "\n",
    "# Assigning the output to be printed with result variable and also assigning the above variable values.\n",
    "Result = Calculation(Num1, Num2)\n",
    "print(\"Addition and Substraction of both the numbers is: \", Result)"
   ]
  },
  {
   "cell_type": "code",
   "execution_count": null,
   "metadata": {},
   "outputs": [],
   "source": []
  }
 ],
 "metadata": {
  "kernelspec": {
   "display_name": "Python 3",
   "language": "python",
   "name": "python3"
  },
  "language_info": {
   "codemirror_mode": {
    "name": "ipython",
    "version": 3
   },
   "file_extension": ".py",
   "mimetype": "text/x-python",
   "name": "python",
   "nbconvert_exporter": "python",
   "pygments_lexer": "ipython3",
   "version": "3.7.6"
  }
 },
 "nbformat": 4,
 "nbformat_minor": 4
}
