{
 "cells": [
  {
   "cell_type": "markdown",
   "id": "915e789f",
   "metadata": {},
   "source": [
    "# Create a class Student that will accept Student Name and Course Joined. Note the data members have to be strongly private.\n",
    "\n",
    "Create constructor and destructor\n",
    "\n",
    "Functions to input and display information of the student"
   ]
  },
  {
   "cell_type": "code",
   "execution_count": 8,
   "id": "dbcae323",
   "metadata": {},
   "outputs": [
    {
     "name": "stdout",
     "output_type": "stream",
     "text": [
      "Enter your name: Chetan \n",
      "Enter the COURSE NAME: Mechanical\n",
      "Name of the student :  Chetan \n",
      "Name of the course enrollment :  Mechanical\n",
      "Destructor is invoke , object get deleted! \n"
     ]
    }
   ],
   "source": [
    "class Student:\n",
    "    \n",
    "    # Create the constructor with the strongly private data member:\n",
    "    def __init__(self):\n",
    "        #Private /Strongly Private\n",
    "        self.__stud_name = input(\"Enter your name: \")\n",
    "        self.__stud_course = input(\"Enter the COURSE NAME: \")\n",
    "        \n",
    "    def display(self):\n",
    "        print(\"Name of the student : \",self.__stud_name)\n",
    "        print(\"Name of the course enrollment : \",self.__stud_course)\n",
    "        \n",
    "    # Create destructor     \n",
    "    def __del__(self):\n",
    "        print(\"Destructor is invoke , object get deleted! \")\n",
    "        \n",
    "        \n",
    "obj = Student()\n",
    "obj.display()\n",
    "\n",
    "# manaully delete\n",
    "del obj"
   ]
  },
  {
   "cell_type": "code",
   "execution_count": null,
   "id": "dce15964",
   "metadata": {},
   "outputs": [],
   "source": []
  }
 ],
 "metadata": {
  "kernelspec": {
   "display_name": "Python 3",
   "language": "python",
   "name": "python3"
  },
  "language_info": {
   "codemirror_mode": {
    "name": "ipython",
    "version": 3
   },
   "file_extension": ".py",
   "mimetype": "text/x-python",
   "name": "python",
   "nbconvert_exporter": "python",
   "pygments_lexer": "ipython3",
   "version": "3.8.8"
  }
 },
 "nbformat": 4,
 "nbformat_minor": 5
}
