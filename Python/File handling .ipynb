{
 "cells": [
  {
   "cell_type": "markdown",
   "id": "f39013b5",
   "metadata": {},
   "source": [
    "# 06-09-2021"
   ]
  },
  {
   "cell_type": "markdown",
   "id": "22484cac",
   "metadata": {},
   "source": [
    "#  File Handling\n",
    "\n",
    "####    -- File handling is one of the important mechanism of the python, which we can access file of system drive(hard-disk).\n",
    "    \n",
    "####    -- Using file we can read, write, create, delete file in hard-disk.\n",
    "    \n",
    "####   -- There are different modules and packages used to create and write file of different extension.\n",
    "    \n",
    "####    -- Using python core module we can able to access only text and binary file.\n",
    "\n",
    "####   -- open(filepath, filemode)\n",
    "\n",
    "\n",
    "####              file type:-\n",
    "                      1. Text file  ----   t\n",
    "                      2. binary file ----  b \n",
    "\n",
    "                      r :- readonly\n",
    "                      w :- writeonly ( write file -- existing data will overwrite)\n",
    "                      a :- append (write file --- write overwrite)                     \n",
    "                      x :- create new file , if file is exist its gives error.\n",
    "#### TO PERFROM THE B0TH FUNCTION TOGETHER BUT WITH EACH DRAWBACK.\n",
    "####                    r+ :- read and write (FIRST REFERENCE TO READ ONLY)\n",
    "####                   w+ :- write and read (FIRST REFERENCE TO WRITE  ONLY)\n",
    "####                   a+ : - append and write.(FIRST REFERENCE TO APPEND ONLY)"
   ]
  },
  {
   "cell_type": "code",
   "execution_count": 1,
   "id": "bf465cb4",
   "metadata": {},
   "outputs": [
    {
     "name": "stdout",
     "output_type": "stream",
     "text": [
      "True\n"
     ]
    }
   ],
   "source": [
    "f1_txt = open(\"Message.txt\")   # default mode always tr/ text file in read mode. And its need proper name and proper extension.\n",
    "print(f1_txt.readable())"
   ]
  },
  {
   "cell_type": "code",
   "execution_count": 2,
   "id": "df1d1ee5",
   "metadata": {},
   "outputs": [
    {
     "name": "stdout",
     "output_type": "stream",
     "text": [
      "False\n"
     ]
    }
   ],
   "source": [
    "print(f1_txt.writable())"
   ]
  },
  {
   "cell_type": "code",
   "execution_count": 8,
   "id": "46525fea",
   "metadata": {},
   "outputs": [
    {
     "name": "stdout",
     "output_type": "stream",
     "text": [
      "False\n",
      "True\n"
     ]
    }
   ],
   "source": [
    "f2_txt = open(\"Message.txt\", \"w\")\n",
    "print(f2_txt.readable())\n",
    "print(f2_txt.writable())"
   ]
  },
  {
   "cell_type": "code",
   "execution_count": 13,
   "id": "44d10a6e",
   "metadata": {},
   "outputs": [
    {
     "ename": "FileExistsError",
     "evalue": "[Errno 17] File exists: 'Message1.txt'",
     "output_type": "error",
     "traceback": [
      "\u001b[1;31m---------------------------------------------------------------------------\u001b[0m",
      "\u001b[1;31mFileExistsError\u001b[0m                           Traceback (most recent call last)",
      "\u001b[1;32m<ipython-input-13-6268ddcbb1fe>\u001b[0m in \u001b[0;36m<module>\u001b[1;34m\u001b[0m\n\u001b[1;32m----> 1\u001b[1;33m \u001b[0mf3_txt\u001b[0m \u001b[1;33m=\u001b[0m \u001b[0mopen\u001b[0m\u001b[1;33m(\u001b[0m\u001b[1;34m\"Message1.txt\"\u001b[0m\u001b[1;33m,\u001b[0m \u001b[1;34m'x'\u001b[0m\u001b[1;33m)\u001b[0m \u001b[1;31m# first run will create new file name with \" Message1 \" and\u001b[0m\u001b[1;33m\u001b[0m\u001b[1;33m\u001b[0m\u001b[0m\n\u001b[0m\u001b[0;32m      2\u001b[0m                                    \u001b[1;31m# second run will shows error because its already exist in the folder.\u001b[0m\u001b[1;33m\u001b[0m\u001b[1;33m\u001b[0m\u001b[1;33m\u001b[0m\u001b[0m\n",
      "\u001b[1;31mFileExistsError\u001b[0m: [Errno 17] File exists: 'Message1.txt'"
     ]
    }
   ],
   "source": [
    "f3_txt = open(\"Message1.txt\", 'x') # first run will create new file name with \" Message1 \" and \n",
    "                                   # second run will shows error because its already exist in the folder."
   ]
  },
  {
   "cell_type": "markdown",
   "id": "f8004c55",
   "metadata": {},
   "source": [
    "# 07-09-2021"
   ]
  },
  {
   "cell_type": "code",
   "execution_count": 1,
   "id": "e391d7ed",
   "metadata": {},
   "outputs": [],
   "source": [
    "f4_txt = open(\"Message.txt\")   # Here file will be open if its exists.\n",
    "                            # if its not exists in directory it will shows error."
   ]
  },
  {
   "cell_type": "code",
   "execution_count": 2,
   "id": "626eeaae",
   "metadata": {},
   "outputs": [
    {
     "name": "stdout",
     "output_type": "stream",
     "text": [
      "hii\n",
      "everyone to class of the python.\n"
     ]
    }
   ],
   "source": [
    "data = f4_txt.read()  # Read the 'text' file with help of build- in function.\n",
    "print(data)"
   ]
  },
  {
   "cell_type": "code",
   "execution_count": 3,
   "id": "0ed87456",
   "metadata": {},
   "outputs": [],
   "source": [
    "f4_txt.close()   # always closed file which has been open while opeartion."
   ]
  },
  {
   "cell_type": "code",
   "execution_count": 8,
   "id": "49b5639a",
   "metadata": {},
   "outputs": [
    {
     "name": "stdout",
     "output_type": "stream",
     "text": [
      "hii\n",
      "\n",
      "ever\n",
      "current position is  9\n",
      "hii\n",
      "\n",
      "current position is  5\n"
     ]
    }
   ],
   "source": [
    "f5_txt = open(\"Message.txt\")\n",
    "data = f5_txt.read(3)\n",
    "print(data)\n",
    "data = f5_txt.read(5)\n",
    "print(data)\n",
    "curr_pos = f5_txt.tell()  # used to get current position of file.\n",
    "print(\"current position is \", curr_pos)\n",
    "\n",
    "# to change the current position of file.\n",
    "f5_txt.seek(0)      # seek() - this is function used to change thje current postion of file.\n",
    "data = f5_txt.read(4)\n",
    "print(data)\n",
    "cuur_pos1 = f5_txt.tell()\n",
    "print(\"current position is \", cuur_pos1)\n",
    "f5_txt.close()"
   ]
  },
  {
   "cell_type": "markdown",
   "id": "5eef6bd7",
   "metadata": {},
   "source": [
    "## readline() :- It will execute only string type output.\n",
    "## readlines() :- It will execute list of string type output."
   ]
  },
  {
   "cell_type": "code",
   "execution_count": 16,
   "id": "a7b39784",
   "metadata": {},
   "outputs": [
    {
     "name": "stdout",
     "output_type": "stream",
     "text": [
      "hii\n",
      "welcome to class of  python.\n",
      "this is batch of 12pm to 2pm.\n"
     ]
    }
   ],
   "source": [
    "# Read data from file line by the line.\n",
    "with open(\"Message.txt\") as f6_txt:\n",
    "     # we can also pass the command without using built in function of readlines. \n",
    "    for line in f6_txt.readlines():  # Entering Number in the brackets we can exceute only upto that line(2).\n",
    "        print(line,end='')           "
   ]
  },
  {
   "cell_type": "code",
   "execution_count": 17,
   "id": "03741a17",
   "metadata": {},
   "outputs": [],
   "source": [
    "# It give defualt as readable file without using any kind of function\n",
    "# If the File is exists, it will delete the data inside the file (truncate).\n",
    "# If the file doesn't exists it will create a new file.\n",
    "with open('hello.txt','w') as f7_txt:\n",
    "    f7_txt.write('Hii evryone to the class of python,\\n')\n",
    "    f7_txt.write('Welcome to ItVdedant.')"
   ]
  },
  {
   "cell_type": "code",
   "execution_count": 19,
   "id": "e41a1bd2",
   "metadata": {},
   "outputs": [],
   "source": [
    "# If the File is exists, it will append the data inside the file (adding the data).\n",
    "# If the file doesn't exists it will create a new file.\n",
    "with open('hello.txt','a') as f7_txt:\n",
    "    f7_txt.write('\\nHii Rohan to the class of python,\\n')\n",
    "    f7_txt.write('Welcome to ItVdedant.')"
   ]
  },
  {
   "cell_type": "code",
   "execution_count": 21,
   "id": "d71b1fad",
   "metadata": {},
   "outputs": [
    {
     "name": "stdout",
     "output_type": "stream",
     "text": [
      "Hii evryone to the class of python,\n",
      "Welcome to ItVdedant.\n",
      "Hii evryone to the class of python,\n",
      "Welcome to ItVdedant.\n",
      "Hii Rohan to the class of python,\n",
      "Welcome to ItVdedant.Here we are perform both action read and write\n",
      "46\n"
     ]
    }
   ],
   "source": [
    "# WE HAVE READ FUNCTION FIRST BECAUSE IT WILL READ DATA AND THEN WE CAN USED TO WRITE THE DATA.\n",
    "# if we don't use the read function it will delete the data from the file and then the new data write \n",
    "with open('hello.txt','r+')as f7_txt:\n",
    "    data = f7_txt.read()   # OLD DATA GET READ HERE.\n",
    "    print(data)\n",
    "    data1 = f7_txt.write('Here we are perform both action read and write')\n",
    "    print(data1)"
   ]
  },
  {
   "cell_type": "code",
   "execution_count": 23,
   "id": "77775bb7",
   "metadata": {},
   "outputs": [
    {
     "name": "stdout",
     "output_type": "stream",
     "text": [
      "Binary data is write in file.\n"
     ]
    }
   ],
   "source": [
    "# file operation on binary data\n",
    "with open('demo.txt','bw') as f1_bin:\n",
    "    f1_bin.write(b'hii  to everyone in the class.....')\n",
    "    print('Binary data is write in file.')"
   ]
  },
  {
   "cell_type": "code",
   "execution_count": 27,
   "id": "803931b9",
   "metadata": {},
   "outputs": [],
   "source": [
    "# to copy the img data of one image to another \n",
    "img1 = open('img1.png','br')\n",
    "img2 = open('img2.png','bw')\n",
    "\n",
    "data = img1.read()\n",
    "img2.write(data)\n",
    "\n",
    "img1.close()\n",
    "img2.close()"
   ]
  },
  {
   "cell_type": "code",
   "execution_count": 28,
   "id": "48912ef4",
   "metadata": {},
   "outputs": [],
   "source": [
    "# To peform the operation on files os module will be help you \n",
    "# like rename, delete, create folder."
   ]
  },
  {
   "cell_type": "markdown",
   "id": "d6d8952d",
   "metadata": {},
   "source": [
    "# Rename"
   ]
  },
  {
   "cell_type": "code",
   "execution_count": 29,
   "id": "2f66c8f1",
   "metadata": {},
   "outputs": [
    {
     "name": "stdout",
     "output_type": "stream",
     "text": [
      "image rename successfully\n"
     ]
    }
   ],
   "source": [
    "# rename existing file\n",
    "import os\n",
    "os.rename('img1.png','hacker_img.png')\n",
    "print('image rename successfully')"
   ]
  },
  {
   "cell_type": "markdown",
   "id": "b469bbdc",
   "metadata": {},
   "source": [
    "# Delete"
   ]
  },
  {
   "cell_type": "code",
   "execution_count": 30,
   "id": "8ceb4f8c",
   "metadata": {},
   "outputs": [
    {
     "name": "stdout",
     "output_type": "stream",
     "text": [
      "File Deleted successfully.\n"
     ]
    }
   ],
   "source": [
    "# Delete any existing file.\n",
    "# There not have the delete function.\n",
    "os.remove('img 2.png')\n",
    "print('File Deleted successfully.')"
   ]
  },
  {
   "cell_type": "markdown",
   "id": "9d1a7dcf",
   "metadata": {},
   "source": [
    "# Create New Folder"
   ]
  },
  {
   "cell_type": "code",
   "execution_count": 34,
   "id": "34d9fd3b",
   "metadata": {},
   "outputs": [
    {
     "name": "stdout",
     "output_type": "stream",
     "text": [
      "Folder is created successfully.\n"
     ]
    }
   ],
   "source": [
    "# Create new folder.\n",
    "# IF ITS EXISIT IT WILL GIVE AN ERROR \n",
    "os.mkdir('test1') # MAKE DIRECTORY.\n",
    "print('Folder is created successfully.')"
   ]
  },
  {
   "cell_type": "markdown",
   "id": "619de853",
   "metadata": {},
   "source": [
    "# Delete Folder."
   ]
  },
  {
   "cell_type": "code",
   "execution_count": 35,
   "id": "89796b3a",
   "metadata": {},
   "outputs": [
    {
     "name": "stdout",
     "output_type": "stream",
     "text": [
      "Folder is  deleted successfully.\n"
     ]
    }
   ],
   "source": [
    "# Delete Folder (Non-Empty will not be deleted from this method.)\n",
    "# The folder must be empty.\n",
    "# if the folder is open any backgruond it will give an error.\n",
    "# if the folder not exisited then also it will give an error.\n",
    "os.removedirs('test1')\n",
    "print('Folder is  deleted successfully.')"
   ]
  },
  {
   "cell_type": "markdown",
   "id": "d6231f22",
   "metadata": {},
   "source": [
    "# Task to search module and method which used to delete folder with its file."
   ]
  },
  {
   "cell_type": "code",
   "execution_count": null,
   "id": "094c1642",
   "metadata": {},
   "outputs": [],
   "source": []
  },
  {
   "cell_type": "markdown",
   "id": "ed148588",
   "metadata": {},
   "source": [
    "# Serialization\n",
    "\n",
    "### Serializaton is process in which python obejct like (int, float, list , tuple, dict, etc..) and also user define object  also  into byte.\n",
    "\n",
    "### Why we need serialization?\n",
    "\n",
    " Hardware and network area not able understand.\n",
    " Python object so we need to convert them  into byte.\n",
    " It achieve by Serialization."
   ]
  },
  {
   "cell_type": "markdown",
   "id": "28c6c79d",
   "metadata": {},
   "source": [
    "## To achieve practically.\n",
    "### we  have to use pickle module\n",
    "### Serialization is also known as pickling also.\n",
    "### Pickle module provide method for serialization.\n",
    "     dump(python object,file object)"
   ]
  },
  {
   "cell_type": "code",
   "execution_count": 38,
   "id": "fa6440d9",
   "metadata": {},
   "outputs": [],
   "source": [
    "import pickle as pk"
   ]
  },
  {
   "cell_type": "code",
   "execution_count": 42,
   "id": "43353459",
   "metadata": {},
   "outputs": [
    {
     "name": "stdout",
     "output_type": "stream",
     "text": [
      "emp dictoonary is save in file\n"
     ]
    }
   ],
   "source": [
    "# SERIALIZATION\n",
    "\n",
    "emp = {'emp_id':102, 'emp_name':'Raj', 'empsal':50000}\n",
    "my_file = open('emp.txt','bw')\n",
    "pk.dump(emp,my_file)\n",
    "\n",
    "\n",
    "my_file.close()\n",
    "print('emp dictoonary is save in file')"
   ]
  },
  {
   "cell_type": "markdown",
   "id": "a975225b",
   "metadata": {},
   "source": [
    "# Deserialization\n",
    "#### Deserialization is vice-versa to serialization\n",
    "### i.e converting serialization byte object into python obejct.\n",
    "       Load(file object)"
   ]
  },
  {
   "cell_type": "code",
   "execution_count": 43,
   "id": "2641b9b2",
   "metadata": {},
   "outputs": [
    {
     "name": "stdout",
     "output_type": "stream",
     "text": [
      "{'emp_id': 102, 'emp_name': 'Raj', 'empsal': 50000}\n",
      "Deserilization is successful.\n"
     ]
    }
   ],
   "source": [
    "# Deserialization \n",
    "my_file = open('emp.txt','br')\n",
    "emp1 = pk.load(my_file)\n",
    "print(emp1)\n",
    "print('Deserilization is successful.')"
   ]
  },
  {
   "cell_type": "code",
   "execution_count": null,
   "id": "f64dcf5c",
   "metadata": {},
   "outputs": [],
   "source": []
  }
 ],
 "metadata": {
  "kernelspec": {
   "display_name": "Python 3",
   "language": "python",
   "name": "python3"
  },
  "language_info": {
   "codemirror_mode": {
    "name": "ipython",
    "version": 3
   },
   "file_extension": ".py",
   "mimetype": "text/x-python",
   "name": "python",
   "nbconvert_exporter": "python",
   "pygments_lexer": "ipython3",
   "version": "3.8.8"
  }
 },
 "nbformat": 4,
 "nbformat_minor": 5
}
