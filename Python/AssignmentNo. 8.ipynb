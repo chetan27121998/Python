{
 "cells": [
  {
   "cell_type": "markdown",
   "metadata": {},
   "source": [
    "# 1.Write a Python program to print yesterday, today, tomorrow."
   ]
  },
  {
   "cell_type": "code",
   "execution_count": 4,
   "metadata": {},
   "outputs": [
    {
     "name": "stdout",
     "output_type": "stream",
     "text": [
      "Today 2021-09-09\n",
      "Yesterday 2021-09-08\n",
      "Tomorrow 2021-09-10\n"
     ]
    }
   ],
   "source": [
    "import datetime\n",
    "today = datetime.date.today()\n",
    "yesterday = today - datetime.timedelta(days = 1)\n",
    "tomorrow = today + datetime.timedelta(days = 1)\n",
    "print(\"Today\",today)\n",
    "print(\"Yesterday\", yesterday)\n",
    "print(\"Tomorrow\", tomorrow)"
   ]
  },
  {
   "cell_type": "markdown",
   "metadata": {},
   "source": [
    "# 2.Write a Python program to print next n days starting from today."
   ]
  },
  {
   "cell_type": "code",
   "execution_count": 7,
   "metadata": {},
   "outputs": [
    {
     "name": "stdout",
     "output_type": "stream",
     "text": [
      "Enter your next n days:- 6\n",
      "2021-09-10 00:02:09.535800\n",
      "2021-09-11 00:02:09.535800\n",
      "2021-09-12 00:02:09.535800\n",
      "2021-09-13 00:02:09.535800\n",
      "2021-09-14 00:02:09.535800\n",
      "2021-09-15 00:02:09.535800\n"
     ]
    }
   ],
   "source": [
    "import datetime\n",
    "N = int(input(\"Enter your next n days:- \"))\n",
    "base = datetime.datetime.today()\n",
    "for i in range(0,N):\n",
    "    print(base + datetime.timedelta(days = i))"
   ]
  },
  {
   "cell_type": "markdown",
   "metadata": {},
   "source": [
    "# 3.WAP to demonstrate all the methods in datetime module\n",
    "\n",
    "-> datetime\n",
    "      - year\n",
    "      - month\n",
    "      - day\n",
    "      - timedelta\n",
    "      - strftime\n",
    "      - datetime.strptime\n",
    "-> time\n",
    "     - hour\n",
    "     - minute\n",
    "     - second"
   ]
  },
  {
   "cell_type": "code",
   "execution_count": 30,
   "metadata": {},
   "outputs": [
    {
     "name": "stdout",
     "output_type": "stream",
     "text": [
      "Current Year 2021\n",
      "--------------------------------------------------------------------------------\n",
      "Currnet Year 9\n",
      "--------------------------------------------------------------------------------\n",
      "Current Year 10\n",
      "--------------------------------------------------------------------------------\n",
      "Year 2021\n",
      "--------------------------------------------------------------------------------\n",
      "Month September\n",
      "--------------------------------------------------------------------------------\n",
      "date_object = 2018-06-21 00:00:00\n",
      "type of date_object = <class 'datetime.datetime'>\n",
      "--------------------------------------------------------------------------------\n",
      "Current Time =  00 : 44 : 57\n"
     ]
    }
   ],
   "source": [
    "# Importing date class from datetime module\n",
    "from datetime import datetime\n",
    "\n",
    "# Creating the date obejct of today's date\n",
    "Current_Year = date.today()\n",
    "\n",
    "# print the Current year.\n",
    "print(\"Current Year\", Current_Year.year)\n",
    "print(\"-\"*80)\n",
    "\n",
    "# Print the Current Month.\n",
    "print(\"Currnet Year\", Current_Year.month)\n",
    "print(\"-\"*80)\n",
    "\n",
    "#Print the Current Day.\n",
    "print(\"Current Year\", Current_Year.day)\n",
    "print(\"-\"*80)\n",
    "\n",
    "#The strftime method returns a string representing date and time.\n",
    "# Using date, time or datetime object.\n",
    "# Print the year by using Strftime.\n",
    "Year = Current_Year.strftime(\"%Y\") #Captial \"Y\" for year.\n",
    "print(\"Year\", Year)\n",
    "print(\"-\"*80)\n",
    "#Print the Month by using strftime.\n",
    "Month = Current_Year.strftime(\"%B\") # Captial for full form and Small for short form.\n",
    "print(\"Month\", Month)\n",
    "print(\"-\"*80)\n",
    "\n",
    "# datetime.strptime\n",
    "from datetime import datetime\n",
    "\n",
    "# Assigning the string to Variable.\n",
    "date_string = \"21 June, 2018\"\n",
    "\n",
    "# Using strptime module.\n",
    "date_object = datetime.strptime(date_string, \"%d %B, %Y\")\n",
    "\n",
    "print(\"date_object =\", date_object)\n",
    "print(\"type of date_object =\", type(date_object))\n",
    "print(\"-\"*80)\n",
    "\n",
    "# TIME\n",
    "Now = datetime.now()\n",
    "Current_Time = Now.strftime(\"%H : %M : %S\") # %H for Hours , %M for Minutes , %S for Seconds  \n",
    "print(\"Current Time = \",Current_Time)"
   ]
  },
  {
   "cell_type": "markdown",
   "metadata": {},
   "source": [
    "# 4.Explain the following methods in maths module with an example.\n",
    "     - sqrt\n",
    "     - pow\n",
    "     - factorial\n",
    "     - floor\n",
    "     - ceil\n",
    "     - pi"
   ]
  },
  {
   "cell_type": "markdown",
   "metadata": {},
   "source": [
    "#  Sqaure Root  .sqrt(N1)"
   ]
  },
  {
   "cell_type": "code",
   "execution_count": 6,
   "metadata": {},
   "outputs": [
    {
     "name": "stdout",
     "output_type": "stream",
     "text": [
      "Enter your Number:- 9\n",
      "3.0\n"
     ]
    }
   ],
   "source": [
    "# The math.sqrt() method returns the square root of a number.\n",
    "# Python program to demostrate the \n",
    "# sqrt() Module\n",
    "num = int(input(\"Enter your Number:- \"))\n",
    "#Import the math module\n",
    "import math\n",
    "\n",
    "# Print the Square root of 4\n",
    "print(math.sqrt(num))"
   ]
  },
  {
   "cell_type": "markdown",
   "metadata": {},
   "source": [
    "# Power .pow(N1,N2)"
   ]
  },
  {
   "cell_type": "code",
   "execution_count": 5,
   "metadata": {},
   "outputs": [
    {
     "name": "stdout",
     "output_type": "stream",
     "text": [
      "Enter your number: 8\n",
      "Enter your number: 2\n",
      "64.0\n"
     ]
    }
   ],
   "source": [
    "#Definition and Usage\n",
    "# The pow() function returns the value of x to the power of y (xy).\n",
    "\n",
    "# If a third parameter is present, it returns x to the power of y, modulus z.\n",
    "          # Return the value of 4 to the power of 3, modulus 5 (same as (4 * 4 * 4) % 5):\n",
    "Num2 = int(input(\"Enter your number: \"))\n",
    "Num3 = int(input(\"Enter your number: \"))\n",
    "print(math.pow(Num2,Num3))"
   ]
  },
  {
   "cell_type": "markdown",
   "metadata": {},
   "source": [
    "# Factorial .factorial(N1)."
   ]
  },
  {
   "cell_type": "code",
   "execution_count": 7,
   "metadata": {},
   "outputs": [
    {
     "name": "stdout",
     "output_type": "stream",
     "text": [
      "Enter your Numbers : 5\n",
      "120\n"
     ]
    }
   ],
   "source": [
    "Num5 = int(input(\"Enter your Numbers : \"))\n",
    "print(math.factorial(Num5))"
   ]
  },
  {
   "cell_type": "markdown",
   "metadata": {},
   "source": [
    "# Floor .floor()."
   ]
  },
  {
   "cell_type": "code",
   "execution_count": 12,
   "metadata": {},
   "outputs": [
    {
     "name": "stdout",
     "output_type": "stream",
     "text": [
      "math.floor(-23.11 :  -24\n",
      "math.floor(300.16 :  300\n",
      "math.floor(300.72 :  300\n"
     ]
    }
   ],
   "source": [
    "# floor() method in Python returns the floor of x i.e., the largest integer not greater than x. \n",
    "print(\"math.floor(-23.11 : \", math.floor(-23.11))\n",
    "print(\"math.floor(300.16 : \", math.floor(300.16))\n",
    "print(\"math.floor(300.72 : \", math.floor(300.72))"
   ]
  },
  {
   "cell_type": "markdown",
   "metadata": {},
   "source": [
    "# Ceil .ceil()"
   ]
  },
  {
   "cell_type": "code",
   "execution_count": 15,
   "metadata": {},
   "outputs": [
    {
     "name": "stdout",
     "output_type": "stream",
     "text": [
      "math.ceil(-23.11) :  -23\n",
      "math.ceil(300.16) :  301\n",
      "math.ceil(300.72) :  301\n"
     ]
    }
   ],
   "source": [
    "# The method ceil() in Python returns a ceiling value of x i.e., Smallest integer not less than x.\n",
    "print (\"math.ceil(-23.11) : \", math.ceil(-23.11))\n",
    "print (\"math.ceil(300.16) : \", math.ceil(300.16))\n",
    "print (\"math.ceil(300.72) : \", math.ceil(300.72))"
   ]
  },
  {
   "cell_type": "markdown",
   "metadata": {},
   "source": [
    "# pi "
   ]
  },
  {
   "cell_type": "code",
   "execution_count": 18,
   "metadata": {},
   "outputs": [
    {
     "name": "stdout",
     "output_type": "stream",
     "text": [
      "3.141592653589793\n"
     ]
    }
   ],
   "source": [
    "# The math.pi constant returns the value of PI: 3.141592653589793.\n",
    "\n",
    "# Note: Mathematically PI is represented by π.\n",
    "\n",
    "# Print the value of pi\n",
    "print (math.pi)"
   ]
  },
  {
   "cell_type": "markdown",
   "metadata": {},
   "source": [
    "# 5.Explain the following methods in statistics module with an example\n",
    "\n",
    "- mean\n",
    "- median\n",
    "- mode\n",
    "- variance"
   ]
  },
  {
   "cell_type": "markdown",
   "metadata": {},
   "source": [
    "# Mean"
   ]
  },
  {
   "cell_type": "markdown",
   "metadata": {},
   "source": [
    "# Python is a very popular language when it comes to data analysis and statistics. \n",
    "## Luckily, Python3 provide statistics module, which comes with very useful functions like mean(), median(), mode() etc.\n",
    "\n",
    "## mean() function can be used to calculate mean/average of a given list of numbers. \n",
    "## It returns mean of the data set passed as parameters."
   ]
  },
  {
   "cell_type": "markdown",
   "metadata": {},
   "source": [
    "Syntax : mean([data-set])\n",
    "\n",
    "Parameters :\n",
    "[data-set] : List or tuple of a set of numbers.\n",
    "\n",
    "Returns : Sample arithmetic mean of the provided data-set.\n",
    "\n",
    "Exceptions :\n",
    "TypeError when anything other than numeric values are passed as parameter. "
   ]
  },
  {
   "cell_type": "code",
   "execution_count": 20,
   "metadata": {},
   "outputs": [
    {
     "name": "stdout",
     "output_type": "stream",
     "text": [
      "Mean is : 4.428571428571429\n"
     ]
    }
   ],
   "source": [
    "# Python program to demonstrate mean()\n",
    "# function from the statistics module\n",
    "  \n",
    "# Importing the statistics module\n",
    "import statistics\n",
    "\n",
    "# list of positive integer numbers\n",
    "data1 = [1, 3, 4, 5, 7, 9, 2]\n",
    "  \n",
    "x = statistics.mean(data1)\n",
    "  \n",
    "# Printing the mean\n",
    "print(\"Mean is :\", x)"
   ]
  },
  {
   "cell_type": "markdown",
   "metadata": {},
   "source": [
    "# MEDIAN()\n",
    "\n",
    "### median() function in the statistics module can be used to calculate median value from an unsorted data-list. The biggest advantage of using median() function is that the data-list does not need to be sorted before being sent as parameter to the median() function."
   ]
  },
  {
   "cell_type": "markdown",
   "metadata": {},
   "source": [
    "Syntax : median( [data-set] )\n",
    "\n",
    "Parameters :\n",
    "[data-set] : List or tuple or an iterable with a set of numeric values\n",
    "\n",
    "Returns : Return the median (middle value) of the iterable containing the data\n",
    "\n",
    "Exceptions : StatisticsError is raised when iterable passed is empty or when list is null."
   ]
  },
  {
   "cell_type": "code",
   "execution_count": 22,
   "metadata": {},
   "outputs": [
    {
     "name": "stdout",
     "output_type": "stream",
     "text": [
      "Median of data-set is : 3.5 \n"
     ]
    }
   ],
   "source": [
    "# Python code to demonstrate the  \n",
    "# working of median() function.\n",
    "  \n",
    "# importing statistics module\n",
    "import statistics\n",
    "  \n",
    "# unsorted list of random integers\n",
    "data1 = [2, -2, 3, 6, 9, 4, 5, -1]\n",
    "  \n",
    "# Printing median of the\n",
    "# random data-set\n",
    "print(\"Median of data-set is : % s \"\n",
    "        % (statistics.median(data1)))"
   ]
  },
  {
   "cell_type": "markdown",
   "metadata": {},
   "source": [
    "# MODE.\n",
    "\n",
    "### The mode() of a set of data values is the value that appears most often. It is the value at which the data is most likely to be sampled. A mode of a continuous probability distribution is often considered to be any value x at which its probability density function has a local maximum value, so any peak is a mode."
   ]
  },
  {
   "cell_type": "markdown",
   "metadata": {},
   "source": [
    "Syntax :\n",
    "mode([data-set])\n",
    "\n",
    "Parameters : \n",
    "[data-set] which is a tuple, list or a iterator of \n",
    "real valued numbers as well as Strings.\n",
    "\n",
    "Return type : \n",
    "Returns the most-common data point from discrete or nominal data.\n",
    "\n",
    "Errors and Exceptions : \n",
    "Raises StatisticsError when data set is empty."
   ]
  },
  {
   "cell_type": "code",
   "execution_count": 23,
   "metadata": {},
   "outputs": [
    {
     "name": "stdout",
     "output_type": "stream",
     "text": [
      "Mode of given data set is 4\n"
     ]
    }
   ],
   "source": [
    "# Python code to demonstrate the\n",
    "# use of mode() function\n",
    "\n",
    "# mode() function a sub-set of the statistics module\n",
    "# We need to import the statistics module before doing any work\n",
    "import statistics\n",
    "\n",
    "# declaring a simple data-set consisting of real valued\n",
    "# positive integers.\n",
    "set1 =[1, 2, 3, 3, 4, 4, 4, 5, 5, 6]\n",
    "\n",
    "# In the given data-set\n",
    "# Count of 1 is 1\n",
    "# Count of 2 is 1\n",
    "# Count of 3 is 2\n",
    "# Count of 4 is 3\n",
    "# Count of 5 is 2\n",
    "# Count of 6 is 1\n",
    "# We can infer that 4 has the highest population distribution\n",
    "# So mode of set1 is 4\n",
    "\n",
    "# Printing out mode of given data-set\n",
    "print(\"Mode of given data set is % s\" % (statistics.mode(set1)))"
   ]
  },
  {
   "cell_type": "markdown",
   "metadata": {},
   "source": [
    "# VARIANCE().\n",
    "\n",
    "###  variance() is one such function. This function helps to calculate the variance from a sample of data (sample is a subset of populated data).\n",
    "\n",
    "### variance() function should only be used when variance of a sample needs to be calculated. There’s another function known as pvariance(), which is used to calculate the variance of an entire population."
   ]
  },
  {
   "cell_type": "markdown",
   "metadata": {},
   "source": [
    "Syntax : variance( [data], xbar )\n",
    "\n",
    "Parameters :\n",
    "[data] : An iterable with real valued numbers.\n",
    "xbar (Optional) : Takes actual mean of data-set as value.\n",
    "\n",
    "Returnype : Returns the actual variance of the values passed as parameter.\n",
    "\n",
    "Exceptions :\n",
    "StatisticsError is raised for data-set less than 2-values passed as parameter.\n",
    "Throws impossible values when the value provided as xbar doesn’t match actual mean of the data-set."
   ]
  },
  {
   "cell_type": "code",
   "execution_count": 24,
   "metadata": {},
   "outputs": [
    {
     "name": "stdout",
     "output_type": "stream",
     "text": [
      "Variance of sample set is 0.40924\n"
     ]
    }
   ],
   "source": [
    "# Python code to demonstrate the working of\n",
    "# variance() function of Statistics Module\n",
    "\n",
    "# Importing Statistics module\n",
    "import statistics\n",
    "\n",
    "# Creating a sample of data\n",
    "sample = [2.74, 1.23, 2.63, 2.22, 3, 1.98]\n",
    "\n",
    "# Prints variance of the sample set\n",
    "\n",
    "# Function will automatically calculate\n",
    "# it's mean and set it as xbar\n",
    "print(\"Variance of sample set is % s\"\n",
    "\t%(statistics.variance(sample)))"
   ]
  },
  {
   "cell_type": "code",
   "execution_count": null,
   "metadata": {},
   "outputs": [],
   "source": []
  }
 ],
 "metadata": {
  "interpreter": {
   "hash": "63fd5069d213b44bf678585dea6b12cceca9941eaf7f819626cde1f2670de90d"
  },
  "kernelspec": {
   "display_name": "Python 3",
   "language": "python",
   "name": "python3"
  },
  "language_info": {
   "codemirror_mode": {
    "name": "ipython",
    "version": 3
   },
   "file_extension": ".py",
   "mimetype": "text/x-python",
   "name": "python",
   "nbconvert_exporter": "python",
   "pygments_lexer": "ipython3",
   "version": "3.8.8"
  }
 },
 "nbformat": 4,
 "nbformat_minor": 4
}
