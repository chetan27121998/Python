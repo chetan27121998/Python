{
 "cells": [
  {
   "cell_type": "markdown",
   "metadata": {},
   "source": [
    "## 1.Write a program to accept a name from user and print it."
   ]
  },
  {
   "cell_type": "code",
   "execution_count": 3,
   "metadata": {},
   "outputs": [
    {
     "name": "stdout",
     "output_type": "stream",
     "text": [
      "Enter your Name please:- chetan\n",
      "chetan\n"
     ]
    }
   ],
   "source": [
    "Name = input(\"Enter your Name please:- \")\n",
    "print(Name)"
   ]
  },
  {
   "cell_type": "markdown",
   "metadata": {},
   "source": [
    "## 2. Write a program to accept 3 number and print its multiplication."
   ]
  },
  {
   "cell_type": "code",
   "execution_count": 4,
   "metadata": {},
   "outputs": [
    {
     "name": "stdout",
     "output_type": "stream",
     "text": [
      "Enter your first number:- 2\n",
      "Enter your second number:- 4\n",
      "Enter your third number:- 3\n",
      "Multiplication all three numbers are :  2 * 4 * 3 = 24\n"
     ]
    }
   ],
   "source": [
    "Num1 = int(input(\"Enter your first number:- \"))\n",
    "Num2 = int(input('Enter your second number:- '))\n",
    "Num3 = int(input(\"Enter your third number:- \"))\n",
    "Multiplication = Num1 * Num2 * Num3\n",
    "print(\"Multiplication all three numbers are : \",Num1, \"*\",Num2,\"*\",Num3,\"=\",Multiplication)"
   ]
  },
  {
   "cell_type": "markdown",
   "metadata": {},
   "source": [
    "## 3.Write a program to accept 2 number and swap them with using 3rd variable."
   ]
  },
  {
   "cell_type": "code",
   "execution_count": 5,
   "metadata": {},
   "outputs": [
    {
     "name": "stdout",
     "output_type": "stream",
     "text": [
      "Enter your number: 4\n",
      "Enter your number: 5\n",
      "Before swaping the numbers:  4 5\n",
      "After swaping the number:  5 4\n"
     ]
    }
   ],
   "source": [
    "Num4 = int(input(\"Enter your number: \"))\n",
    "Num5 = int(input(\"Enter your number: \"))\n",
    "print(\"Before swaping the numbers: \", Num4, Num5)\n",
    "Temp = Num4\n",
    "Num4 = Num5\n",
    "Num5 = Temp\n",
    "print(\"After swaping the number: \",Num4,Num5)"
   ]
  },
  {
   "cell_type": "markdown",
   "metadata": {},
   "source": [
    "## 4.Write a program to accept 2 number and swap them without using 3rd variable. "
   ]
  },
  {
   "cell_type": "code",
   "execution_count": 7,
   "metadata": {},
   "outputs": [
    {
     "name": "stdout",
     "output_type": "stream",
     "text": [
      "Enter your number: 4\n",
      "Enter your number: 5\n",
      "Before swaping the numbers:  4 5\n",
      "After swaping the number:  5 4\n"
     ]
    }
   ],
   "source": [
    "Num6 = int(input(\"Enter your number: \"))\n",
    "Num7 = int(input(\"Enter your number: \"))\n",
    "print(\"Before swaping the numbers: \", Num6,Num7)\n",
    "Num6 = Num6 + Num7\n",
    "Num7 = Num6 - Num7\n",
    "Num6 = Num6 - Num7\n",
    "print(\"After swaping the number: \",Num6,Num7)"
   ]
  },
  {
   "cell_type": "code",
   "execution_count": null,
   "metadata": {},
   "outputs": [],
   "source": []
  }
 ],
 "metadata": {
  "kernelspec": {
   "display_name": "Python 3",
   "language": "python",
   "name": "python3"
  },
  "language_info": {
   "codemirror_mode": {
    "name": "ipython",
    "version": 3
   },
   "file_extension": ".py",
   "mimetype": "text/x-python",
   "name": "python",
   "nbconvert_exporter": "python",
   "pygments_lexer": "ipython3",
   "version": "3.7.6"
  }
 },
 "nbformat": 4,
 "nbformat_minor": 4
}
