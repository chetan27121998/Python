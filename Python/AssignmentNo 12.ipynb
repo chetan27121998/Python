{
 "cells": [
  {
   "cell_type": "markdown",
   "id": "a3383a7b",
   "metadata": {},
   "source": [
    "# 1. Create email validation pattern."
   ]
  },
  {
   "cell_type": "code",
   "execution_count": 4,
   "id": "055dc5fe",
   "metadata": {},
   "outputs": [
    {
     "name": "stdout",
     "output_type": "stream",
     "text": [
      "Enter your email: chetanK_99@gmail.com\n",
      "Hii  chetanK_99@gmail.com\n"
     ]
    }
   ],
   "source": [
    "import re\n",
    "email = input(\"Enter your email: \")\n",
    "email_pattern =re.search(\"^[a-zA-Z]+[0-9._]+@[a-z]{3,}.[a-z]{2,3}$\",email)  \n",
    "if email_pattern :\n",
    "    print(\"Hii \", email)\n",
    "else:\n",
    "    print(\"Invalid input\")"
   ]
  },
  {
   "cell_type": "markdown",
   "id": "a7204738",
   "metadata": {},
   "source": [
    "# 2. Create validation for pin code. \n",
    "\n",
    "e.g: 12345 allowed and 1234-56789 only 5 digit number and 9 digit number in pattern mentioned are allowed."
   ]
  },
  {
   "cell_type": "code",
   "execution_count": 18,
   "id": "a6769515",
   "metadata": {},
   "outputs": [
    {
     "name": "stdout",
     "output_type": "stream",
     "text": [
      "Enter your verified Phone number: 123aa\n",
      "Invalid Phone number.\n"
     ]
    }
   ],
   "source": [
    "import re\n",
    "Phone_number = input(\"Enter your verified Phone number: \")\n",
    "Phone_number_pattern1 = re.search(\"^[0-9]{4,}-s{0,1}[0-9]{5,}$\",Phone_number)\n",
    "Phone_number_pattern2 = re.search(\"^[0-9]{5}$\",Phone_number)\n",
    "if Phone_number_pattern1 or Phone_number_pattern2:\n",
    "    print(\"It is a Phone number.\")\n",
    "else:\n",
    "    print(\"Invalid Phone number.\")"
   ]
  },
  {
   "cell_type": "markdown",
   "id": "16d63c7d",
   "metadata": {},
   "source": [
    "# Scarp any  one website and write the code. (as per your choice you can do)"
   ]
  },
  {
   "cell_type": "code",
   "execution_count": 29,
   "id": "3d185266",
   "metadata": {},
   "outputs": [
    {
     "name": "stdout",
     "output_type": "stream",
     "text": [
      "['Mi 4A PRO 80 cm (32 inch) HD Ready LED Smart Android TV']\n",
      "['Mi 4A PRO 80 cm (32 inch) HD Ready LED Smart Android TV', 'Mi 4A Horizon Edition 80 cm (32 inch) HD Ready LED Smart Android TV']\n",
      "['Mi 4A PRO 80 cm (32 inch) HD Ready LED Smart Android TV', 'Mi 4A Horizon Edition 80 cm (32 inch) HD Ready LED Smart Android TV', 'Mi 5X 108 cm (43 inch) Ultra HD (4K) LED Smart Android TV with Dolby Atmos and Dolby Vision']\n",
      "['Mi 4A PRO 80 cm (32 inch) HD Ready LED Smart Android TV', 'Mi 4A Horizon Edition 80 cm (32 inch) HD Ready LED Smart Android TV', 'Mi 5X 108 cm (43 inch) Ultra HD (4K) LED Smart Android TV with Dolby Atmos and Dolby Vision', 'Mi 4A Horizon Edition 100 cm (40 inch) Full HD LED Smart Android TV']\n",
      "['Mi 4A PRO 80 cm (32 inch) HD Ready LED Smart Android TV', 'Mi 4A Horizon Edition 80 cm (32 inch) HD Ready LED Smart Android TV', 'Mi 5X 108 cm (43 inch) Ultra HD (4K) LED Smart Android TV with Dolby Atmos and Dolby Vision', 'Mi 4A Horizon Edition 100 cm (40 inch) Full HD LED Smart Android TV', 'Mi 4A Horizon Edition 108 cm (43 inch) Full HD LED Smart Android TV']\n",
      "['Mi 4A PRO 80 cm (32 inch) HD Ready LED Smart Android TV', 'Mi 4A Horizon Edition 80 cm (32 inch) HD Ready LED Smart Android TV', 'Mi 5X 108 cm (43 inch) Ultra HD (4K) LED Smart Android TV with Dolby Atmos and Dolby Vision', 'Mi 4A Horizon Edition 100 cm (40 inch) Full HD LED Smart Android TV', 'Mi 4A Horizon Edition 108 cm (43 inch) Full HD LED Smart Android TV', 'Mi 4A Pro 108 cm (43 inch) Full HD LED Smart Android TV']\n",
      "['Mi 4A PRO 80 cm (32 inch) HD Ready LED Smart Android TV', 'Mi 4A Horizon Edition 80 cm (32 inch) HD Ready LED Smart Android TV', 'Mi 5X 108 cm (43 inch) Ultra HD (4K) LED Smart Android TV with Dolby Atmos and Dolby Vision', 'Mi 4A Horizon Edition 100 cm (40 inch) Full HD LED Smart Android TV', 'Mi 4A Horizon Edition 108 cm (43 inch) Full HD LED Smart Android TV', 'Mi 4A Pro 108 cm (43 inch) Full HD LED Smart Android TV', 'Mi 4C 80 cm (32 inch) HD Ready LED Smart Android TV']\n",
      "['Mi 4A PRO 80 cm (32 inch) HD Ready LED Smart Android TV', 'Mi 4A Horizon Edition 80 cm (32 inch) HD Ready LED Smart Android TV', 'Mi 5X 108 cm (43 inch) Ultra HD (4K) LED Smart Android TV with Dolby Atmos and Dolby Vision', 'Mi 4A Horizon Edition 100 cm (40 inch) Full HD LED Smart Android TV', 'Mi 4A Horizon Edition 108 cm (43 inch) Full HD LED Smart Android TV', 'Mi 4A Pro 108 cm (43 inch) Full HD LED Smart Android TV', 'Mi 4C 80 cm (32 inch) HD Ready LED Smart Android TV', 'Mi 4X 108 cm (43 inch) Ultra HD (4K) LED Smart Android TV']\n",
      "['Mi 4A PRO 80 cm (32 inch) HD Ready LED Smart Android TV', 'Mi 4A Horizon Edition 80 cm (32 inch) HD Ready LED Smart Android TV', 'Mi 5X 108 cm (43 inch) Ultra HD (4K) LED Smart Android TV with Dolby Atmos and Dolby Vision', 'Mi 4A Horizon Edition 100 cm (40 inch) Full HD LED Smart Android TV', 'Mi 4A Horizon Edition 108 cm (43 inch) Full HD LED Smart Android TV', 'Mi 4A Pro 108 cm (43 inch) Full HD LED Smart Android TV', 'Mi 4C 80 cm (32 inch) HD Ready LED Smart Android TV', 'Mi 4X 108 cm (43 inch) Ultra HD (4K) LED Smart Android TV', 'Mi 5X 125.7 cm (50 inch) Ultra HD (4K) LED Smart Android TV with Dolby Atmos and Dolby Vision']\n",
      "['Mi 4A PRO 80 cm (32 inch) HD Ready LED Smart Android TV', 'Mi 4A Horizon Edition 80 cm (32 inch) HD Ready LED Smart Android TV', 'Mi 5X 108 cm (43 inch) Ultra HD (4K) LED Smart Android TV with Dolby Atmos and Dolby Vision', 'Mi 4A Horizon Edition 100 cm (40 inch) Full HD LED Smart Android TV', 'Mi 4A Horizon Edition 108 cm (43 inch) Full HD LED Smart Android TV', 'Mi 4A Pro 108 cm (43 inch) Full HD LED Smart Android TV', 'Mi 4C 80 cm (32 inch) HD Ready LED Smart Android TV', 'Mi 4X 108 cm (43 inch) Ultra HD (4K) LED Smart Android TV', 'Mi 5X 125.7 cm (50 inch) Ultra HD (4K) LED Smart Android TV with Dolby Atmos and Dolby Vision', 'Mi 4X 125.7 cm (50 inch) Ultra HD (4K) LED Smart Android TV']\n",
      "['Mi 4A PRO 80 cm (32 inch) HD Ready LED Smart Android TV', 'Mi 4A Horizon Edition 80 cm (32 inch) HD Ready LED Smart Android TV', 'Mi 5X 108 cm (43 inch) Ultra HD (4K) LED Smart Android TV with Dolby Atmos and Dolby Vision', 'Mi 4A Horizon Edition 100 cm (40 inch) Full HD LED Smart Android TV', 'Mi 4A Horizon Edition 108 cm (43 inch) Full HD LED Smart Android TV', 'Mi 4A Pro 108 cm (43 inch) Full HD LED Smart Android TV', 'Mi 4C 80 cm (32 inch) HD Ready LED Smart Android TV', 'Mi 4X 108 cm (43 inch) Ultra HD (4K) LED Smart Android TV', 'Mi 5X 125.7 cm (50 inch) Ultra HD (4K) LED Smart Android TV with Dolby Atmos and Dolby Vision', 'Mi 4X 125.7 cm (50 inch) Ultra HD (4K) LED Smart Android TV', 'Mi 4X 138.8 cm (55 inch) Ultra HD (4K) LED Smart TV']\n",
      "['Mi 4A PRO 80 cm (32 inch) HD Ready LED Smart Android TV', 'Mi 4A Horizon Edition 80 cm (32 inch) HD Ready LED Smart Android TV', 'Mi 5X 108 cm (43 inch) Ultra HD (4K) LED Smart Android TV with Dolby Atmos and Dolby Vision', 'Mi 4A Horizon Edition 100 cm (40 inch) Full HD LED Smart Android TV', 'Mi 4A Horizon Edition 108 cm (43 inch) Full HD LED Smart Android TV', 'Mi 4A Pro 108 cm (43 inch) Full HD LED Smart Android TV', 'Mi 4C 80 cm (32 inch) HD Ready LED Smart Android TV', 'Mi 4X 108 cm (43 inch) Ultra HD (4K) LED Smart Android TV', 'Mi 5X 125.7 cm (50 inch) Ultra HD (4K) LED Smart Android TV with Dolby Atmos and Dolby Vision', 'Mi 4X 125.7 cm (50 inch) Ultra HD (4K) LED Smart Android TV', 'Mi 4X 138.8 cm (55 inch) Ultra HD (4K) LED Smart TV', 'Mi 5X 138.8 cm (55 inch) Ultra HD (4K) LED Smart Android TV with Dolby Atmos and Dolby Vision']\n",
      "['Mi 4A PRO 80 cm (32 inch) HD Ready LED Smart Android TV', 'Mi 4A Horizon Edition 80 cm (32 inch) HD Ready LED Smart Android TV', 'Mi 5X 108 cm (43 inch) Ultra HD (4K) LED Smart Android TV with Dolby Atmos and Dolby Vision', 'Mi 4A Horizon Edition 100 cm (40 inch) Full HD LED Smart Android TV', 'Mi 4A Horizon Edition 108 cm (43 inch) Full HD LED Smart Android TV', 'Mi 4A Pro 108 cm (43 inch) Full HD LED Smart Android TV', 'Mi 4C 80 cm (32 inch) HD Ready LED Smart Android TV', 'Mi 4X 108 cm (43 inch) Ultra HD (4K) LED Smart Android TV', 'Mi 5X 125.7 cm (50 inch) Ultra HD (4K) LED Smart Android TV with Dolby Atmos and Dolby Vision', 'Mi 4X 125.7 cm (50 inch) Ultra HD (4K) LED Smart Android TV', 'Mi 4X 138.8 cm (55 inch) Ultra HD (4K) LED Smart TV', 'Mi 5X 138.8 cm (55 inch) Ultra HD (4K) LED Smart Android TV with Dolby Atmos and Dolby Vision', 'Mi 4C 108 cm (43 inch) Full HD LED Smart Android TV']\n",
      "['Mi 4A PRO 80 cm (32 inch) HD Ready LED Smart Android TV', 'Mi 4A Horizon Edition 80 cm (32 inch) HD Ready LED Smart Android TV', 'Mi 5X 108 cm (43 inch) Ultra HD (4K) LED Smart Android TV with Dolby Atmos and Dolby Vision', 'Mi 4A Horizon Edition 100 cm (40 inch) Full HD LED Smart Android TV', 'Mi 4A Horizon Edition 108 cm (43 inch) Full HD LED Smart Android TV', 'Mi 4A Pro 108 cm (43 inch) Full HD LED Smart Android TV', 'Mi 4C 80 cm (32 inch) HD Ready LED Smart Android TV', 'Mi 4X 108 cm (43 inch) Ultra HD (4K) LED Smart Android TV', 'Mi 5X 125.7 cm (50 inch) Ultra HD (4K) LED Smart Android TV with Dolby Atmos and Dolby Vision', 'Mi 4X 125.7 cm (50 inch) Ultra HD (4K) LED Smart Android TV', 'Mi 4X 138.8 cm (55 inch) Ultra HD (4K) LED Smart TV', 'Mi 5X 138.8 cm (55 inch) Ultra HD (4K) LED Smart Android TV with Dolby Atmos and Dolby Vision', 'Mi 4C 108 cm (43 inch) Full HD LED Smart Android TV', 'Mi 4A 100 cm (40 inch) Full HD LED Smart Android TV']\n",
      "['Mi 4A PRO 80 cm (32 inch) HD Ready LED Smart Android TV', 'Mi 4A Horizon Edition 80 cm (32 inch) HD Ready LED Smart Android TV', 'Mi 5X 108 cm (43 inch) Ultra HD (4K) LED Smart Android TV with Dolby Atmos and Dolby Vision', 'Mi 4A Horizon Edition 100 cm (40 inch) Full HD LED Smart Android TV', 'Mi 4A Horizon Edition 108 cm (43 inch) Full HD LED Smart Android TV', 'Mi 4A Pro 108 cm (43 inch) Full HD LED Smart Android TV', 'Mi 4C 80 cm (32 inch) HD Ready LED Smart Android TV', 'Mi 4X 108 cm (43 inch) Ultra HD (4K) LED Smart Android TV', 'Mi 5X 125.7 cm (50 inch) Ultra HD (4K) LED Smart Android TV with Dolby Atmos and Dolby Vision', 'Mi 4X 125.7 cm (50 inch) Ultra HD (4K) LED Smart Android TV', 'Mi 4X 138.8 cm (55 inch) Ultra HD (4K) LED Smart TV', 'Mi 5X 138.8 cm (55 inch) Ultra HD (4K) LED Smart Android TV with Dolby Atmos and Dolby Vision', 'Mi 4C 108 cm (43 inch) Full HD LED Smart Android TV', 'Mi 4A 100 cm (40 inch) Full HD LED Smart Android TV', 'Mi Q1 138.8 cm (55 inch) QLED Ultra HD (4K) Smart Android TV']\n",
      "['Mi 4A PRO 80 cm (32 inch) HD Ready LED Smart Android TV', 'Mi 4A Horizon Edition 80 cm (32 inch) HD Ready LED Smart Android TV', 'Mi 5X 108 cm (43 inch) Ultra HD (4K) LED Smart Android TV with Dolby Atmos and Dolby Vision', 'Mi 4A Horizon Edition 100 cm (40 inch) Full HD LED Smart Android TV', 'Mi 4A Horizon Edition 108 cm (43 inch) Full HD LED Smart Android TV', 'Mi 4A Pro 108 cm (43 inch) Full HD LED Smart Android TV', 'Mi 4C 80 cm (32 inch) HD Ready LED Smart Android TV', 'Mi 4X 108 cm (43 inch) Ultra HD (4K) LED Smart Android TV', 'Mi 5X 125.7 cm (50 inch) Ultra HD (4K) LED Smart Android TV with Dolby Atmos and Dolby Vision', 'Mi 4X 125.7 cm (50 inch) Ultra HD (4K) LED Smart Android TV', 'Mi 4X 138.8 cm (55 inch) Ultra HD (4K) LED Smart TV', 'Mi 5X 138.8 cm (55 inch) Ultra HD (4K) LED Smart Android TV with Dolby Atmos and Dolby Vision', 'Mi 4C 108 cm (43 inch) Full HD LED Smart Android TV', 'Mi 4A 100 cm (40 inch) Full HD LED Smart Android TV', 'Mi Q1 138.8 cm (55 inch) QLED Ultra HD (4K) Smart Android TV', 'Mi Q1 189.34 cm (75 inch) QLED Ultra HD (4K) Smart Android TV']\n",
      "['Mi 4A PRO 80 cm (32 inch) HD Ready LED Smart Android TV', 'Mi 4A Horizon Edition 80 cm (32 inch) HD Ready LED Smart Android TV', 'Mi 5X 108 cm (43 inch) Ultra HD (4K) LED Smart Android TV with Dolby Atmos and Dolby Vision', 'Mi 4A Horizon Edition 100 cm (40 inch) Full HD LED Smart Android TV', 'Mi 4A Horizon Edition 108 cm (43 inch) Full HD LED Smart Android TV', 'Mi 4A Pro 108 cm (43 inch) Full HD LED Smart Android TV', 'Mi 4C 80 cm (32 inch) HD Ready LED Smart Android TV', 'Mi 4X 108 cm (43 inch) Ultra HD (4K) LED Smart Android TV', 'Mi 5X 125.7 cm (50 inch) Ultra HD (4K) LED Smart Android TV with Dolby Atmos and Dolby Vision', 'Mi 4X 125.7 cm (50 inch) Ultra HD (4K) LED Smart Android TV', 'Mi 4X 138.8 cm (55 inch) Ultra HD (4K) LED Smart TV', 'Mi 5X 138.8 cm (55 inch) Ultra HD (4K) LED Smart Android TV with Dolby Atmos and Dolby Vision', 'Mi 4C 108 cm (43 inch) Full HD LED Smart Android TV', 'Mi 4A 100 cm (40 inch) Full HD LED Smart Android TV', 'Mi Q1 138.8 cm (55 inch) QLED Ultra HD (4K) Smart Android TV', 'Mi Q1 189.34 cm (75 inch) QLED Ultra HD (4K) Smart Android TV', 'Mi 4A PRO 80 cm (32 inch) HD Ready LED Smart Android TV']\n",
      "['Mi 4A PRO 80 cm (32 inch) HD Ready LED Smart Android TV', 'Mi 4A Horizon Edition 80 cm (32 inch) HD Ready LED Smart Android TV', 'Mi 5X 108 cm (43 inch) Ultra HD (4K) LED Smart Android TV with Dolby Atmos and Dolby Vision', 'Mi 4A Horizon Edition 100 cm (40 inch) Full HD LED Smart Android TV', 'Mi 4A Horizon Edition 108 cm (43 inch) Full HD LED Smart Android TV', 'Mi 4A Pro 108 cm (43 inch) Full HD LED Smart Android TV', 'Mi 4C 80 cm (32 inch) HD Ready LED Smart Android TV', 'Mi 4X 108 cm (43 inch) Ultra HD (4K) LED Smart Android TV', 'Mi 5X 125.7 cm (50 inch) Ultra HD (4K) LED Smart Android TV with Dolby Atmos and Dolby Vision', 'Mi 4X 125.7 cm (50 inch) Ultra HD (4K) LED Smart Android TV', 'Mi 4X 138.8 cm (55 inch) Ultra HD (4K) LED Smart TV', 'Mi 5X 138.8 cm (55 inch) Ultra HD (4K) LED Smart Android TV with Dolby Atmos and Dolby Vision', 'Mi 4C 108 cm (43 inch) Full HD LED Smart Android TV', 'Mi 4A 100 cm (40 inch) Full HD LED Smart Android TV', 'Mi Q1 138.8 cm (55 inch) QLED Ultra HD (4K) Smart Android TV', 'Mi Q1 189.34 cm (75 inch) QLED Ultra HD (4K) Smart Android TV', 'Mi 4A PRO 80 cm (32 inch) HD Ready LED Smart Android TV', 'Mi 4X 125.7 cm (50 inch) Ultra HD (4K) LED Smart Android TV']\n",
      "['Mi 4A PRO 80 cm (32 inch) HD Ready LED Smart Android TV', 'Mi 4A Horizon Edition 80 cm (32 inch) HD Ready LED Smart Android TV', 'Mi 5X 108 cm (43 inch) Ultra HD (4K) LED Smart Android TV with Dolby Atmos and Dolby Vision', 'Mi 4A Horizon Edition 100 cm (40 inch) Full HD LED Smart Android TV', 'Mi 4A Horizon Edition 108 cm (43 inch) Full HD LED Smart Android TV', 'Mi 4A Pro 108 cm (43 inch) Full HD LED Smart Android TV', 'Mi 4C 80 cm (32 inch) HD Ready LED Smart Android TV', 'Mi 4X 108 cm (43 inch) Ultra HD (4K) LED Smart Android TV', 'Mi 5X 125.7 cm (50 inch) Ultra HD (4K) LED Smart Android TV with Dolby Atmos and Dolby Vision', 'Mi 4X 125.7 cm (50 inch) Ultra HD (4K) LED Smart Android TV', 'Mi 4X 138.8 cm (55 inch) Ultra HD (4K) LED Smart TV', 'Mi 5X 138.8 cm (55 inch) Ultra HD (4K) LED Smart Android TV with Dolby Atmos and Dolby Vision', 'Mi 4C 108 cm (43 inch) Full HD LED Smart Android TV', 'Mi 4A 100 cm (40 inch) Full HD LED Smart Android TV', 'Mi Q1 138.8 cm (55 inch) QLED Ultra HD (4K) Smart Android TV', 'Mi Q1 189.34 cm (75 inch) QLED Ultra HD (4K) Smart Android TV', 'Mi 4A PRO 80 cm (32 inch) HD Ready LED Smart Android TV', 'Mi 4X 125.7 cm (50 inch) Ultra HD (4K) LED Smart Android TV', 'Mi 4X 108 cm (43 inch) Ultra HD (4K) LED Smart Android TV']\n",
      "['Mi 4A PRO 80 cm (32 inch) HD Ready LED Smart Android TV', 'Mi 4A Horizon Edition 80 cm (32 inch) HD Ready LED Smart Android TV', 'Mi 5X 108 cm (43 inch) Ultra HD (4K) LED Smart Android TV with Dolby Atmos and Dolby Vision', 'Mi 4A Horizon Edition 100 cm (40 inch) Full HD LED Smart Android TV', 'Mi 4A Horizon Edition 108 cm (43 inch) Full HD LED Smart Android TV', 'Mi 4A Pro 108 cm (43 inch) Full HD LED Smart Android TV', 'Mi 4C 80 cm (32 inch) HD Ready LED Smart Android TV', 'Mi 4X 108 cm (43 inch) Ultra HD (4K) LED Smart Android TV', 'Mi 5X 125.7 cm (50 inch) Ultra HD (4K) LED Smart Android TV with Dolby Atmos and Dolby Vision', 'Mi 4X 125.7 cm (50 inch) Ultra HD (4K) LED Smart Android TV', 'Mi 4X 138.8 cm (55 inch) Ultra HD (4K) LED Smart TV', 'Mi 5X 138.8 cm (55 inch) Ultra HD (4K) LED Smart Android TV with Dolby Atmos and Dolby Vision', 'Mi 4C 108 cm (43 inch) Full HD LED Smart Android TV', 'Mi 4A 100 cm (40 inch) Full HD LED Smart Android TV', 'Mi Q1 138.8 cm (55 inch) QLED Ultra HD (4K) Smart Android TV', 'Mi Q1 189.34 cm (75 inch) QLED Ultra HD (4K) Smart Android TV', 'Mi 4A PRO 80 cm (32 inch) HD Ready LED Smart Android TV', 'Mi 4X 125.7 cm (50 inch) Ultra HD (4K) LED Smart Android TV', 'Mi 4X 108 cm (43 inch) Ultra HD (4K) LED Smart Android TV', 'Mi 4 Pro 138.8 cm (55 inch) Ultra HD (4K) LED Smart Android TV']\n",
      "['Mi 4A PRO 80 cm (32 inch) HD Ready LED Smart Android TV', 'Mi 4A Horizon Edition 80 cm (32 inch) HD Ready LED Smart Android TV', 'Mi 5X 108 cm (43 inch) Ultra HD (4K) LED Smart Android TV with Dolby Atmos and Dolby Vision', 'Mi 4A Horizon Edition 100 cm (40 inch) Full HD LED Smart Android TV', 'Mi 4A Horizon Edition 108 cm (43 inch) Full HD LED Smart Android TV', 'Mi 4A Pro 108 cm (43 inch) Full HD LED Smart Android TV', 'Mi 4C 80 cm (32 inch) HD Ready LED Smart Android TV', 'Mi 4X 108 cm (43 inch) Ultra HD (4K) LED Smart Android TV', 'Mi 5X 125.7 cm (50 inch) Ultra HD (4K) LED Smart Android TV with Dolby Atmos and Dolby Vision', 'Mi 4X 125.7 cm (50 inch) Ultra HD (4K) LED Smart Android TV', 'Mi 4X 138.8 cm (55 inch) Ultra HD (4K) LED Smart TV', 'Mi 5X 138.8 cm (55 inch) Ultra HD (4K) LED Smart Android TV with Dolby Atmos and Dolby Vision', 'Mi 4C 108 cm (43 inch) Full HD LED Smart Android TV', 'Mi 4A 100 cm (40 inch) Full HD LED Smart Android TV', 'Mi Q1 138.8 cm (55 inch) QLED Ultra HD (4K) Smart Android TV', 'Mi Q1 189.34 cm (75 inch) QLED Ultra HD (4K) Smart Android TV', 'Mi 4A PRO 80 cm (32 inch) HD Ready LED Smart Android TV', 'Mi 4X 125.7 cm (50 inch) Ultra HD (4K) LED Smart Android TV', 'Mi 4X 108 cm (43 inch) Ultra HD (4K) LED Smart Android TV', 'Mi 4 Pro 138.8 cm (55 inch) Ultra HD (4K) LED Smart Android TV', 'Mi 4A Horizon Edition 80 cm (32 inch) HD Ready LED Smart Android TV']\n"
     ]
    }
   ],
   "source": [
    "import requests as req\n",
    "from bs4 import BeautifulSoup\n",
    "\n",
    "\n",
    "website = req.get(\"https://www.flipkart.com/televisions/pr?sid=ckf%2Cczl&p%5B%5D=facets.brand%255B%255D%3DMi&otracker=categorytree&p%5B%5D=facets.serviceability%5B%5D%3Dtrue&p%5B%5D=facets.availability%255B%255D%3DExclude%2BOut%2Bof%2BStock&otracker=nmenu_sub_TVs%20%26%20Appliances_0_Mi&otracker=nmenu_sub_TVs%20%26%20Appliances_0_Mi&otracker=nmenu_sub_TVs%20%26%20Appliances_0_Mi\")\n",
    "bsoup = BeautifulSoup(website.content,\"html.parser\")\n",
    "\n",
    "\n",
    "# ForFORMATTING THE WEBSITE CONTENT\n",
    "bsoup.prettify()\n",
    "\n",
    "bsoup.encode(\"UTF-8\")\n",
    "\n",
    "miTV_prices = bsoup.findAll('div',attrs = {\"class\":\"_4rR01T\"})\n",
    "miTV_prices_list = []\n",
    "for div in miTV_prices:\n",
    "    miTV_prices_list.append(div.text)\n",
    "    print(miTV_prices_list)\n"
   ]
  },
  {
   "cell_type": "code",
   "execution_count": null,
   "id": "19adf62d",
   "metadata": {},
   "outputs": [],
   "source": []
  }
 ],
 "metadata": {
  "kernelspec": {
   "display_name": "Python 3",
   "language": "python",
   "name": "python3"
  },
  "language_info": {
   "codemirror_mode": {
    "name": "ipython",
    "version": 3
   },
   "file_extension": ".py",
   "mimetype": "text/x-python",
   "name": "python",
   "nbconvert_exporter": "python",
   "pygments_lexer": "ipython3",
   "version": "3.8.8"
  }
 },
 "nbformat": 4,
 "nbformat_minor": 5
}
