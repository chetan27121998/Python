{
 "cells": [
  {
   "cell_type": "markdown",
   "metadata": {},
   "source": [
    "# 01.)Write a program to Accept marks 0f 5 subject each subject out 100 and Display Each subject marks, Total Marks, Percentage and  Grade as per following cirteria.\n",
    "\n",
    "\n",
    "\n",
    " Percentage range                Grade\n",
    "\n",
    "# 100 to 80                        A+\n",
    "\n",
    "\n",
    "\n",
    "# 80 to 70                         A\n",
    "\n",
    "\n",
    "\n",
    "# 70 to 60                         B\n",
    "\n",
    "\n",
    "\n",
    "# 60 to 50                         C\n",
    "\n",
    "\n",
    "\n",
    "# 50 to 40                         D\n",
    "\n",
    "\n",
    "\n",
    "# below 40                        Fai"
   ]
  },
  {
   "cell_type": "code",
   "execution_count": 1,
   "metadata": {},
   "outputs": [
    {
     "name": "stdout",
     "output_type": "stream",
     "text": [
      "Enter subject marks for Hindi: 65\n",
      "Enter subject marks for English: 89\n",
      "Enter subject marks for Math: 65\n",
      "Enter subject marks for Physics: 45\n",
      "Enter subject marks for Chemistry: 30\n",
      "Total Number of marks obtain by student is:  294\n",
      "Percentage obtain by student is:  58.8\n",
      "Grade :  C\n",
      "\n"
     ]
    }
   ],
   "source": [
    "Hin= int(input(\"Enter subject marks for Hindi: \"))\n",
    "\n",
    "Eng = int(input(\"Enter subject marks for English: \"))\n",
    "\n",
    "Math = int(input(\"Enter subject marks for Math: \"))\n",
    "\n",
    "Phys = int(input(\"Enter subject marks for Physics: \"))\n",
    "\n",
    "Chem = int(input(\"Enter subject marks for Chemistry: \"))\n",
    "\n",
    "Total = Hin + Eng + Math + Phys + Chem\n",
    "\n",
    "per = Total / 5\n",
    "\n",
    "if per>=80 and per<=100:\n",
    "\n",
    "    grade=\"A+\"\n",
    "\n",
    "elif per>=70 and per<=80:\n",
    "\n",
    "    grade=\"A\"\n",
    "\n",
    "elif per>=60 and per<=70:\n",
    "\n",
    "    grade=\"B\"\n",
    "\n",
    "elif per>=50 and per<=60:\n",
    "\n",
    "    grade=\"C\"\n",
    "\n",
    "elif per>=40 and per<=50:\n",
    "\n",
    "    grade=\"D\"\n",
    "\n",
    "else:\n",
    "\n",
    "    grade=\"Fail\"\n",
    "\n",
    "print(\"Total Number of marks obtain by student is: \", Total)\n",
    "\n",
    "print(\"Percentage obtain by student is: \", per)\n",
    "\n",
    "print(\"Grade : \",grade)\n",
    "\n",
    "print()\n"
   ]
  },
  {
   "cell_type": "markdown",
   "metadata": {},
   "source": [
    "#  2. Write a Program to Calculate the Simple Interest for Bank Customer for Fixed Deposit\n",
    "\n",
    "a. If customer is Female and Senior Citizen 8% rate\n",
    "\n",
    "b. If customer is Female and Non-Senior Citizen 6% rate\n",
    "\n",
    "c. If customer is Male and Senior Citizen 7% rate\n",
    "\n",
    "d. If customer is Male and Non-Senior Citizen 5% rate"
   ]
  },
  {
   "cell_type": "code",
   "execution_count": null,
   "metadata": {},
   "outputs": [],
   "source": []
  }
 ],
 "metadata": {
  "kernelspec": {
   "display_name": "Python 3",
   "language": "python",
   "name": "python3"
  },
  "language_info": {
   "codemirror_mode": {
    "name": "ipython",
    "version": 3
   },
   "file_extension": ".py",
   "mimetype": "text/x-python",
   "name": "python",
   "nbconvert_exporter": "python",
   "pygments_lexer": "ipython3",
   "version": "3.7.6"
  }
 },
 "nbformat": 4,
 "nbformat_minor": 4
}
