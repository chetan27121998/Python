{
 "cells": [
  {
   "cell_type": "markdown",
   "metadata": {},
   "source": [
    "# 1) Create a functions that returns True if a number is even, False if number is odd."
   ]
  },
  {
   "cell_type": "code",
   "execution_count": 11,
   "metadata": {},
   "outputs": [
    {
     "name": "stdout",
     "output_type": "stream",
     "text": [
      "Enter the Number: 9\n",
      "False\n"
     ]
    }
   ],
   "source": [
    "Number = int(input(\"Enter the Number: \"))\n",
    "def Even(Number):\n",
    "    if Number%2==0:\n",
    "        return True\n",
    "    else:\n",
    "        return False\n",
    "print(Even(Number))"
   ]
  },
  {
   "cell_type": "markdown",
   "metadata": {},
   "source": [
    "# 2) Create a function that returns a list of all even numbers between start and end point."
   ]
  },
  {
   "cell_type": "code",
   "execution_count": 12,
   "metadata": {},
   "outputs": [
    {
     "name": "stdout",
     "output_type": "stream",
     "text": [
      "[2, 4, 6, 8, 10, 12, 14, 16, 18]\n"
     ]
    }
   ],
   "source": [
    "list = []\n",
    "def list_even():\n",
    "    for i in range(1,20):\n",
    "        if i%2==0:\n",
    "            list.append(i)\n",
    "    return list\n",
    "print(list_even())"
   ]
  },
  {
   "cell_type": "markdown",
   "metadata": {},
   "source": [
    "# 3) Create a function that returns factorial of a number."
   ]
  },
  {
   "cell_type": "code",
   "execution_count": 7,
   "metadata": {},
   "outputs": [
    {
     "name": "stdout",
     "output_type": "stream",
     "text": [
      "Enter your number: 0\n",
      "invalid entery\n"
     ]
    }
   ],
   "source": [
    "Num = int(input(\"Enter your number: \"))\n",
    "def factorial(Num):\n",
    "    if Num == 0:\n",
    "        return 'invalid entery'\n",
    "    else:\n",
    "        return Num * factorial(Num - 1)\n",
    "print(factorial(Num))\n"
   ]
  },
  {
   "cell_type": "code",
   "execution_count": null,
   "metadata": {},
   "outputs": [],
   "source": []
  }
 ],
 "metadata": {
  "kernelspec": {
   "display_name": "Python 3",
   "language": "python",
   "name": "python3"
  },
  "language_info": {
   "codemirror_mode": {
    "name": "ipython",
    "version": 3
   },
   "file_extension": ".py",
   "mimetype": "text/x-python",
   "name": "python",
   "nbconvert_exporter": "python",
   "pygments_lexer": "ipython3",
   "version": "3.7.6"
  }
 },
 "nbformat": 4,
 "nbformat_minor": 4
}
