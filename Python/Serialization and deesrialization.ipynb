{
 "cells": [
  {
   "cell_type": "markdown",
   "id": "f8b93454",
   "metadata": {},
   "source": [
    "Create a dictionary\n",
    "\n",
    "account = {\"balance\":10000,\"pin\":1234}\n",
    "\n",
    "perform functions like\n",
    "\n",
    "1) Withdraw money and store the updated dictionary in a file (Serialization)\n",
    "\n",
    "2) Load the file (Deserialization) and check balance"
   ]
  },
  {
   "cell_type": "code",
   "execution_count": 2,
   "id": "9b15d36e",
   "metadata": {},
   "outputs": [
    {
     "name": "stdout",
     "output_type": "stream",
     "text": [
      "Enter the amount  you want to withdrawl: 1000\n",
      "success\n",
      "data deserialized\n",
      "{'balance': 9000, 'pin': 1234}\n"
     ]
    }
   ],
   "source": [
    "import pickle\n",
    "account = {\"balance\":10000,\"pin\":1234}\n",
    "serial_account = pickle.dumps(account)\n",
    "a = int(input(\"Enter the amount  you want to withdrawl: \"))\n",
    "n1 = account.get(\"balance\")\n",
    "n2 = n1 - a\n",
    "new_balance = {\"balance\":n2}\n",
    "account.update(new_balance)\n",
    "# Case1 : \n",
    "with open(\"balance.pickle\",\"wb\") as f1:\n",
    "    pickle.dump(account,f1)\n",
    "print(\"success\")\n",
    "# Case2 :\n",
    "with open(\"balance.pickle\",\"rb\") as f1:\n",
    "    print(\"data deserialized\")\n",
    "    data = pickle.load(f1)\n",
    "    print(data)"
   ]
  },
  {
   "cell_type": "code",
   "execution_count": null,
   "id": "6efadecf",
   "metadata": {},
   "outputs": [],
   "source": []
  }
 ],
 "metadata": {
  "kernelspec": {
   "display_name": "Python 3",
   "language": "python",
   "name": "python3"
  },
  "language_info": {
   "codemirror_mode": {
    "name": "ipython",
    "version": 3
   },
   "file_extension": ".py",
   "mimetype": "text/x-python",
   "name": "python",
   "nbconvert_exporter": "python",
   "pygments_lexer": "ipython3",
   "version": "3.8.8"
  }
 },
 "nbformat": 4,
 "nbformat_minor": 5
}
