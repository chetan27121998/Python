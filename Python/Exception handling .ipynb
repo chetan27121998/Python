{
 "cells": [
  {
   "cell_type": "markdown",
   "metadata": {},
   "source": [
    "# Exception handling:\n",
    "### Exception is an error\n",
    "\n",
    "### Exception  is abnormal condition which terminate the program abnormally."
   ]
  },
  {
   "cell_type": "code",
   "execution_count": 3,
   "metadata": {},
   "outputs": [
    {
     "ename": "ZeroDivisionError",
     "evalue": "division by zero",
     "output_type": "error",
     "traceback": [
      "\u001b[1;31m---------------------------------------------------------------------------\u001b[0m",
      "\u001b[1;31mZeroDivisionError\u001b[0m                         Traceback (most recent call last)",
      "\u001b[1;32m<ipython-input-3-2e4fe503bb89>\u001b[0m in \u001b[0;36m<module>\u001b[1;34m\u001b[0m\n\u001b[0;32m      1\u001b[0m \u001b[0ma\u001b[0m \u001b[1;33m=\u001b[0m \u001b[1;36m5\u001b[0m\u001b[1;33m\u001b[0m\u001b[1;33m\u001b[0m\u001b[0m\n\u001b[0;32m      2\u001b[0m \u001b[0mb\u001b[0m \u001b[1;33m=\u001b[0m \u001b[1;36m0\u001b[0m\u001b[1;33m\u001b[0m\u001b[1;33m\u001b[0m\u001b[0m\n\u001b[1;32m----> 3\u001b[1;33m \u001b[0mc\u001b[0m\u001b[1;33m=\u001b[0m \u001b[0ma\u001b[0m \u001b[1;33m/\u001b[0m \u001b[0mb\u001b[0m\u001b[1;33m\u001b[0m\u001b[1;33m\u001b[0m\u001b[0m\n\u001b[0m\u001b[0;32m      4\u001b[0m \u001b[0mprint\u001b[0m\u001b[1;33m(\u001b[0m\u001b[1;34m\"division\"\u001b[0m\u001b[1;33m,\u001b[0m\u001b[0mc\u001b[0m\u001b[1;33m)\u001b[0m\u001b[1;33m\u001b[0m\u001b[1;33m\u001b[0m\u001b[0m\n",
      "\u001b[1;31mZeroDivisionError\u001b[0m: division by zero"
     ]
    }
   ],
   "source": [
    "a = 5\n",
    "b = 0\n",
    "c= a / b\n",
    "print(\"division\",c)"
   ]
  },
  {
   "cell_type": "code",
   "execution_count": 4,
   "metadata": {},
   "outputs": [
    {
     "name": "stdout",
     "output_type": "stream",
     "text": [
      "Raj\n"
     ]
    },
    {
     "ename": "KeyError",
     "evalue": "'2'",
     "output_type": "error",
     "traceback": [
      "\u001b[1;31m---------------------------------------------------------------------------\u001b[0m",
      "\u001b[1;31mKeyError\u001b[0m                                  Traceback (most recent call last)",
      "\u001b[1;32m<ipython-input-4-f8662caa63fd>\u001b[0m in \u001b[0;36m<module>\u001b[1;34m\u001b[0m\n\u001b[0;32m      1\u001b[0m \u001b[0md\u001b[0m\u001b[1;33m=\u001b[0m \u001b[1;33m{\u001b[0m\u001b[1;36m1\u001b[0m\u001b[1;33m:\u001b[0m\u001b[1;34m\"Raj\"\u001b[0m\u001b[1;33m,\u001b[0m\u001b[1;36m2\u001b[0m\u001b[1;33m:\u001b[0m\u001b[1;34m\"Jay\"\u001b[0m\u001b[1;33m}\u001b[0m\u001b[1;33m\u001b[0m\u001b[1;33m\u001b[0m\u001b[0m\n\u001b[0;32m      2\u001b[0m \u001b[0mprint\u001b[0m\u001b[1;33m(\u001b[0m\u001b[0md\u001b[0m\u001b[1;33m[\u001b[0m\u001b[1;36m1\u001b[0m\u001b[1;33m]\u001b[0m\u001b[1;33m)\u001b[0m\u001b[1;33m\u001b[0m\u001b[1;33m\u001b[0m\u001b[0m\n\u001b[1;32m----> 3\u001b[1;33m \u001b[0mprint\u001b[0m\u001b[1;33m(\u001b[0m\u001b[0md\u001b[0m\u001b[1;33m[\u001b[0m\u001b[1;34m'2'\u001b[0m\u001b[1;33m]\u001b[0m\u001b[1;33m)\u001b[0m\u001b[1;33m\u001b[0m\u001b[1;33m\u001b[0m\u001b[0m\n\u001b[0m",
      "\u001b[1;31mKeyError\u001b[0m: '2'"
     ]
    }
   ],
   "source": [
    "d= {1:\"Raj\",2:\"Jay\"}\n",
    "print(d[1])\n",
    "print(d['2'])"
   ]
  },
  {
   "cell_type": "code",
   "execution_count": 6,
   "metadata": {},
   "outputs": [
    {
     "name": "stdout",
     "output_type": "stream",
     "text": [
      "Enter the number: 2\n",
      "Enter the number: 0\n"
     ]
    },
    {
     "ename": "ZeroDivisionError",
     "evalue": "division by zero",
     "output_type": "error",
     "traceback": [
      "\u001b[1;31m---------------------------------------------------------------------------\u001b[0m",
      "\u001b[1;31mZeroDivisionError\u001b[0m                         Traceback (most recent call last)",
      "\u001b[1;32m<ipython-input-6-fed6a4e09db6>\u001b[0m in \u001b[0;36m<module>\u001b[1;34m\u001b[0m\n\u001b[0;32m      1\u001b[0m \u001b[0ma\u001b[0m \u001b[1;33m=\u001b[0m \u001b[0mint\u001b[0m\u001b[1;33m(\u001b[0m\u001b[0minput\u001b[0m\u001b[1;33m(\u001b[0m\u001b[1;34m\"Enter the number: \"\u001b[0m\u001b[1;33m)\u001b[0m\u001b[1;33m)\u001b[0m\u001b[1;33m\u001b[0m\u001b[1;33m\u001b[0m\u001b[0m\n\u001b[0;32m      2\u001b[0m \u001b[0mb\u001b[0m \u001b[1;33m=\u001b[0m \u001b[0mint\u001b[0m\u001b[1;33m(\u001b[0m\u001b[0minput\u001b[0m\u001b[1;33m(\u001b[0m\u001b[1;34m\"Enter the number: \"\u001b[0m\u001b[1;33m)\u001b[0m\u001b[1;33m)\u001b[0m\u001b[1;33m\u001b[0m\u001b[1;33m\u001b[0m\u001b[0m\n\u001b[1;32m----> 3\u001b[1;33m \u001b[0mdiv\u001b[0m \u001b[1;33m=\u001b[0m \u001b[0ma\u001b[0m \u001b[1;33m/\u001b[0m \u001b[0mb\u001b[0m\u001b[1;33m\u001b[0m\u001b[1;33m\u001b[0m\u001b[0m\n\u001b[0m\u001b[0;32m      4\u001b[0m \u001b[0mprint\u001b[0m\u001b[1;33m(\u001b[0m\u001b[1;34m\"Division is\"\u001b[0m\u001b[1;33m,\u001b[0m \u001b[0mdiv\u001b[0m\u001b[1;33m)\u001b[0m\u001b[1;33m\u001b[0m\u001b[1;33m\u001b[0m\u001b[0m\n\u001b[0;32m      5\u001b[0m \u001b[0mprint\u001b[0m\u001b[1;33m(\u001b[0m\u001b[1;34m\"Program completed ! \"\u001b[0m\u001b[1;33m)\u001b[0m\u001b[1;33m\u001b[0m\u001b[1;33m\u001b[0m\u001b[0m\n",
      "\u001b[1;31mZeroDivisionError\u001b[0m: division by zero"
     ]
    }
   ],
   "source": [
    "# Without using exception handling \n",
    "a = int(input(\"Enter the number: \"))\n",
    "b = int(input(\"Enter the number: \"))\n",
    "div = a / b\n",
    "print(\"Division is\", div)\n",
    "print(\"Program completed ! \")"
   ]
  },
  {
   "cell_type": "code",
   "execution_count": 7,
   "metadata": {},
   "outputs": [
    {
     "name": "stdout",
     "output_type": "stream",
     "text": [
      "Enter the number: 5\n",
      "Enter the number: 0\n",
      "Error occurs in program\n"
     ]
    }
   ],
   "source": [
    "# by using Exception handling:\n",
    "a = int(input(\"Enter the number: \"))\n",
    "b = int(input(\"Enter the number: \"))\n",
    "try:\n",
    "    div = a / b\n",
    "    print(\"Division is\", div)\n",
    "except:\n",
    "    print(\"Error occurs in program\")"
   ]
  },
  {
   "cell_type": "code",
   "execution_count": 12,
   "metadata": {},
   "outputs": [
    {
     "name": "stdout",
     "output_type": "stream",
     "text": [
      "Enter the number: 2\n",
      "Enter the number: 0\n",
      "Error occurs in program\n",
      "Error division by zero\n"
     ]
    }
   ],
   "source": [
    "# by using Exception handling:\n",
    "a = int(input(\"Enter the number: \"))\n",
    "b = int(input(\"Enter the number: \"))\n",
    "try:\n",
    "    div = a / b\n",
    "    print(\"Division is\", div)\n",
    "except Exception as e:\n",
    "    print(\"Error occurs in program\")\n",
    "    print(\"Error\",e)"
   ]
  },
  {
   "cell_type": "code",
   "execution_count": 13,
   "metadata": {},
   "outputs": [
    {
     "name": "stdout",
     "output_type": "stream",
     "text": [
      "Enter the number: 2\n",
      "Enter the number: a\n",
      "Error occurs in program\n",
      "Error invalid literal for int() with base 10: 'a'\n"
     ]
    }
   ],
   "source": [
    "# Handle all exception in one block:\n",
    "try:\n",
    "    a = int(input(\"Enter the number: \"))\n",
    "    b = int(input(\"Enter the number: \"))\n",
    "    div = a / b\n",
    "    print(\"Division is\", div)\n",
    "except Exception as e:\n",
    "    print(\"Error occurs in program\")\n",
    "    print(\"Error\",e)"
   ]
  },
  {
   "cell_type": "code",
   "execution_count": 19,
   "metadata": {},
   "outputs": [
    {
     "name": "stdout",
     "output_type": "stream",
     "text": [
      "Enter the number: 2\n",
      "Enter the number: 2\n",
      "Error can only concatenate str (not \"float\") to str\n",
      "Program completed\n"
     ]
    }
   ],
   "source": [
    "# Handle each exception individually:   (Mutli-Exception)\n",
    "try:\n",
    "    a = int(input(\"Enter the number: \"))\n",
    "    b = int(input(\"Enter the number: \"))\n",
    "    div = a / b\n",
    "    print(\"Division is\"+ div)\n",
    "    \n",
    "    \n",
    "# Individual Exception\n",
    "except ValueError as e:\n",
    "    print(\"Please enter only nnumbers.\")\n",
    "except ZeroDivisionError as e:\n",
    "    print(\"Second number should not be zero.\")\n",
    "    \n",
    "\n",
    "# Default Error or Common Exception \n",
    "except Exception as e:\n",
    "    print(\"Error\",e)\n",
    "print(\"Program completed\")"
   ]
  },
  {
   "cell_type": "code",
   "execution_count": 20,
   "metadata": {},
   "outputs": [
    {
     "name": "stdout",
     "output_type": "stream",
     "text": [
      "Enter the number: 2\n",
      "Enter the number: 8\n",
      "Division is 0.25\n",
      "Program completed\n"
     ]
    }
   ],
   "source": [
    "# Exception with else block:\n",
    "try:\n",
    "    a = int(input(\"Enter the number: \"))\n",
    "    b = int(input(\"Enter the number: \"))\n",
    "    div = a / b\n",
    "    \n",
    "    \n",
    "# Individual Exception\n",
    "except ValueError as e:\n",
    "    print(\"Please enter only nnumbers.\")\n",
    "except ZeroDivisionError as e:\n",
    "    print(\"Second number should not be zero.\")\n",
    "    \n",
    "\n",
    "# Default Error or Common Exception \n",
    "except Exception as e:\n",
    "    print(\"Error\",e)\n",
    "    \n",
    "else:\n",
    "     print(\"Division is\", div)\n",
    "print(\"Program completed\")"
   ]
  },
  {
   "cell_type": "code",
   "execution_count": 23,
   "metadata": {},
   "outputs": [
    {
     "name": "stdout",
     "output_type": "stream",
     "text": [
      "Enter index which you want to print4\n",
      "Index is Invalid, it must between 0 to 3\n",
      "This finally block\n",
      "Program completed\n"
     ]
    }
   ],
   "source": [
    "# Exception with finally block:\n",
    "L1 = [1,2,4,7]\n",
    "try:\n",
    "    index = int(input(\"Enter index which you want to print\"))\n",
    "    value = L1[index]\n",
    "except IndexError as e:\n",
    "    print(f'Index is Invalid, it must between 0 to {len(L1)-1}')\n",
    "except ValueError as e:\n",
    "    print(\"Index must be in numbers only\")\n",
    "else:\n",
    "    print(\"Value\",value)\n",
    "    \n",
    "# Necessity of program\n",
    "finally:\n",
    "    print(\"This finally block\")\n",
    "print(\"Program completed\")"
   ]
  },
  {
   "cell_type": "code",
   "execution_count": 32,
   "metadata": {},
   "outputs": [
    {
     "name": "stdout",
     "output_type": "stream",
     "text": [
      "ENTER YOUR AGE: 10\n"
     ]
    },
    {
     "ename": "InvalidAgeError",
     "evalue": "Age is less than 18, age=10",
     "output_type": "error",
     "traceback": [
      "\u001b[1;31m---------------------------------------------------------------------------\u001b[0m",
      "\u001b[1;31mInvalidAgeError\u001b[0m                           Traceback (most recent call last)",
      "\u001b[1;32m<ipython-input-32-7f09a6dcfa15>\u001b[0m in \u001b[0;36m<module>\u001b[1;34m\u001b[0m\n\u001b[0;32m      4\u001b[0m \u001b[0mage\u001b[0m \u001b[1;33m=\u001b[0m \u001b[0mint\u001b[0m\u001b[1;33m(\u001b[0m\u001b[0minput\u001b[0m\u001b[1;33m(\u001b[0m\u001b[1;34m\"ENTER YOUR AGE: \"\u001b[0m\u001b[1;33m)\u001b[0m\u001b[1;33m)\u001b[0m\u001b[1;33m\u001b[0m\u001b[1;33m\u001b[0m\u001b[0m\n\u001b[0;32m      5\u001b[0m \u001b[1;32mif\u001b[0m \u001b[0mage\u001b[0m \u001b[1;33m<\u001b[0m \u001b[1;36m18\u001b[0m\u001b[1;33m:\u001b[0m\u001b[1;33m\u001b[0m\u001b[1;33m\u001b[0m\u001b[0m\n\u001b[1;32m----> 6\u001b[1;33m     \u001b[1;32mraise\u001b[0m \u001b[0mInvalidAgeError\u001b[0m\u001b[1;33m(\u001b[0m\u001b[1;34mf'Age is less than 18, age={age}'\u001b[0m\u001b[1;33m)\u001b[0m\u001b[1;33m\u001b[0m\u001b[1;33m\u001b[0m\u001b[0m\n\u001b[0m\u001b[0;32m      7\u001b[0m     \u001b[0mprint\u001b[0m\u001b[1;33m(\u001b[0m\u001b[1;34m\"Age is valid\"\u001b[0m\u001b[1;33m)\u001b[0m\u001b[1;33m\u001b[0m\u001b[1;33m\u001b[0m\u001b[0m\n\u001b[0;32m      8\u001b[0m \u001b[0mprint\u001b[0m\u001b[1;33m(\u001b[0m\u001b[1;34m\"Program Completed.\"\u001b[0m\u001b[1;33m)\u001b[0m\u001b[1;33m\u001b[0m\u001b[1;33m\u001b[0m\u001b[0m\n",
      "\u001b[1;31mInvalidAgeError\u001b[0m: Age is less than 18, age=10"
     ]
    }
   ],
   "source": [
    "# User-define Exception:\n",
    "class InvalidAgeError(Exception):\n",
    "    pass\n",
    "age = int(input(\"ENTER YOUR AGE: \"))\n",
    "if age < 18:\n",
    "    raise InvalidAgeError(f'Age is less than 18, age={age}') \n",
    "    print(\"Age is valid\")\n",
    "print(\"Program Completed.\")"
   ]
  },
  {
   "cell_type": "code",
   "execution_count": 34,
   "metadata": {},
   "outputs": [
    {
     "name": "stdout",
     "output_type": "stream",
     "text": [
      "ENTER YOUR AGE: 10\n",
      "Error Age is less than 18, age=10\n",
      "Program Completed.\n"
     ]
    }
   ],
   "source": [
    "# User-define Exception:\n",
    "class InvalidAgeError(Exception):\n",
    "    pass\n",
    "try:\n",
    "    age = int(input(\"ENTER YOUR AGE: \"))\n",
    "    \n",
    "    if age < 18:\n",
    "        raise InvalidAgeError(f'Age is less than 18, age={age}') \n",
    "except InvalidAgeError as e:\n",
    "    print(\"Error\",e)\n",
    "else:\n",
    "    print(\"Age is valid\")\n",
    "print(\"Program Completed.\")"
   ]
  },
  {
   "cell_type": "code",
   "execution_count": 39,
   "metadata": {},
   "outputs": [
    {
     "name": "stdout",
     "output_type": "stream",
     "text": [
      "Enter your number: 2\n",
      "Enter your Number: 0\n",
      "Error division by zero\n"
     ]
    }
   ],
   "source": [
    "# Implict Exception\n",
    "try :\n",
    "    a = int(input(\"Enter your number: \"))\n",
    "    b = int(input(\"Enter your Number: \"))\n",
    "    c = a/b\n",
    "except ZeroDivisionError as e:\n",
    "    print(\"Error\",e)\n",
    "else:\n",
    "    print(\"Division\",c)"
   ]
  },
  {
   "cell_type": "code",
   "execution_count": 41,
   "metadata": {},
   "outputs": [
    {
     "name": "stdout",
     "output_type": "stream",
     "text": [
      "Enter your number: 2\n",
      "Enter your Number: 0\n",
      "Error B should not be zero\n"
     ]
    }
   ],
   "source": [
    "# explict / manually  Exception\n",
    "try :\n",
    "    a = int(input(\"Enter your number: \"))\n",
    "    b = int(input(\"Enter your Number: \"))\n",
    "    if b == 0:\n",
    "        raise ZeroDivisionError('B should not be zero')\n",
    "    c = a/b\n",
    "except ZeroDivisionError as e:\n",
    "    print(\"Error\",e)\n",
    "else:\n",
    "    print(\"Division\",c)"
   ]
  },
  {
   "cell_type": "code",
   "execution_count": 6,
   "metadata": {},
   "outputs": [
    {
     "name": "stdout",
     "output_type": "stream",
     "text": [
      "Enter your Phone number: 02346\n",
      "Phone number:  2346\n",
      "Please enter the correct phone number !\n"
     ]
    }
   ],
   "source": [
    "def ph_number():\n",
    "    return number\n",
    "number = int(input(\"Enter your Phone number: \"))\n",
    "print(\"Phone number: \",ph_number())\n",
    "\n",
    "try:\n",
    "    if len(str(number)) < 10:\n",
    "        raise Exception(\"Please enter the correct phone number !\")\n",
    "    else:\n",
    "        print(\"OTP Number is send to the number.\")\n",
    "except Exception as e:\n",
    "    print(e)"
   ]
  },
  {
   "cell_type": "code",
   "execution_count": null,
   "metadata": {},
   "outputs": [],
   "source": []
  }
 ],
 "metadata": {
  "kernelspec": {
   "display_name": "Python 3",
   "language": "python",
   "name": "python3"
  },
  "language_info": {
   "codemirror_mode": {
    "name": "ipython",
    "version": 3
   },
   "file_extension": ".py",
   "mimetype": "text/x-python",
   "name": "python",
   "nbconvert_exporter": "python",
   "pygments_lexer": "ipython3",
   "version": "3.8.8"
  }
 },
 "nbformat": 4,
 "nbformat_minor": 4
}
