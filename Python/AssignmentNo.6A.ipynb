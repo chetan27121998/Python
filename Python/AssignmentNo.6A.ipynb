{
 "cells": [
  {
   "cell_type": "markdown",
   "metadata": {},
   "source": [
    "# 1. Capitalize, Lower, Upper, Title."
   ]
  },
  {
   "cell_type": "code",
   "execution_count": 6,
   "metadata": {},
   "outputs": [
    {
     "name": "stdout",
     "output_type": "stream",
     "text": [
      "Enter your sentence: i love python\n",
      "I Love Python\n",
      "I LOVE PYTHON\n",
      "i love python\n",
      "I love python\n"
     ]
    }
   ],
   "source": [
    "String = input(\"Enter your sentence: \")\n",
    "str1 = String.title() # Its indicate the first letter very words to be in capital format.\n",
    "str2 = String.upper() # Its indicate the hole string in to the upper-case format.\n",
    "str3 = String.lower() # Its indicate the hole string in to the lower-case format.\n",
    "str4 = String.capitalize() # Its indicate only the string's first letter to be in capital format\n",
    "print(str1)\n",
    "print(str2)\n",
    "print(str3)\n",
    "print(str4)"
   ]
  },
  {
   "cell_type": "markdown",
   "metadata": {},
   "source": [
    "# 2. Isupper, Islower.\n"
   ]
  },
  {
   "cell_type": "code",
   "execution_count": 19,
   "metadata": {},
   "outputs": [
    {
     "name": "stdout",
     "output_type": "stream",
     "text": [
      "True\n",
      "False\n"
     ]
    }
   ],
   "source": [
    "String1 = \"ITVEDANT\"\n",
    "print(String1.isupper()) # Its built-in function use to indicate whether the string is in upper-case or string's letter are in upper-case.\n",
    "print(String1.islower()) # Its built-in function use to indicate whether the string is in lower-case or string's letter are in lower-case."
   ]
  },
  {
   "cell_type": "markdown",
   "metadata": {},
   "source": [
    "# 3. Split , Join"
   ]
  },
  {
   "cell_type": "code",
   "execution_count": 28,
   "metadata": {},
   "outputs": [
    {
     "name": "stdout",
     "output_type": "stream",
     "text": [
      "['Hello,', 'Welcome', 'the', 'New', 'World', '!']\n",
      "Hello, Welcome the New World !\n"
     ]
    }
   ],
   "source": [
    "message = \" Hello, Welcome the New World !\"\n",
    "Split = message.split() # Its also the built-in function which indicates the splitting of the string but in the list and quote format.\n",
    "print(Split)\n",
    "Join = \" \".join(Split) # Its also the built-in function which use to join the string in single format.\n",
    "print(Join)"
   ]
  },
  {
   "cell_type": "markdown",
   "metadata": {},
   "source": [
    "# 4. Startswith and Endswith"
   ]
  },
  {
   "cell_type": "code",
   "execution_count": 34,
   "metadata": {},
   "outputs": [
    {
     "name": "stdout",
     "output_type": "stream",
     "text": [
      "Enter the string : alice\n",
      "True\n",
      "False\n"
     ]
    }
   ],
   "source": [
    "string = input(\"Enter the string : \")\n",
    "x = string.startswith('a')  # Return true if the strig start with letter 'a'\n",
    "print(x)\n",
    "y = string.endswith('s') # Return true if the string ends with letter 's'\n",
    "print(y)"
   ]
  },
  {
   "cell_type": "markdown",
   "metadata": {},
   "source": [
    "# 5. Replace, Find"
   ]
  },
  {
   "cell_type": "code",
   "execution_count": 39,
   "metadata": {},
   "outputs": [
    {
     "name": "stdout",
     "output_type": "stream",
     "text": [
      "Hello! Welcome to the Python2 \n",
      "Hello! Welcome to the Python3 \n",
      "22\n"
     ]
    }
   ],
   "source": [
    "# Replace its also the built-in function of python which indicates string to be replace with other string but in the brackets we\n",
    "# we have to mention both string older which has to be replace and new string with quotes.\n",
    "string = \"Hello! Welcome to the Python2 \"\n",
    "print(string)\n",
    "new_String = string .replace(\"Python2\",\"Python3\")\n",
    "print(new_String)\n",
    "\n",
    "#Find its also the built-in function of python which indicate the string we have to find the given string.\n",
    "#But we have assignment first the string which we have to find from the given string after that we can be able to print the find function.\n",
    "search_string = 'Python2'\n",
    "print(string.find(search_string))"
   ]
  },
  {
   "cell_type": "markdown",
   "metadata": {},
   "source": [
    "# 6. Isalpha. Isdigit, Isalnum"
   ]
  },
  {
   "cell_type": "code",
   "execution_count": 47,
   "metadata": {},
   "outputs": [
    {
     "name": "stdout",
     "output_type": "stream",
     "text": [
      "Helloworld\n",
      "True\n",
      "True\n"
     ]
    }
   ],
   "source": [
    "#isalpha it is also the builtin function of python which indicates the string containing the only the alphabets values. \n",
    "string1 = \"Helloworld\"\n",
    "print(string1)\n",
    "alpha = string1.isalpha()\n",
    "print(alpha)   # ouput will be false because our string contain one numeric values which is not able gain by the isalpha function.\n",
    "             # our string should completely free from numeric,space, etc. format then only it will return the ouput true.\n",
    "    \n",
    "    \n",
    "#isdigit its builtin function of python which indicates only the numberic values in string present or not.\n",
    "string2 = '12345678'\n",
    "digit = string2.isdigit()\n",
    "print(digit)\n",
    "\n",
    "#Isalnum\n",
    "string3 =\"Chetan1998\"\n",
    "alnum = string3.isa"
   ]
  },
  {
   "cell_type": "code",
   "execution_count": null,
   "metadata": {},
   "outputs": [],
   "source": []
  }
 ],
 "metadata": {
  "kernelspec": {
   "display_name": "Python 3",
   "language": "python",
   "name": "python3"
  },
  "language_info": {
   "codemirror_mode": {
    "name": "ipython",
    "version": 3
   },
   "file_extension": ".py",
   "mimetype": "text/x-python",
   "name": "python",
   "nbconvert_exporter": "python",
   "pygments_lexer": "ipython3",
   "version": "3.7.6"
  }
 },
 "nbformat": 4,
 "nbformat_minor": 4
}
