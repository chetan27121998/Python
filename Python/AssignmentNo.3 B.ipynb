{
 "cells": [
  {
   "cell_type": "markdown",
   "metadata": {},
   "source": [
    "# 1) Declare a variable num = 10, use short hand operator to increment num by 10, subtract by 5, divide by 3 and multiply by 4"
   ]
  },
  {
   "cell_type": "code",
   "execution_count": 1,
   "metadata": {},
   "outputs": [
    {
     "name": "stdout",
     "output_type": "stream",
     "text": [
      "10\n",
      "20\n",
      "15\n",
      "5.0\n",
      "20.0\n"
     ]
    }
   ],
   "source": [
    "# Declaring the variable as Num1 = 10;\n",
    "Num1 = 10\n",
    "print(Num1)\n",
    "\n",
    "# Incrementing the variable Num1 by 10 with short hand operator.\n",
    "Num1 += 10\n",
    "print(Num1)\n",
    "\n",
    "# Substract by 5.\n",
    "Num1 -= 5\n",
    "print(Num1)\n",
    "\n",
    "#Divide by 3\n",
    "Num1 /= 3\n",
    "print(Num1)\n",
    "\n",
    "#Multiply by 4\n",
    "Num1 *= 4\n",
    "print(Num1)"
   ]
  },
  {
   "cell_type": "markdown",
   "metadata": {},
   "source": [
    "# 2) Calculate area and perimeter of an equilateral triangle."
   ]
  },
  {
   "cell_type": "code",
   "execution_count": 2,
   "metadata": {},
   "outputs": [
    {
     "name": "stdout",
     "output_type": "stream",
     "text": [
      "Please Enter length of any side of an Equilateral Triangle: 11\n",
      "Area of an Equilateral Triangle is :  52.393\n",
      "Perimeter of an Equilateral Triangle is:  33.0\n",
      "\n"
     ]
    }
   ],
   "source": [
    "side = float(input(\"Please Enter length of any side of an Equilateral Triangle: \"))\n",
    "\n",
    "#Area of an Equilateral Triangle:\n",
    "\n",
    "Area = (side * side) * 1.732/4\n",
    "\n",
    "print(\"Area of an Equilateral Triangle is : \",Area)\n",
    "\n",
    "#Perimeter of an Equilateral Triangle:\n",
    "\n",
    "Perimeter = 3 * side\n",
    "\n",
    "print(\"Perimeter of an Equilateral Triangle is: \",Perimeter)\n",
    "\n",
    "print()"
   ]
  },
  {
   "cell_type": "markdown",
   "metadata": {},
   "source": [
    "# 3) Declare a student's score in 5 subjects like math, physics, history, english and chemistry. calculate total score and percentage.\n"
   ]
  },
  {
   "cell_type": "code",
   "execution_count": 3,
   "metadata": {},
   "outputs": [
    {
     "name": "stdout",
     "output_type": "stream",
     "text": [
      "Enter subject marks for Math : 5\n",
      "Enter subejct marks for Physics : 65\n",
      "Enter subject marks for History : 56\n",
      "Enter subejct marks for English : 8\n",
      "Enter subject marks for Chemistry : 98\n",
      "Total of all the subject is :  232\n",
      "Percentage calculation is :  46.400000000000006\n",
      "\n"
     ]
    }
   ],
   "source": [
    "#All the Subjects marks entery:\n",
    "\n",
    "Math = int(input(\"Enter subject marks for Math : \"))\n",
    "\n",
    "Physics = int(input(\"Enter subejct marks for Physics : \"))\n",
    "\n",
    "History = int(input(\"Enter subject marks for History : \"))\n",
    "\n",
    "English = int(input(\"Enter subejct marks for English : \"))\n",
    "\n",
    "Chemistry = int(input(\"Enter subject marks for Chemistry : \"))\n",
    "\n",
    "#Total of all the subejcts:\n",
    "\n",
    "Total = Math + Physics + History + English + Chemistry\n",
    "\n",
    "print(\"Total of all the subject is : \", Total)\n",
    "\n",
    "#Percentage calculation:\n",
    "\n",
    "Percentage = (Total/500)*100\n",
    "\n",
    "print(\"Percentage calculation is : \", Percentage)\n",
    "\n",
    "print()\n"
   ]
  },
  {
   "cell_type": "markdown",
   "metadata": {},
   "source": [
    "# 5. If i = 3, j = 2 what is the result of following expressions?\n",
    "\n",
    "    1.) i + 5 >= j - 6. \n",
    "\n",
    "    2.)j * 10 < i ** 2.\n",
    "\n",
    "    3.)i < j + 5 > j ** 4."
   ]
  },
  {
   "cell_type": "code",
   "execution_count": 4,
   "metadata": {},
   "outputs": [
    {
     "name": "stdout",
     "output_type": "stream",
     "text": [
      "Above Condition is True\n",
      "Above Condition id False\n",
      "Above Condition is False\n"
     ]
    }
   ],
   "source": [
    "i = 3\n",
    "\n",
    "j = 2\n",
    "\n",
    "if i + 5 >= j - 6:\n",
    "\n",
    "    print(\"Above Condition is True\")\n",
    "\n",
    "else:\n",
    "\n",
    "    print(\"Above Condition is False\")\n",
    "\n",
    "if j * 10 < i ** 2:\n",
    "\n",
    "    print(\"Above Condition is True\")\n",
    "\n",
    "else:\n",
    "\n",
    "    print(\"Above Condition id False\")\n",
    "\n",
    "if i < j + 5 > j ** 4:\n",
    "\n",
    "    print(\"Above Condition is True\")\n",
    "\n",
    "else:\n",
    "\n",
    "    print(\"Above Condition is False\")"
   ]
  },
  {
   "cell_type": "code",
   "execution_count": null,
   "metadata": {},
   "outputs": [],
   "source": []
  }
 ],
 "metadata": {
  "kernelspec": {
   "display_name": "Python 3",
   "language": "python",
   "name": "python3"
  },
  "language_info": {
   "codemirror_mode": {
    "name": "ipython",
    "version": 3
   },
   "file_extension": ".py",
   "mimetype": "text/x-python",
   "name": "python",
   "nbconvert_exporter": "python",
   "pygments_lexer": "ipython3",
   "version": "3.7.6"
  }
 },
 "nbformat": 4,
 "nbformat_minor": 4
}
