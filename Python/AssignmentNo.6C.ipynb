{
 "cells": [
  {
   "cell_type": "markdown",
   "metadata": {},
   "source": [
    "#  STRING Assignment."
   ]
  },
  {
   "cell_type": "markdown",
   "metadata": {},
   "source": [
    "#  1. Write a program to print entered string in reverse order without using built in function."
   ]
  },
  {
   "cell_type": "code",
   "execution_count": 1,
   "metadata": {},
   "outputs": [
    {
     "name": "stdout",
     "output_type": "stream",
     "text": [
      "Enter string : Hello world\n",
      "Reverse order string will be:  dlrow olleH\n"
     ]
    }
   ],
   "source": [
    "String = input(\"Enter string : \")\n",
    "Reverse_String =''\n",
    "for i in range(1,len(String)+1):\n",
    "    Reverse_String += String[-i]\n",
    "print(\"Reverse order string will be: \", Reverse_String)"
   ]
  },
  {
   "cell_type": "markdown",
   "metadata": {},
   "source": [
    "# 2. Write a program to print count of , captial, small , vowels,consonant, digits, space and special characters in given string.\n"
   ]
  },
  {
   "cell_type": "code",
   "execution_count": 18,
   "metadata": {},
   "outputs": [
    {
     "name": "stdout",
     "output_type": "stream",
     "text": [
      "Enter the sentence:I Love Python 10070\n",
      "The number of Uppercase Character is :  3\n",
      "--------------------------------------------------------------------------------\n",
      "The Number of Small-Case Character is: 8\n",
      "--------------------------------------------------------------------------------\n",
      "The Number of Space present in the string is: 3\n",
      "--------------------------------------------------------------------------------\n",
      "The Number of Vowels present in the string is: 4\n",
      "--------------------------------------------------------------------------------\n",
      "The Number of Consonant present in the string is: 15\n",
      "--------------------------------------------------------------------------------\n",
      "The Number of Digit present in the string is: 5\n"
     ]
    }
   ],
   "source": [
    "# Count of Upper-Case.\n",
    "String = input(\"Enter the sentence:\")\n",
    "UPPER_CASE = 0\n",
    "for i in String:\n",
    "    if (i.isupper()):\n",
    "        UPPER_CASE += 1\n",
    "print(\"The number of Uppercase Character is : \",UPPER_CASE)\n",
    "print(\"-\"*80)\n",
    "\n",
    "# Count of Small-Case.\n",
    "SMALL_CASE = 0\n",
    "for i in String:\n",
    "    if (i.islower()):\n",
    "        SMALL_CASE += 1\n",
    "print(\"The Number of Small-Case Character is:\",SMALL_CASE)\n",
    "print(\"-\"*80)\n",
    "\n",
    "# Count of Spaces\n",
    "Space = 0\n",
    "for i in String:\n",
    "    if i.isspace():\n",
    "        Space += 1\n",
    "print(\"The Number of Space present in the string is:\", Space)\n",
    "print(\"-\"*80)\n",
    "\n",
    "# Count of Vowels.\n",
    "Vowels_list = ['a','e','i','o','u','A','E','I','O','U']\n",
    "Vowels = 0\n",
    "for i in String:\n",
    "    if i in Vowels_list:\n",
    "        Vowels += 1\n",
    "print(\"The Number of Vowels present in the string is:\",Vowels)\n",
    "print(\"-\"*80)\n",
    "\n",
    "# Count of Consonants\n",
    "Consonant = 0\n",
    "for i in String:\n",
    "    if i not in Vowels_list:\n",
    "        Consonant += 1\n",
    "print(\"The Number of Consonant present in the string is:\", Consonant)\n",
    "print(\"-\"*80)\n",
    "\n",
    "# Count of Digit\n",
    "Digit = 0 \n",
    "for i in String:\n",
    "    if i.isdigit():\n",
    "        Digit += 1\n",
    "print(\"The Number of Digit present in the string is:\", Digit)"
   ]
  },
  {
   "cell_type": "code",
   "execution_count": 9,
   "metadata": {},
   "outputs": [
    {
     "name": "stdout",
     "output_type": "stream",
     "text": [
      "Enter the sentence: I Love Python\n",
      "1. Count of Capital letter in string.\n",
      "2. Count of space in string.\n",
      "3. Count of small_case in string\n",
      "4. Count of Vowels in string.\n",
      "5. Count of Consonant in string.\n",
      "6. Count of digits in string.\n",
      "7. Count of special symbols character in the string \n",
      "8. Invalid Entery\n",
      "\n",
      "Select your choice 1\n",
      "The number of uppercase characters is: 3\n",
      "------------------------------\n",
      "1. Count of Capital letter in string.\n",
      "2. Count of space in string.\n",
      "3. Count of small_case in string\n",
      "4. Count of Vowels in string.\n",
      "5. Count of Consonant in string.\n",
      "6. Count of digits in string.\n",
      "7. Count of special symbols character in the string \n",
      "8. Invalid Entery\n",
      "\n",
      "Select your choice 2\n",
      "The Number of blank space is:  2\n",
      "------------------------------\n",
      "1. Count of Capital letter in string.\n",
      "2. Count of space in string.\n",
      "3. Count of small_case in string\n",
      "4. Count of Vowels in string.\n",
      "5. Count of Consonant in string.\n",
      "6. Count of digits in string.\n",
      "7. Count of special symbols character in the string \n",
      "8. Invalid Entery\n",
      "\n",
      "Select your choice 3\n",
      "The Number of small-case is: 8\n",
      "------------------------------\n",
      "1. Count of Capital letter in string.\n",
      "2. Count of space in string.\n",
      "3. Count of small_case in string\n",
      "4. Count of Vowels in string.\n",
      "5. Count of Consonant in string.\n",
      "6. Count of digits in string.\n",
      "7. Count of special symbols character in the string \n",
      "8. Invalid Entery\n",
      "\n",
      "Select your choice 4\n",
      "The list of Vowels present in the string is: 4\n",
      "------------------------------\n",
      "1. Count of Capital letter in string.\n",
      "2. Count of space in string.\n",
      "3. Count of small_case in string\n",
      "4. Count of Vowels in string.\n",
      "5. Count of Consonant in string.\n",
      "6. Count of digits in string.\n",
      "7. Count of special symbols character in the string \n",
      "8. Invalid Entery\n",
      "\n",
      "Select your choice 5\n",
      "The list of consonants present in the string is: 9\n",
      "------------------------------\n",
      "1. Count of Capital letter in string.\n",
      "2. Count of space in string.\n",
      "3. Count of small_case in string\n",
      "4. Count of Vowels in string.\n",
      "5. Count of Consonant in string.\n",
      "6. Count of digits in string.\n",
      "7. Count of special symbols character in the string \n",
      "8. Invalid Entery\n",
      "\n",
      "Select your choice 6\n",
      "The Number of digit present in the string is:  0\n",
      "------------------------------\n",
      "1. Count of Capital letter in string.\n",
      "2. Count of space in string.\n",
      "3. Count of small_case in string\n",
      "4. Count of Vowels in string.\n",
      "5. Count of Consonant in string.\n",
      "6. Count of digits in string.\n",
      "7. Count of special symbols character in the string \n",
      "8. Invalid Entery\n",
      "\n",
      "Select your choice 8\n",
      "INVALID ENTERY\n"
     ]
    }
   ],
   "source": [
    "choice = special = 0\n",
    "String = input(\"Enter the sentence: \")\n",
    "Selection_Menu = '''1. Count of Capital letter in string.\n",
    "2. Count of space in string.\n",
    "3. Count of small_case in string\n",
    "4. Count of Vowels in string.\n",
    "5. Count of Consonant in string.\n",
    "6. Count of digits in string.\n",
    "7. Count of special symbols character in the string \n",
    "8. Invalid Entery\n",
    "'''\n",
    "while choice != 8:\n",
    "    print(Selection_Menu)\n",
    "    choice = int(input(\"Select your choice \"))\n",
    "\n",
    "    # Add n Value in list.\n",
    "    if choice == 1:\n",
    "        count1 = 0\n",
    "        for i in String:\n",
    "            if (i.isupper()):\n",
    "                count1 += 1\n",
    "        print(\"The number of uppercase characters is:\",count1)\n",
    "        print(\"-\"*30)\n",
    "    elif choice == 2:\n",
    "        count2 = 0\n",
    "        for i in String:\n",
    "            if i.isspace():\n",
    "                count2 += 1\n",
    "        print(\"The Number of blank space is: \", count2)\n",
    "        print(\"-\"*30)\n",
    "    elif choice == 3:\n",
    "        count3 =0\n",
    "        for i in String:\n",
    "            if i.islower():\n",
    "                count3 += 1\n",
    "        print(\"The Number of small-case is:\",count3)\n",
    "        print(\"-\"*30)\n",
    "    elif choice == 4:\n",
    "        Vowels_list = ['a','e','i','o','u','A','E','I','O','U']\n",
    "        count4 = 0\n",
    "        for i in String:\n",
    "            if i in Vowels_list:\n",
    "                count4 += 1\n",
    "        print(\"The list of Vowels present in the string is:\",count4)\n",
    "        print(\"-\"*30)\n",
    "    elif choice == 5:\n",
    "        count5 = 0\n",
    "        for i in String:\n",
    "            if i not in Vowels_list:\n",
    "                count5 += 1\n",
    "        print(\"The list of consonants present in the string is:\", count5)\n",
    "        print(\"-\"*30)\n",
    "    elif choice == 6:\n",
    "        count6 = 0\n",
    "        for i in String:\n",
    "            if i.isdigit():\n",
    "                count6 += 1\n",
    "        print(\"The Number of digit present in the string is: \", count6)\n",
    "        print(\"-\"*30)\n",
    "    else:\n",
    "        print(\"INVALID ENTERY\")"
   ]
  },
  {
   "cell_type": "markdown",
   "metadata": {},
   "source": [
    "# 3. Write a program to create self introduction using formatted string and print with user input."
   ]
  },
  {
   "cell_type": "code",
   "execution_count": 5,
   "metadata": {},
   "outputs": [
    {
     "name": "stdout",
     "output_type": "stream",
     "text": [
      "Enter your name: Chetan Kate\n",
      "Enter your age: 23\n",
      "Enter your Qualification: Bachelor in Engineering in (Mechanical)\n",
      "Enter your passing year: 2020\n",
      "Enter your college name: Viva Institute of Technology\n",
      "Enter your last qualification average percentage: 67\n",
      "Enter number of backlog in your academic year: without any\n",
      "Enter your hoobies :  cricket, football, reading books, travelling, playing video games. \n",
      "____________________________________________________________________________________________________\n",
      "Myself Chetan Kate and my age is 23. I have completed my degree in Bachelor in Engineering in (Mechanical) in year 2020 from college Viva Institute of Technology, with percentage 67% and without any backlogs and my hoobies are  cricket, football, reading books, travelling, playing video games. \n"
     ]
    }
   ],
   "source": [
    "Name = input(\"Enter your name: \")\n",
    "Age = int(input(\"Enter your age: \"))\n",
    "Qualification = input(\"Enter your Qualification: \")\n",
    "Passing_Year = int(input(\"Enter your passing year: \"))\n",
    "college = input(\"Enter your college name: \")\n",
    "Percentage = int(input(\"Enter your last qualification average percentage: \"))\n",
    "backlogs = input(\"Enter number of backlog in your academic year: \")\n",
    "Hoobies = input(\"Enter your hoobies : \")\n",
    "print('_'*100)\n",
    "print(f\"Myself {Name} and my age is {Age}. I have completed my degree in {Qualification} in year {Passing_Year} from college {college}, with percentage {Percentage}% and {backlogs} backlogs and my hoobies are {Hoobies}\")"
   ]
  },
  {
   "cell_type": "markdown",
   "metadata": {},
   "source": [
    "# 4. Write a program to get the following outputs when print."
   ]
  },
  {
   "cell_type": "code",
   "execution_count": 2,
   "metadata": {},
   "outputs": [
    {
     "name": "stdout",
     "output_type": "stream",
     "text": [
      "I LOVE PYTHON PROGRAM\n",
      "i love python program\n",
      "I love python program\n",
      "I Love Python Program\n",
      "['i', 'LoVe', 'pYtHoN', 'PrOGRAm']\n",
      "Program Python Love I\n",
      "ILovePythonProgram\n",
      "pYtHoN\n"
     ]
    }
   ],
   "source": [
    "s1 = 'i LoVe pYtHoN PrOGRAm'\n",
    "# OUTPUT:  I LOVE PYTHON PROGRAM \n",
    "str1 = s1.upper()\n",
    "print(str1)\n",
    "\n",
    "# OUTPUT: i love python program\n",
    "str2 = s1.lower()\n",
    "print(str2)\n",
    "\n",
    "# OUTPUT: I love python program\n",
    "str3 = s1.capitalize()\n",
    "print(str3)\n",
    "\n",
    "# OUTPUT: I Love Python Program\n",
    "str4 = s1.title()\n",
    "print(str4)\n",
    "\n",
    "# OUTPUT: ['i', 'LoVe', 'pYtHoN', 'PrOGRAm']\n",
    "str5 = s1.split()\n",
    "print(str5)\n",
    "\n",
    "# OUTPUT: Program Python Love I\n",
    "words = str4.split()\n",
    "str6 = words[::-1]\n",
    "str7 = ' '.join(str6)\n",
    "print(str7)\n",
    "\n",
    "# OUTPUT: ILovePythonProgram \n",
    "str8 = str4.replace(\" \",\"\")\n",
    "print(str8)\n",
    "\n",
    "# OUTPUT: pYtHoN\n",
    "str9 = str5.pop(2)\n",
    "print(str9)"
   ]
  },
  {
   "cell_type": "code",
   "execution_count": null,
   "metadata": {},
   "outputs": [],
   "source": []
  }
 ],
 "metadata": {
  "kernelspec": {
   "display_name": "Python 3",
   "language": "python",
   "name": "python3"
  },
  "language_info": {
   "codemirror_mode": {
    "name": "ipython",
    "version": 3
   },
   "file_extension": ".py",
   "mimetype": "text/x-python",
   "name": "python",
   "nbconvert_exporter": "python",
   "pygments_lexer": "ipython3",
   "version": "3.7.6"
  }
 },
 "nbformat": 4,
 "nbformat_minor": 4
}
