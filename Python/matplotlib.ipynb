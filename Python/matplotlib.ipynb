{
 "cells": [
  {
   "cell_type": "code",
   "execution_count": 1,
   "metadata": {
    "executionInfo": {
     "elapsed": 641,
     "status": "ok",
     "timestamp": 1637121204586,
     "user": {
      "displayName": "Chetan Kate",
      "photoUrl": "https://lh3.googleusercontent.com/a-/AOh14GgngAMsPxAglnP8slcWYgTTVhQBmkMKcwmOi8T2Ag=s64",
      "userId": "02219044972344281038"
     },
     "user_tz": -330
    },
    "id": "8W0YUqtE45Hr"
   },
   "outputs": [],
   "source": [
    "import matplotlib.pyplot as plt\n",
    "import seaborn as sn\n",
    "import pandas as pd\n",
    "import numpy as np"
   ]
  },
  {
   "cell_type": "code",
   "execution_count": 2,
   "metadata": {
    "colab": {
     "base_uri": "https://localhost:8080/"
    },
    "executionInfo": {
     "elapsed": 25,
     "status": "ok",
     "timestamp": 1637121205245,
     "user": {
      "displayName": "Chetan Kate",
      "photoUrl": "https://lh3.googleusercontent.com/a-/AOh14GgngAMsPxAglnP8slcWYgTTVhQBmkMKcwmOi8T2Ag=s64",
      "userId": "02219044972344281038"
     },
     "user_tz": -330
    },
    "id": "CSz-er7HBad1",
    "outputId": "a6574c8c-72a3-40a6-f753-ae7a5f1e565b"
   },
   "outputs": [
    {
     "name": "stdout",
     "output_type": "stream",
     "text": [
      "Drive already mounted at /content/drive; to attempt to forcibly remount, call drive.mount(\"/content/drive\", force_remount=True).\n"
     ]
    }
   ],
   "source": [
    "from google.colab import drive\n",
    "drive.mount('/content/drive')"
   ]
  },
  {
   "cell_type": "code",
   "execution_count": 3,
   "metadata": {
    "executionInfo": {
     "elapsed": 1012,
     "status": "ok",
     "timestamp": 1637121206246,
     "user": {
      "displayName": "Chetan Kate",
      "photoUrl": "https://lh3.googleusercontent.com/a-/AOh14GgngAMsPxAglnP8slcWYgTTVhQBmkMKcwmOi8T2Ag=s64",
      "userId": "02219044972344281038"
     },
     "user_tz": -330
    },
    "id": "l-LACN8_5Ary"
   },
   "outputs": [],
   "source": [
    "dataset_1=pd.read_csv(r'/content/drive/MyDrive/data analytic /cgpa.csv')\n",
    "dataset_2=pd.read_csv(r'/content/drive/MyDrive/data analytic /titanic.csv')"
   ]
  },
  {
   "cell_type": "code",
   "execution_count": 4,
   "metadata": {
    "colab": {
     "base_uri": "https://localhost:8080/",
     "height": 424
    },
    "executionInfo": {
     "elapsed": 56,
     "status": "ok",
     "timestamp": 1637121206262,
     "user": {
      "displayName": "Chetan Kate",
      "photoUrl": "https://lh3.googleusercontent.com/a-/AOh14GgngAMsPxAglnP8slcWYgTTVhQBmkMKcwmOi8T2Ag=s64",
      "userId": "02219044972344281038"
     },
     "user_tz": -330
    },
    "id": "WLwajVBC53Er",
    "outputId": "d5014feb-b0c7-47a6-be26-faf4c811fbc3"
   },
   "outputs": [
    {
     "data": {
      "text/html": [
       "<div>\n",
       "<style scoped>\n",
       "    .dataframe tbody tr th:only-of-type {\n",
       "        vertical-align: middle;\n",
       "    }\n",
       "\n",
       "    .dataframe tbody tr th {\n",
       "        vertical-align: top;\n",
       "    }\n",
       "\n",
       "    .dataframe thead th {\n",
       "        text-align: right;\n",
       "    }\n",
       "</style>\n",
       "<table border=\"1\" class=\"dataframe\">\n",
       "  <thead>\n",
       "    <tr style=\"text-align: right;\">\n",
       "      <th></th>\n",
       "      <th>rollno</th>\n",
       "      <th>cgpa</th>\n",
       "      <th>rank</th>\n",
       "    </tr>\n",
       "  </thead>\n",
       "  <tbody>\n",
       "    <tr>\n",
       "      <th>0</th>\n",
       "      <td>1</td>\n",
       "      <td>5.215008</td>\n",
       "      <td>9000</td>\n",
       "    </tr>\n",
       "    <tr>\n",
       "      <th>1</th>\n",
       "      <td>2</td>\n",
       "      <td>6.161833</td>\n",
       "      <td>9001</td>\n",
       "    </tr>\n",
       "    <tr>\n",
       "      <th>2</th>\n",
       "      <td>3</td>\n",
       "      <td>8.301801</td>\n",
       "      <td>9002</td>\n",
       "    </tr>\n",
       "    <tr>\n",
       "      <th>3</th>\n",
       "      <td>4</td>\n",
       "      <td>6.889414</td>\n",
       "      <td>9003</td>\n",
       "    </tr>\n",
       "    <tr>\n",
       "      <th>4</th>\n",
       "      <td>5</td>\n",
       "      <td>8.393946</td>\n",
       "      <td>9004</td>\n",
       "    </tr>\n",
       "    <tr>\n",
       "      <th>...</th>\n",
       "      <td>...</td>\n",
       "      <td>...</td>\n",
       "      <td>...</td>\n",
       "    </tr>\n",
       "    <tr>\n",
       "      <th>499995</th>\n",
       "      <td>499996</td>\n",
       "      <td>9.387890</td>\n",
       "      <td>508995</td>\n",
       "    </tr>\n",
       "    <tr>\n",
       "      <th>499996</th>\n",
       "      <td>499997</td>\n",
       "      <td>9.094913</td>\n",
       "      <td>508996</td>\n",
       "    </tr>\n",
       "    <tr>\n",
       "      <th>499997</th>\n",
       "      <td>499998</td>\n",
       "      <td>8.430407</td>\n",
       "      <td>508997</td>\n",
       "    </tr>\n",
       "    <tr>\n",
       "      <th>499998</th>\n",
       "      <td>499999</td>\n",
       "      <td>7.329542</td>\n",
       "      <td>508998</td>\n",
       "    </tr>\n",
       "    <tr>\n",
       "      <th>499999</th>\n",
       "      <td>500000</td>\n",
       "      <td>9.358222</td>\n",
       "      <td>508999</td>\n",
       "    </tr>\n",
       "  </tbody>\n",
       "</table>\n",
       "<p>500000 rows × 3 columns</p>\n",
       "</div>"
      ],
      "text/plain": [
       "        rollno      cgpa    rank\n",
       "0            1  5.215008    9000\n",
       "1            2  6.161833    9001\n",
       "2            3  8.301801    9002\n",
       "3            4  6.889414    9003\n",
       "4            5  8.393946    9004\n",
       "...        ...       ...     ...\n",
       "499995  499996  9.387890  508995\n",
       "499996  499997  9.094913  508996\n",
       "499997  499998  8.430407  508997\n",
       "499998  499999  7.329542  508998\n",
       "499999  500000  9.358222  508999\n",
       "\n",
       "[500000 rows x 3 columns]"
      ]
     },
     "execution_count": 4,
     "metadata": {},
     "output_type": "execute_result"
    }
   ],
   "source": [
    "dataset_1"
   ]
  },
  {
   "cell_type": "code",
   "execution_count": 5,
   "metadata": {
    "colab": {
     "base_uri": "https://localhost:8080/",
     "height": 300
    },
    "executionInfo": {
     "elapsed": 51,
     "status": "ok",
     "timestamp": 1637121206265,
     "user": {
      "displayName": "Chetan Kate",
      "photoUrl": "https://lh3.googleusercontent.com/a-/AOh14GgngAMsPxAglnP8slcWYgTTVhQBmkMKcwmOi8T2Ag=s64",
      "userId": "02219044972344281038"
     },
     "user_tz": -330
    },
    "id": "4LYgT_id6Dvf",
    "outputId": "c2c3a3f8-3f79-490f-b723-ebebb1c1a07f"
   },
   "outputs": [
    {
     "data": {
      "text/html": [
       "<div>\n",
       "<style scoped>\n",
       "    .dataframe tbody tr th:only-of-type {\n",
       "        vertical-align: middle;\n",
       "    }\n",
       "\n",
       "    .dataframe tbody tr th {\n",
       "        vertical-align: top;\n",
       "    }\n",
       "\n",
       "    .dataframe thead th {\n",
       "        text-align: right;\n",
       "    }\n",
       "</style>\n",
       "<table border=\"1\" class=\"dataframe\">\n",
       "  <thead>\n",
       "    <tr style=\"text-align: right;\">\n",
       "      <th></th>\n",
       "      <th>rollno</th>\n",
       "      <th>cgpa</th>\n",
       "      <th>rank</th>\n",
       "    </tr>\n",
       "  </thead>\n",
       "  <tbody>\n",
       "    <tr>\n",
       "      <th>6</th>\n",
       "      <td>7</td>\n",
       "      <td>9.208346</td>\n",
       "      <td>9006</td>\n",
       "    </tr>\n",
       "    <tr>\n",
       "      <th>11</th>\n",
       "      <td>12</td>\n",
       "      <td>9.184521</td>\n",
       "      <td>9011</td>\n",
       "    </tr>\n",
       "    <tr>\n",
       "      <th>14</th>\n",
       "      <td>15</td>\n",
       "      <td>9.125899</td>\n",
       "      <td>9014</td>\n",
       "    </tr>\n",
       "    <tr>\n",
       "      <th>23</th>\n",
       "      <td>24</td>\n",
       "      <td>9.083740</td>\n",
       "      <td>9023</td>\n",
       "    </tr>\n",
       "    <tr>\n",
       "      <th>24</th>\n",
       "      <td>25</td>\n",
       "      <td>9.591179</td>\n",
       "      <td>9024</td>\n",
       "    </tr>\n",
       "    <tr>\n",
       "      <th>48</th>\n",
       "      <td>49</td>\n",
       "      <td>9.459920</td>\n",
       "      <td>9048</td>\n",
       "    </tr>\n",
       "    <tr>\n",
       "      <th>54</th>\n",
       "      <td>55</td>\n",
       "      <td>9.379152</td>\n",
       "      <td>9054</td>\n",
       "    </tr>\n",
       "    <tr>\n",
       "      <th>56</th>\n",
       "      <td>57</td>\n",
       "      <td>9.036169</td>\n",
       "      <td>9056</td>\n",
       "    </tr>\n",
       "  </tbody>\n",
       "</table>\n",
       "</div>"
      ],
      "text/plain": [
       "    rollno      cgpa  rank\n",
       "6        7  9.208346  9006\n",
       "11      12  9.184521  9011\n",
       "14      15  9.125899  9014\n",
       "23      24  9.083740  9023\n",
       "24      25  9.591179  9024\n",
       "48      49  9.459920  9048\n",
       "54      55  9.379152  9054\n",
       "56      57  9.036169  9056"
      ]
     },
     "execution_count": 5,
     "metadata": {},
     "output_type": "execute_result"
    }
   ],
   "source": [
    "\n",
    "df=dataset_1[dataset_1['cgpa']>9]\n",
    "rank_1=df.head(8)\n",
    "rank_1"
   ]
  },
  {
   "cell_type": "code",
   "execution_count": 6,
   "metadata": {
    "colab": {
     "base_uri": "https://localhost:8080/"
    },
    "executionInfo": {
     "elapsed": 48,
     "status": "ok",
     "timestamp": 1637121206268,
     "user": {
      "displayName": "Chetan Kate",
      "photoUrl": "https://lh3.googleusercontent.com/a-/AOh14GgngAMsPxAglnP8slcWYgTTVhQBmkMKcwmOi8T2Ag=s64",
      "userId": "02219044972344281038"
     },
     "user_tz": -330
    },
    "id": "F1a_zp9k6nJz",
    "outputId": "002eeca3-b4ba-415f-d9ba-b19f64a8365e"
   },
   "outputs": [
    {
     "name": "stdout",
     "output_type": "stream",
     "text": [
      "6     9006\n",
      "11    9011\n",
      "14    9014\n",
      "23    9023\n",
      "24    9024\n",
      "48    9048\n",
      "54    9054\n",
      "56    9056\n",
      "Name: rank, dtype: int64\n",
      "------------------------------\n",
      "6     9.208346\n",
      "11    9.184521\n",
      "14    9.125899\n",
      "23    9.083740\n",
      "24    9.591179\n",
      "48    9.459920\n",
      "54    9.379152\n",
      "56    9.036169\n",
      "Name: cgpa, dtype: float64\n"
     ]
    }
   ],
   "source": [
    "X = rank_1['rank']\n",
    "Y = rank_1['cgpa']\n",
    "print(X)\n",
    "print('-'*30)\n",
    "print(Y)"
   ]
  },
  {
   "cell_type": "code",
   "execution_count": 7,
   "metadata": {
    "colab": {
     "base_uri": "https://localhost:8080/",
     "height": 933
    },
    "executionInfo": {
     "elapsed": 810,
     "status": "ok",
     "timestamp": 1637121207039,
     "user": {
      "displayName": "Chetan Kate",
      "photoUrl": "https://lh3.googleusercontent.com/a-/AOh14GgngAMsPxAglnP8slcWYgTTVhQBmkMKcwmOi8T2Ag=s64",
      "userId": "02219044972344281038"
     },
     "user_tz": -330
    },
    "id": "Z1jIHUAz6oz0",
    "outputId": "55ae0b6c-9454-4f14-d9c8-f78ab606b416"
   },
   "outputs": [
    {
     "name": "stderr",
     "output_type": "stream",
     "text": [
      "findfont: Font family ['Arial'] not found. Falling back to DejaVu Sans.\n"
     ]
    },
    {
     "data": {
      "image/png": "[encoded data removed]",
      "text/plain": [
       "<Figure size 1080x1080 with 1 Axes>"
      ]
     },
     "metadata": {
      "needs_background": "light"
     },
     "output_type": "display_data"
    }
   ],
   "source": [
    "# Scatter \n",
    "plt.figure(figsize=(15,15))\n",
    "plt.scatter(X,Y,c=\"red\",marker=\"*\",s=120)\n",
    "plt.title(\"CGPA OF 9 POINTER \",fontsize=25,color=\"black\",fontname=\"Arial\")\n",
    "plt.xlabel(\"Ranks\",fontsize=25)\n",
    "plt.ylabel(\"CGPA\",fontsize=25)\n",
    "plt.yticks(Y)\n",
    "plt.xticks(X)\n",
    "plt.show()"
   ]
  },
  {
   "cell_type": "code",
   "execution_count": 8,
   "metadata": {
    "colab": {
     "base_uri": "https://localhost:8080/",
     "height": 300
    },
    "executionInfo": {
     "elapsed": 83,
     "status": "ok",
     "timestamp": 1637121207046,
     "user": {
      "displayName": "Chetan Kate",
      "photoUrl": "https://lh3.googleusercontent.com/a-/AOh14GgngAMsPxAglnP8slcWYgTTVhQBmkMKcwmOi8T2Ag=s64",
      "userId": "02219044972344281038"
     },
     "user_tz": -330
    },
    "id": "6xztPcaJACGO",
    "outputId": "78b23c3e-eccd-49f4-8774-93ac390c1525"
   },
   "outputs": [
    {
     "data": {
      "text/html": [
       "<div>\n",
       "<style scoped>\n",
       "    .dataframe tbody tr th:only-of-type {\n",
       "        vertical-align: middle;\n",
       "    }\n",
       "\n",
       "    .dataframe tbody tr th {\n",
       "        vertical-align: top;\n",
       "    }\n",
       "\n",
       "    .dataframe thead th {\n",
       "        text-align: right;\n",
       "    }\n",
       "</style>\n",
       "<table border=\"1\" class=\"dataframe\">\n",
       "  <thead>\n",
       "    <tr style=\"text-align: right;\">\n",
       "      <th></th>\n",
       "      <th>rollno</th>\n",
       "      <th>cgpa</th>\n",
       "      <th>rank</th>\n",
       "    </tr>\n",
       "  </thead>\n",
       "  <tbody>\n",
       "    <tr>\n",
       "      <th>0</th>\n",
       "      <td>1</td>\n",
       "      <td>5.215008</td>\n",
       "      <td>9000</td>\n",
       "    </tr>\n",
       "    <tr>\n",
       "      <th>1</th>\n",
       "      <td>2</td>\n",
       "      <td>6.161833</td>\n",
       "      <td>9001</td>\n",
       "    </tr>\n",
       "    <tr>\n",
       "      <th>3</th>\n",
       "      <td>4</td>\n",
       "      <td>6.889414</td>\n",
       "      <td>9003</td>\n",
       "    </tr>\n",
       "    <tr>\n",
       "      <th>5</th>\n",
       "      <td>6</td>\n",
       "      <td>5.460920</td>\n",
       "      <td>9005</td>\n",
       "    </tr>\n",
       "    <tr>\n",
       "      <th>7</th>\n",
       "      <td>8</td>\n",
       "      <td>6.419625</td>\n",
       "      <td>9007</td>\n",
       "    </tr>\n",
       "    <tr>\n",
       "      <th>9</th>\n",
       "      <td>10</td>\n",
       "      <td>6.580631</td>\n",
       "      <td>9009</td>\n",
       "    </tr>\n",
       "    <tr>\n",
       "      <th>10</th>\n",
       "      <td>11</td>\n",
       "      <td>6.497459</td>\n",
       "      <td>9010</td>\n",
       "    </tr>\n",
       "    <tr>\n",
       "      <th>13</th>\n",
       "      <td>14</td>\n",
       "      <td>5.076682</td>\n",
       "      <td>9013</td>\n",
       "    </tr>\n",
       "  </tbody>\n",
       "</table>\n",
       "</div>"
      ],
      "text/plain": [
       "    rollno      cgpa  rank\n",
       "0        1  5.215008  9000\n",
       "1        2  6.161833  9001\n",
       "3        4  6.889414  9003\n",
       "5        6  5.460920  9005\n",
       "7        8  6.419625  9007\n",
       "9       10  6.580631  9009\n",
       "10      11  6.497459  9010\n",
       "13      14  5.076682  9013"
      ]
     },
     "execution_count": 8,
     "metadata": {},
     "output_type": "execute_result"
    }
   ],
   "source": [
    "\n",
    "df1=dataset_1[dataset_1['cgpa']<=8]\n",
    "rank_2=df1.head(8)\n",
    "rank_2"
   ]
  },
  {
   "cell_type": "code",
   "execution_count": 31,
   "metadata": {
    "colab": {
     "base_uri": "https://localhost:8080/"
    },
    "executionInfo": {
     "elapsed": 403,
     "status": "ok",
     "timestamp": 1637121597257,
     "user": {
      "displayName": "Chetan Kate",
      "photoUrl": "https://lh3.googleusercontent.com/a-/AOh14GgngAMsPxAglnP8slcWYgTTVhQBmkMKcwmOi8T2Ag=s64",
      "userId": "02219044972344281038"
     },
     "user_tz": -330
    },
    "id": "ZcFWuRCRAXMI",
    "outputId": "fd31916a-3966-4464-ce9c-cc45cf7c8839"
   },
   "outputs": [
    {
     "name": "stdout",
     "output_type": "stream",
     "text": [
      "0     5.215008\n",
      "1     6.161833\n",
      "3     6.889414\n",
      "5     5.460920\n",
      "7     6.419625\n",
      "9     6.580631\n",
      "10    6.497459\n",
      "13    5.076682\n",
      "Name: cgpa, dtype: float64\n",
      "------------------------------\n",
      "0     9000\n",
      "1     9001\n",
      "3     9003\n",
      "5     9005\n",
      "7     9007\n",
      "9     9009\n",
      "10    9010\n",
      "13    9013\n",
      "Name: rank, dtype: int64\n"
     ]
    }
   ],
   "source": [
    "A=rank_2['cgpa']\n",
    "B=rank_2['rank']\n",
    "print(A)\n",
    "print('-'*30)\n",
    "print(B)"
   ]
  },
  {
   "cell_type": "code",
   "execution_count": 10,
   "metadata": {
    "colab": {
     "base_uri": "https://localhost:8080/",
     "height": 290
    },
    "executionInfo": {
     "elapsed": 93,
     "status": "ok",
     "timestamp": 1637121207075,
     "user": {
      "displayName": "Chetan Kate",
      "photoUrl": "https://lh3.googleusercontent.com/a-/AOh14GgngAMsPxAglnP8slcWYgTTVhQBmkMKcwmOi8T2Ag=s64",
      "userId": "02219044972344281038"
     },
     "user_tz": -330
    },
    "id": "Std-as21Amfb",
    "outputId": "600b95b4-8009-46cb-e90a-e904d6fdc3ac"
   },
   "outputs": [
    {
     "data": {
      "image/png": "[encoded data removed]",
      "text/plain": [
       "<Figure size 432x288 with 1 Axes>"
      ]
     },
     "metadata": {
      "needs_background": "light"
     },
     "output_type": "display_data"
    }
   ],
   "source": [
    "plt.plot(A,B)\n",
    "plt.scatter(A,B,c=\"black\")\n",
    "plt.title(\"CGPA OF 8 POINTER \",fontsize=25,color=\"black\",fontname=\"Arial\")\n",
    "plt.show()"
   ]
  },
  {
   "cell_type": "code",
   "execution_count": 59,
   "metadata": {
    "colab": {
     "base_uri": "https://localhost:8080/"
    },
    "executionInfo": {
     "elapsed": 397,
     "status": "ok",
     "timestamp": 1637130483820,
     "user": {
      "displayName": "Chetan Kate",
      "photoUrl": "https://lh3.googleusercontent.com/a-/AOh14GgngAMsPxAglnP8slcWYgTTVhQBmkMKcwmOi8T2Ag=s64",
      "userId": "02219044972344281038"
     },
     "user_tz": -330
    },
    "id": "OIl7F1V5htoO",
    "outputId": "9cf798ad-9133-45d3-c5a8-ec9271260a68"
   },
   "outputs": [
    {
     "name": "stdout",
     "output_type": "stream",
     "text": [
      "0     5.215008\n",
      "1     6.161833\n",
      "3     6.889414\n",
      "5     5.460920\n",
      "7     6.419625\n",
      "9     6.580631\n",
      "10    6.497459\n",
      "13    5.076682\n",
      "Name: cgpa, dtype: float64\n",
      "--------------------------------------------------\n",
      "0     9000\n",
      "1     9001\n",
      "3     9003\n",
      "5     9005\n",
      "7     9007\n",
      "9     9009\n",
      "10    9010\n",
      "13    9013\n",
      "Name: rank, dtype: int64\n"
     ]
    }
   ],
   "source": [
    "df2=dataset_1[dataset_1['cgpa']<=7]\n",
    "rank_3=df2.head(8)\n",
    "\n",
    "CGPA= rank_3['cgpa']\n",
    "RANK= rank_3['rank']\n",
    "\n",
    "print(CGPA)\n",
    "print('-'*50)\n",
    "print(RANK)"
   ]
  },
  {
   "cell_type": "code",
   "execution_count": 61,
   "metadata": {
    "colab": {
     "base_uri": "https://localhost:8080/",
     "height": 318
    },
    "executionInfo": {
     "elapsed": 434,
     "status": "ok",
     "timestamp": 1637130501980,
     "user": {
      "displayName": "Chetan Kate",
      "photoUrl": "https://lh3.googleusercontent.com/a-/AOh14GgngAMsPxAglnP8slcWYgTTVhQBmkMKcwmOi8T2Ag=s64",
      "userId": "02219044972344281038"
     },
     "user_tz": -330
    },
    "id": "4xuDK4v5JcZ7",
    "outputId": "f2560368-0581-43e1-e57d-5ac0d18e3151"
   },
   "outputs": [
    {
     "data": {
      "image/png": "[encoded data removed]",
      "text/plain": [
       "<Figure size 432x288 with 1 Axes>"
      ]
     },
     "metadata": {
      "needs_background": "light"
     },
     "output_type": "display_data"
    }
   ],
   "source": [
    "a=rank_3['cgpa']\n",
    "plt.hist(a,rwidth=0.5)#rwidth is use to create a distance between 2 bar\n",
    "plt.title(\"CGPA of 7 pointer \",fontsize=25,color=\"black\",fontname=\"Arial\")\n",
    "plt.xlabel(\"cgpa\",fontsize=25)\n",
    "plt.ylabel(\"RANK\",fontsize=25)\n",
    "plt.show()"
   ]
  },
  {
   "cell_type": "code",
   "execution_count": 13,
   "metadata": {
    "colab": {
     "base_uri": "https://localhost:8080/",
     "height": 619
    },
    "executionInfo": {
     "elapsed": 81,
     "status": "ok",
     "timestamp": 1637121207796,
     "user": {
      "displayName": "Chetan Kate",
      "photoUrl": "https://lh3.googleusercontent.com/a-/AOh14GgngAMsPxAglnP8slcWYgTTVhQBmkMKcwmOi8T2Ag=s64",
      "userId": "02219044972344281038"
     },
     "user_tz": -330
    },
    "id": "Xzi4xjU3ht-4",
    "outputId": "99c61e10-5225-4b94-f729-8bb79a4684c3"
   },
   "outputs": [
    {
     "data": {
      "image/png": "[encoded data removed]",
      "text/plain": [
       "<Figure size 432x288 with 1 Axes>"
      ]
     },
     "metadata": {
      "needs_background": "light"
     },
     "output_type": "display_data"
    },
    {
     "data": {
      "image/png": "[encoded data removed]",
      "text/plain": [
       "<Figure size 432x288 with 1 Axes>"
      ]
     },
     "metadata": {
      "needs_background": "light"
     },
     "output_type": "display_data"
    }
   ],
   "source": [
    "# Scatter plot\n",
    "plt.scatter(X,Y)\n",
    "plt.title(\"CGPA OF 9 POINTER\",fontsize=25,color=\"black\",fontname=\"Arial\")\n",
    "plt.xlabel(\"CGPA\",fontsize=25,fontname='Arial')\n",
    "plt.ylabel(\"RANKS\",fontsize=25,fontname='Arial')\n",
    "plt.show()\n",
    "\n",
    "\n",
    "# Scatter plot\n",
    "plt.scatter(A,B)\n",
    "plt.title(\"CGPA OF 8 POINTER\",fontsize=25,color=\"black\",fontname=\"Arial\")\n",
    "plt.xlabel(\"CGPA\",fontsize=25,fontname='Arial')\n",
    "plt.ylabel(\"RANKS\",fontsize=25,fontname='Arial')\n",
    "plt.show()"
   ]
  },
  {
   "cell_type": "code",
   "execution_count": 14,
   "metadata": {
    "colab": {
     "base_uri": "https://localhost:8080/",
     "height": 528
    },
    "executionInfo": {
     "elapsed": 80,
     "status": "ok",
     "timestamp": 1637121207802,
     "user": {
      "displayName": "Chetan Kate",
      "photoUrl": "https://lh3.googleusercontent.com/a-/AOh14GgngAMsPxAglnP8slcWYgTTVhQBmkMKcwmOi8T2Ag=s64",
      "userId": "02219044972344281038"
     },
     "user_tz": -330
    },
    "id": "ySJSEafWnBl5",
    "outputId": "bfbd1f17-1db3-4564-8935-c74cfb560d32"
   },
   "outputs": [
    {
     "data": {
      "text/html": [
       "<div>\n",
       "<style scoped>\n",
       "    .dataframe tbody tr th:only-of-type {\n",
       "        vertical-align: middle;\n",
       "    }\n",
       "\n",
       "    .dataframe tbody tr th {\n",
       "        vertical-align: top;\n",
       "    }\n",
       "\n",
       "    .dataframe thead th {\n",
       "        text-align: right;\n",
       "    }\n",
       "</style>\n",
       "<table border=\"1\" class=\"dataframe\">\n",
       "  <thead>\n",
       "    <tr style=\"text-align: right;\">\n",
       "      <th></th>\n",
       "      <th>PassengerId</th>\n",
       "      <th>Survived</th>\n",
       "      <th>Pclass</th>\n",
       "      <th>Name</th>\n",
       "      <th>Sex</th>\n",
       "      <th>Age</th>\n",
       "      <th>SibSp</th>\n",
       "      <th>Parch</th>\n",
       "      <th>Ticket</th>\n",
       "      <th>Fare</th>\n",
       "      <th>Cabin</th>\n",
       "      <th>Embarked</th>\n",
       "    </tr>\n",
       "  </thead>\n",
       "  <tbody>\n",
       "    <tr>\n",
       "      <th>0</th>\n",
       "      <td>1</td>\n",
       "      <td>0</td>\n",
       "      <td>3</td>\n",
       "      <td>Braund, Mr. Owen Harris</td>\n",
       "      <td>male</td>\n",
       "      <td>22.0</td>\n",
       "      <td>1</td>\n",
       "      <td>0</td>\n",
       "      <td>A/5 21171</td>\n",
       "      <td>7.2500</td>\n",
       "      <td>NaN</td>\n",
       "      <td>S</td>\n",
       "    </tr>\n",
       "    <tr>\n",
       "      <th>1</th>\n",
       "      <td>2</td>\n",
       "      <td>1</td>\n",
       "      <td>1</td>\n",
       "      <td>Cumings, Mrs. John Bradley (Florence Briggs Th...</td>\n",
       "      <td>female</td>\n",
       "      <td>38.0</td>\n",
       "      <td>1</td>\n",
       "      <td>0</td>\n",
       "      <td>PC 17599</td>\n",
       "      <td>71.2833</td>\n",
       "      <td>C85</td>\n",
       "      <td>C</td>\n",
       "    </tr>\n",
       "    <tr>\n",
       "      <th>2</th>\n",
       "      <td>3</td>\n",
       "      <td>1</td>\n",
       "      <td>3</td>\n",
       "      <td>Heikkinen, Miss. Laina</td>\n",
       "      <td>female</td>\n",
       "      <td>26.0</td>\n",
       "      <td>0</td>\n",
       "      <td>0</td>\n",
       "      <td>STON/O2. 3101282</td>\n",
       "      <td>7.9250</td>\n",
       "      <td>NaN</td>\n",
       "      <td>S</td>\n",
       "    </tr>\n",
       "    <tr>\n",
       "      <th>3</th>\n",
       "      <td>4</td>\n",
       "      <td>1</td>\n",
       "      <td>1</td>\n",
       "      <td>Futrelle, Mrs. Jacques Heath (Lily May Peel)</td>\n",
       "      <td>female</td>\n",
       "      <td>35.0</td>\n",
       "      <td>1</td>\n",
       "      <td>0</td>\n",
       "      <td>113803</td>\n",
       "      <td>53.1000</td>\n",
       "      <td>C123</td>\n",
       "      <td>S</td>\n",
       "    </tr>\n",
       "    <tr>\n",
       "      <th>4</th>\n",
       "      <td>5</td>\n",
       "      <td>0</td>\n",
       "      <td>3</td>\n",
       "      <td>Allen, Mr. William Henry</td>\n",
       "      <td>male</td>\n",
       "      <td>35.0</td>\n",
       "      <td>0</td>\n",
       "      <td>0</td>\n",
       "      <td>373450</td>\n",
       "      <td>8.0500</td>\n",
       "      <td>NaN</td>\n",
       "      <td>S</td>\n",
       "    </tr>\n",
       "    <tr>\n",
       "      <th>...</th>\n",
       "      <td>...</td>\n",
       "      <td>...</td>\n",
       "      <td>...</td>\n",
       "      <td>...</td>\n",
       "      <td>...</td>\n",
       "      <td>...</td>\n",
       "      <td>...</td>\n",
       "      <td>...</td>\n",
       "      <td>...</td>\n",
       "      <td>...</td>\n",
       "      <td>...</td>\n",
       "      <td>...</td>\n",
       "    </tr>\n",
       "    <tr>\n",
       "      <th>886</th>\n",
       "      <td>887</td>\n",
       "      <td>0</td>\n",
       "      <td>2</td>\n",
       "      <td>Montvila, Rev. Juozas</td>\n",
       "      <td>male</td>\n",
       "      <td>27.0</td>\n",
       "      <td>0</td>\n",
       "      <td>0</td>\n",
       "      <td>211536</td>\n",
       "      <td>13.0000</td>\n",
       "      <td>NaN</td>\n",
       "      <td>S</td>\n",
       "    </tr>\n",
       "    <tr>\n",
       "      <th>887</th>\n",
       "      <td>888</td>\n",
       "      <td>1</td>\n",
       "      <td>1</td>\n",
       "      <td>Graham, Miss. Margaret Edith</td>\n",
       "      <td>female</td>\n",
       "      <td>19.0</td>\n",
       "      <td>0</td>\n",
       "      <td>0</td>\n",
       "      <td>112053</td>\n",
       "      <td>30.0000</td>\n",
       "      <td>B42</td>\n",
       "      <td>S</td>\n",
       "    </tr>\n",
       "    <tr>\n",
       "      <th>888</th>\n",
       "      <td>889</td>\n",
       "      <td>0</td>\n",
       "      <td>3</td>\n",
       "      <td>Johnston, Miss. Catherine Helen \"Carrie\"</td>\n",
       "      <td>female</td>\n",
       "      <td>NaN</td>\n",
       "      <td>1</td>\n",
       "      <td>2</td>\n",
       "      <td>W./C. 6607</td>\n",
       "      <td>23.4500</td>\n",
       "      <td>NaN</td>\n",
       "      <td>S</td>\n",
       "    </tr>\n",
       "    <tr>\n",
       "      <th>889</th>\n",
       "      <td>890</td>\n",
       "      <td>1</td>\n",
       "      <td>1</td>\n",
       "      <td>Behr, Mr. Karl Howell</td>\n",
       "      <td>male</td>\n",
       "      <td>26.0</td>\n",
       "      <td>0</td>\n",
       "      <td>0</td>\n",
       "      <td>111369</td>\n",
       "      <td>30.0000</td>\n",
       "      <td>C148</td>\n",
       "      <td>C</td>\n",
       "    </tr>\n",
       "    <tr>\n",
       "      <th>890</th>\n",
       "      <td>891</td>\n",
       "      <td>0</td>\n",
       "      <td>3</td>\n",
       "      <td>Dooley, Mr. Patrick</td>\n",
       "      <td>male</td>\n",
       "      <td>32.0</td>\n",
       "      <td>0</td>\n",
       "      <td>0</td>\n",
       "      <td>370376</td>\n",
       "      <td>7.7500</td>\n",
       "      <td>NaN</td>\n",
       "      <td>Q</td>\n",
       "    </tr>\n",
       "  </tbody>\n",
       "</table>\n",
       "<p>891 rows × 12 columns</p>\n",
       "</div>"
      ],
      "text/plain": [
       "     PassengerId  Survived  Pclass  ...     Fare Cabin  Embarked\n",
       "0              1         0       3  ...   7.2500   NaN         S\n",
       "1              2         1       1  ...  71.2833   C85         C\n",
       "2              3         1       3  ...   7.9250   NaN         S\n",
       "3              4         1       1  ...  53.1000  C123         S\n",
       "4              5         0       3  ...   8.0500   NaN         S\n",
       "..           ...       ...     ...  ...      ...   ...       ...\n",
       "886          887         0       2  ...  13.0000   NaN         S\n",
       "887          888         1       1  ...  30.0000   B42         S\n",
       "888          889         0       3  ...  23.4500   NaN         S\n",
       "889          890         1       1  ...  30.0000  C148         C\n",
       "890          891         0       3  ...   7.7500   NaN         Q\n",
       "\n",
       "[891 rows x 12 columns]"
      ]
     },
     "execution_count": 14,
     "metadata": {},
     "output_type": "execute_result"
    }
   ],
   "source": [
    "dataset_2"
   ]
  },
  {
   "cell_type": "code",
   "execution_count": 15,
   "metadata": {
    "colab": {
     "base_uri": "https://localhost:8080/",
     "height": 295
    },
    "executionInfo": {
     "elapsed": 79,
     "status": "ok",
     "timestamp": 1637121207805,
     "user": {
      "displayName": "Chetan Kate",
      "photoUrl": "https://lh3.googleusercontent.com/a-/AOh14GgngAMsPxAglnP8slcWYgTTVhQBmkMKcwmOi8T2Ag=s64",
      "userId": "02219044972344281038"
     },
     "user_tz": -330
    },
    "id": "jyyMghrGhuCK",
    "outputId": "b5d20a3b-8037-4e55-e404-524539c58705"
   },
   "outputs": [
    {
     "data": {
      "image/png": "[encoded data removed]",
      "text/plain": [
       "<Figure size 432x288 with 1 Axes>"
      ]
     },
     "metadata": {
      "needs_background": "light"
     },
     "output_type": "display_data"
    }
   ],
   "source": [
    "# Seaborn \n",
    "plt.title(\"CGPA VS RANK\")\n",
    "sn.scatterplot(data=rank_1,x=\"cgpa\",y=\"rank\")\n",
    "plt.xticks(rank_1[\"cgpa\"])\n",
    "plt.yticks(rank_1[\"rank\"])#to show perfect value\n",
    "plt.show()"
   ]
  },
  {
   "cell_type": "code",
   "execution_count": 16,
   "metadata": {
    "colab": {
     "base_uri": "https://localhost:8080/"
    },
    "executionInfo": {
     "elapsed": 78,
     "status": "ok",
     "timestamp": 1637121207808,
     "user": {
      "displayName": "Chetan Kate",
      "photoUrl": "https://lh3.googleusercontent.com/a-/AOh14GgngAMsPxAglnP8slcWYgTTVhQBmkMKcwmOi8T2Ag=s64",
      "userId": "02219044972344281038"
     },
     "user_tz": -330
    },
    "id": "8lukeXyuhuHe",
    "outputId": "b502143c-ea31-4271-8549-68ceec0fe4f4"
   },
   "outputs": [
    {
     "data": {
      "text/plain": [
       "array(['male', 'female'], dtype=object)"
      ]
     },
     "execution_count": 16,
     "metadata": {},
     "output_type": "execute_result"
    }
   ],
   "source": [
    "dataset_2['Sex'].unique()"
   ]
  },
  {
   "cell_type": "code",
   "execution_count": 17,
   "metadata": {
    "colab": {
     "base_uri": "https://localhost:8080/"
    },
    "executionInfo": {
     "elapsed": 844,
     "status": "ok",
     "timestamp": 1637121208583,
     "user": {
      "displayName": "Chetan Kate",
      "photoUrl": "https://lh3.googleusercontent.com/a-/AOh14GgngAMsPxAglnP8slcWYgTTVhQBmkMKcwmOi8T2Ag=s64",
      "userId": "02219044972344281038"
     },
     "user_tz": -330
    },
    "id": "PGOnoz6vhuLH",
    "outputId": "e8bd6d62-516f-4542-a1cc-0aedb8965034"
   },
   "outputs": [
    {
     "data": {
      "text/plain": [
       "male      577\n",
       "female    314\n",
       "Name: Sex, dtype: int64"
      ]
     },
     "execution_count": 17,
     "metadata": {},
     "output_type": "execute_result"
    }
   ],
   "source": [
    "dataset_2['Sex'].value_counts()"
   ]
  },
  {
   "cell_type": "code",
   "execution_count": 18,
   "metadata": {
    "colab": {
     "base_uri": "https://localhost:8080/",
     "height": 279
    },
    "executionInfo": {
     "elapsed": 82,
     "status": "ok",
     "timestamp": 1637121208590,
     "user": {
      "displayName": "Chetan Kate",
      "photoUrl": "https://lh3.googleusercontent.com/a-/AOh14GgngAMsPxAglnP8slcWYgTTVhQBmkMKcwmOi8T2Ag=s64",
      "userId": "02219044972344281038"
     },
     "user_tz": -330
    },
    "id": "2lyX56IIq8mV",
    "outputId": "b6a158ea-069c-46c2-8fc3-7068cf47a0fc"
   },
   "outputs": [
    {
     "data": {
      "image/png": "[encoded data removed]",
      "text/plain": [
       "<Figure size 432x288 with 1 Axes>"
      ]
     },
     "metadata": {
      "needs_background": "light"
     },
     "output_type": "display_data"
    }
   ],
   "source": [
    "sn.countplot(data=dataset_2,x='Sex')\n",
    "f=dataset_2['Sex'].value_counts()\n",
    "plt.yticks(f)\n",
    "plt.show()"
   ]
  },
  {
   "cell_type": "code",
   "execution_count": 19,
   "metadata": {
    "colab": {
     "base_uri": "https://localhost:8080/",
     "height": 279
    },
    "executionInfo": {
     "elapsed": 85,
     "status": "ok",
     "timestamp": 1637121208597,
     "user": {
      "displayName": "Chetan Kate",
      "photoUrl": "https://lh3.googleusercontent.com/a-/AOh14GgngAMsPxAglnP8slcWYgTTVhQBmkMKcwmOi8T2Ag=s64",
      "userId": "02219044972344281038"
     },
     "user_tz": -330
    },
    "id": "If4frRp2ros-",
    "outputId": "b831bad6-6354-41fe-e1a0-54d325f16210"
   },
   "outputs": [
    {
     "data": {
      "image/png": "[encoded data removed]",
      "text/plain": [
       "<Figure size 504x288 with 1 Axes>"
      ]
     },
     "metadata": {
      "needs_background": "light"
     },
     "output_type": "display_data"
    }
   ],
   "source": [
    "plt.figure(figsize=(7,4))\n",
    "sn.countplot(data=dataset_2,x=\"Embarked\",hue=\"Sex\")\n",
    "f=dataset_2[\"Sex\"].value_counts()\n",
    "plt.show()"
   ]
  },
  {
   "cell_type": "code",
   "execution_count": 20,
   "metadata": {
    "colab": {
     "base_uri": "https://localhost:8080/",
     "height": 279
    },
    "executionInfo": {
     "elapsed": 85,
     "status": "ok",
     "timestamp": 1637121208602,
     "user": {
      "displayName": "Chetan Kate",
      "photoUrl": "https://lh3.googleusercontent.com/a-/AOh14GgngAMsPxAglnP8slcWYgTTVhQBmkMKcwmOi8T2Ag=s64",
      "userId": "02219044972344281038"
     },
     "user_tz": -330
    },
    "id": "ygFUhXLHrowx",
    "outputId": "e48007c6-f1f2-457b-f32b-4ac7db725c1d"
   },
   "outputs": [
    {
     "data": {
      "image/png": "[encoded data removed]",
      "text/plain": [
       "<Figure size 504x288 with 1 Axes>"
      ]
     },
     "metadata": {
      "needs_background": "light"
     },
     "output_type": "display_data"
    }
   ],
   "source": [
    "plt.figure(figsize=(7,4))\n",
    "sn.countplot(data=dataset_2,x=\"Embarked\")\n",
    "f=dataset_2[\"Sex\"].value_counts()\n",
    "plt.show()"
   ]
  },
  {
   "cell_type": "code",
   "execution_count": 21,
   "metadata": {
    "colab": {
     "base_uri": "https://localhost:8080/",
     "height": 248
    },
    "executionInfo": {
     "elapsed": 84,
     "status": "ok",
     "timestamp": 1637121208605,
     "user": {
      "displayName": "Chetan Kate",
      "photoUrl": "https://lh3.googleusercontent.com/a-/AOh14GgngAMsPxAglnP8slcWYgTTVhQBmkMKcwmOi8T2Ag=s64",
      "userId": "02219044972344281038"
     },
     "user_tz": -330
    },
    "id": "Xo4TpWd-ro0H",
    "outputId": "2813bf8d-1bc6-4793-8ac5-247729052880"
   },
   "outputs": [
    {
     "data": {
      "image/png": "[encoded data removed]",
      "text/plain": [
       "<Figure size 432x288 with 1 Axes>"
      ]
     },
     "metadata": {},
     "output_type": "display_data"
    }
   ],
   "source": [
    "dataset_2['Embarked'].value_counts().plot(kind=\"pie\")\n",
    "plt.show()"
   ]
  },
  {
   "cell_type": "code",
   "execution_count": 22,
   "metadata": {
    "colab": {
     "base_uri": "https://localhost:8080/",
     "height": 248
    },
    "executionInfo": {
     "elapsed": 83,
     "status": "ok",
     "timestamp": 1637121208608,
     "user": {
      "displayName": "Chetan Kate",
      "photoUrl": "https://lh3.googleusercontent.com/a-/AOh14GgngAMsPxAglnP8slcWYgTTVhQBmkMKcwmOi8T2Ag=s64",
      "userId": "02219044972344281038"
     },
     "user_tz": -330
    },
    "id": "I0mt-ozLvrIz",
    "outputId": "90dd73d8-6b51-4053-9359-929a0315d592"
   },
   "outputs": [
    {
     "data": {
      "image/png": "[encoded data removed]",
      "text/plain": [
       "<Figure size 432x288 with 1 Axes>"
      ]
     },
     "metadata": {},
     "output_type": "display_data"
    }
   ],
   "source": [
    "dataset_2['Embarked'].value_counts().plot(kind=\"pie\",autopct=\"%.1f%%\",explode=(0,0,0.7))\n",
    "plt.show()"
   ]
  },
  {
   "cell_type": "code",
   "execution_count": 23,
   "metadata": {
    "colab": {
     "base_uri": "https://localhost:8080/",
     "height": 321
    },
    "executionInfo": {
     "elapsed": 1326,
     "status": "ok",
     "timestamp": 1637121209854,
     "user": {
      "displayName": "Chetan Kate",
      "photoUrl": "https://lh3.googleusercontent.com/a-/AOh14GgngAMsPxAglnP8slcWYgTTVhQBmkMKcwmOi8T2Ag=s64",
      "userId": "02219044972344281038"
     },
     "user_tz": -330
    },
    "id": "Us-63yLevrM7",
    "outputId": "2d000732-b0da-42e2-fb3f-6fdb7dbdb267"
   },
   "outputs": [
    {
     "data": {
      "image/png": "[encoded data removed]",
      "text/plain": [
       "<Figure size 432x288 with 2 Axes>"
      ]
     },
     "metadata": {
      "needs_background": "light"
     },
     "output_type": "display_data"
    }
   ],
   "source": [
    "sn.heatmap(dataset_2.isnull())\n",
    "plt.show()"
   ]
  },
  {
   "cell_type": "code",
   "execution_count": 24,
   "metadata": {
    "colab": {
     "base_uri": "https://localhost:8080/",
     "height": 279
    },
    "executionInfo": {
     "elapsed": 91,
     "status": "ok",
     "timestamp": 1637121209862,
     "user": {
      "displayName": "Chetan Kate",
      "photoUrl": "https://lh3.googleusercontent.com/a-/AOh14GgngAMsPxAglnP8slcWYgTTVhQBmkMKcwmOi8T2Ag=s64",
      "userId": "02219044972344281038"
     },
     "user_tz": -330
    },
    "id": "ZbgzDblovrQh",
    "outputId": "4db09aeb-f400-4832-f6fc-70495f2684c4"
   },
   "outputs": [
    {
     "data": {
      "image/png": "[encoded data removed]",
      "text/plain": [
       "<Figure size 432x288 with 1 Axes>"
      ]
     },
     "metadata": {
      "needs_background": "light"
     },
     "output_type": "display_data"
    }
   ],
   "source": [
    "sn.boxplot(data=dataset_2,x=\"Age\")\n",
    "plt.show()"
   ]
  },
  {
   "cell_type": "code",
   "execution_count": 25,
   "metadata": {
    "colab": {
     "base_uri": "https://localhost:8080/"
    },
    "executionInfo": {
     "elapsed": 80,
     "status": "ok",
     "timestamp": 1637121209865,
     "user": {
      "displayName": "Chetan Kate",
      "photoUrl": "https://lh3.googleusercontent.com/a-/AOh14GgngAMsPxAglnP8slcWYgTTVhQBmkMKcwmOi8T2Ag=s64",
      "userId": "02219044972344281038"
     },
     "user_tz": -330
    },
    "id": "Fx43ef0R-S5M",
    "outputId": "2cb6dc53-c2ee-47d1-93bf-9c2fdb41ac33"
   },
   "outputs": [
    {
     "data": {
      "text/plain": [
       "PassengerId      0\n",
       "Survived         0\n",
       "Pclass           0\n",
       "Name             0\n",
       "Sex              0\n",
       "Age            177\n",
       "SibSp            0\n",
       "Parch            0\n",
       "Ticket           0\n",
       "Fare             0\n",
       "Cabin          687\n",
       "Embarked         2\n",
       "dtype: int64"
      ]
     },
     "execution_count": 25,
     "metadata": {},
     "output_type": "execute_result"
    }
   ],
   "source": [
    "dataset_2.isnull().sum()"
   ]
  },
  {
   "cell_type": "code",
   "execution_count": 26,
   "metadata": {
    "colab": {
     "base_uri": "https://localhost:8080/",
     "height": 320
    },
    "executionInfo": {
     "elapsed": 79,
     "status": "ok",
     "timestamp": 1637121209871,
     "user": {
      "displayName": "Chetan Kate",
      "photoUrl": "https://lh3.googleusercontent.com/a-/AOh14GgngAMsPxAglnP8slcWYgTTVhQBmkMKcwmOi8T2Ag=s64",
      "userId": "02219044972344281038"
     },
     "user_tz": -330
    },
    "id": "f-WKUlxe0eVz",
    "outputId": "bba0ef9b-e517-45f6-890f-8f9798a35ec1"
   },
   "outputs": [
    {
     "data": {
      "image/png": "[encoded data removed]",
      "text/plain": [
       "<Figure size 432x288 with 2 Axes>"
      ]
     },
     "metadata": {
      "needs_background": "light"
     },
     "output_type": "display_data"
    }
   ],
   "source": [
    "sn.heatmap(dataset_2.corr(),annot=True)#annot means annotation show the value\n",
    "plt.show()"
   ]
  },
  {
   "cell_type": "code",
   "execution_count": 27,
   "metadata": {
    "colab": {
     "base_uri": "https://localhost:8080/"
    },
    "executionInfo": {
     "elapsed": 79,
     "status": "ok",
     "timestamp": 1637121209875,
     "user": {
      "displayName": "Chetan Kate",
      "photoUrl": "https://lh3.googleusercontent.com/a-/AOh14GgngAMsPxAglnP8slcWYgTTVhQBmkMKcwmOi8T2Ag=s64",
      "userId": "02219044972344281038"
     },
     "user_tz": -330
    },
    "id": "0Ho3lvaT967l",
    "outputId": "672db23b-8feb-4580-86b0-084eb321d5a4"
   },
   "outputs": [
    {
     "data": {
      "text/plain": [
       "PassengerId    0.000000\n",
       "Survived       0.478523\n",
       "Pclass        -0.630548\n",
       "Age            0.389108\n",
       "SibSp          3.695352\n",
       "Parch          2.749117\n",
       "Fare           4.787317\n",
       "dtype: float64"
      ]
     },
     "execution_count": 27,
     "metadata": {},
     "output_type": "execute_result"
    }
   ],
   "source": [
    "dataset_2.skew()"
   ]
  },
  {
   "cell_type": "code",
   "execution_count": 28,
   "metadata": {
    "colab": {
     "base_uri": "https://localhost:8080/",
     "height": 334
    },
    "executionInfo": {
     "elapsed": 685,
     "status": "ok",
     "timestamp": 1637121210489,
     "user": {
      "displayName": "Chetan Kate",
      "photoUrl": "https://lh3.googleusercontent.com/a-/AOh14GgngAMsPxAglnP8slcWYgTTVhQBmkMKcwmOi8T2Ag=s64",
      "userId": "02219044972344281038"
     },
     "user_tz": -330
    },
    "id": "AVvSBg9P0lC3",
    "outputId": "f6770593-641d-491d-d74c-d0c0e6a9458b"
   },
   "outputs": [
    {
     "name": "stderr",
     "output_type": "stream",
     "text": [
      "/usr/local/lib/python3.7/dist-packages/seaborn/distributions.py:2619: FutureWarning: `distplot` is a deprecated function and will be removed in a future version. Please adapt your code to use either `displot` (a figure-level function with similar flexibility) or `histplot` (an axes-level function for histograms).\n",
      "  warnings.warn(msg, FutureWarning)\n"
     ]
    },
    {
     "data": {
      "image/png": "[encoded data removed]",
      "text/plain": [
       "<Figure size 432x288 with 1 Axes>"
      ]
     },
     "metadata": {
      "needs_background": "light"
     },
     "output_type": "display_data"
    }
   ],
   "source": [
    "sn.distplot(dataset_2[\"Age\"],hist=True)\n",
    "plt.show()"
   ]
  },
  {
   "cell_type": "code",
   "execution_count": 29,
   "metadata": {
    "colab": {
     "base_uri": "https://localhost:8080/",
     "height": 592
    },
    "executionInfo": {
     "elapsed": 1880,
     "status": "ok",
     "timestamp": 1637121212359,
     "user": {
      "displayName": "Chetan Kate",
      "photoUrl": "https://lh3.googleusercontent.com/a-/AOh14GgngAMsPxAglnP8slcWYgTTVhQBmkMKcwmOi8T2Ag=s64",
      "userId": "02219044972344281038"
     },
     "user_tz": -330
    },
    "id": "urRxRq1Z0lT5",
    "outputId": "5e1425ad-73b0-45d7-d59a-cd111b9912a0"
   },
   "outputs": [
    {
     "data": {
      "image/png": "[encoded data removed]",
      "text/plain": [
       "<Figure size 720x720 with 1 Axes>"
      ]
     },
     "metadata": {
      "needs_background": "light"
     },
     "output_type": "display_data"
    }
   ],
   "source": [
    "plt.figure(figsize=(10,10))\n",
    "plt.hist(dataset_2['Parch'])\n",
    "plt.xticks(dataset_2['Parch'])\n",
    "plt.show()"
   ]
  },
  {
   "cell_type": "code",
   "execution_count": 29,
   "metadata": {
    "executionInfo": {
     "elapsed": 32,
     "status": "ok",
     "timestamp": 1637121212361,
     "user": {
      "displayName": "Chetan Kate",
      "photoUrl": "https://lh3.googleusercontent.com/a-/AOh14GgngAMsPxAglnP8slcWYgTTVhQBmkMKcwmOi8T2Ag=s64",
      "userId": "02219044972344281038"
     },
     "user_tz": -330
    },
    "id": "yTxLk71t890B"
   },
   "outputs": [],
   "source": []
  }
 ],
 "metadata": {
  "colab": {
   "authorship_tag": "ABX9TyNxhu1z4I/ICV1mzBGbz92q",
   "collapsed_sections": [],
   "mount_file_id": "12n8CnCFjcha3Wym5oymSRp6alheCwj-z",
   "name": "matplotlib.ipynb",
   "provenance": []
  },
  "kernelspec": {
   "display_name": "Python 3",
   "language": "python",
   "name": "python3"
  },
  "language_info": {
   "codemirror_mode": {
    "name": "ipython",
    "version": 3
   },
   "file_extension": ".py",
   "mimetype": "text/x-python",
   "name": "python",
   "nbconvert_exporter": "python",
   "pygments_lexer": "ipython3",
   "version": "3.8.8"
  }
 },
 "nbformat": 4,
 "nbformat_minor": 1
}
